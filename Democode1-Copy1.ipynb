{
 "cells": [
  {
   "cell_type": "code",
   "execution_count": 25,
   "metadata": {},
   "outputs": [
    {
     "name": "stdout",
     "output_type": "stream",
     "text": [
      "0.23.0\n"
     ]
    }
   ],
   "source": [
    "import matplotlib\n",
    "import pathlib\n",
    "\n",
    "import mne\n",
    "print(mne.__version__)\n",
    "\n",
    "from scipy.io import loadmat, savemat\n",
    "from fracModel import fracOrdUU\n",
    "import os\n",
    "import numpy as np"
   ]
  },
  {
   "cell_type": "code",
   "execution_count": 26,
   "metadata": {},
   "outputs": [],
   "source": [
    "matplotlib.use('Qt5Agg')"
   ]
  },
  {
   "cell_type": "code",
   "execution_count": 27,
   "metadata": {},
   "outputs": [],
   "source": [
    "#Locations - Sahil\n",
    "location_av = \"D:\\Documents\\CS637 project\\Original Dataset\\data_set_IVa_av_mat\\\\100Hz\\data_set_IVa_av.mat\""
   ]
  },
  {
   "cell_type": "code",
   "execution_count": 28,
   "metadata": {},
   "outputs": [],
   "source": [
    "import scipy.io\n",
    "mat = scipy.io.loadmat(location_av)"
   ]
  },
  {
   "cell_type": "code",
   "execution_count": 29,
   "metadata": {},
   "outputs": [],
   "source": [
    "def get_A(X):\n",
    "    \n",
    "    meanX = np.mean(X, axis=1)\n",
    "    X = X.T - meanX\n",
    "    X = X.T\n",
    "    fModel = fracOrdUU(verbose=1)\n",
    "    fModel.fit(X)\n",
    "    \n",
    "    return fModel._AMat[-1]"
   ]
  },
  {
   "cell_type": "code",
   "execution_count": 30,
   "metadata": {},
   "outputs": [],
   "source": [
    "sfreq = mat['nfo']['fs'][0][0][0][0]\n",
    "\n",
    "EEGdata = mat['cnt'].T\n",
    "EEGdata = 1e-1*EEGdata   #To convert to uV\n",
    "\n",
    "nchannels, nsamples = EEGdata.shape\n",
    "\n",
    "ch_names = [s[0] for s in mat['nfo']['clab'][0][0][0]]\n",
    "\n",
    "event_onsets = mat['mrk'][0][0][0]\n",
    "event_codes = mat['mrk'][0][0][1]\n",
    "\n",
    "labels = np.zeros((1, nsamples), int)\n",
    "labels[0, event_onsets] = event_codes\n",
    "\n",
    "cl_lab = [s[0] for s in mat['mrk']['className'][0][0][0]]\n",
    "cl1 = cl_lab[0]\n",
    "cl2 = cl_lab[1]\n",
    "\n",
    "xpos = mat['nfo']['xpos'][0][0]\n",
    "ypos = mat['nfo']['ypos'][0][0]\n",
    "\n",
    "nclasses = len(cl_lab)\n",
    "nevents = len(event_onsets.transpose())"
   ]
  },
  {
   "cell_type": "code",
   "execution_count": 31,
   "metadata": {},
   "outputs": [],
   "source": [
    "trials = {}\n",
    "\n",
    "win = np.arange(int(0*sfreq), int(3*sfreq))    # Epoch size of each trial (0 to 3 sec)\n",
    "nsamples = len(win)"
   ]
  },
  {
   "cell_type": "code",
   "execution_count": 32,
   "metadata": {},
   "outputs": [],
   "source": [
    "for cl, code in zip(cl_lab, np.unique(event_codes)):\n",
    "    cl_onsets = event_onsets[event_codes == code]\n",
    "    trials[cl] = np.zeros((nchannels, nsamples, len(cl_onsets)))\n",
    "    for i, onset in enumerate(cl_onsets):\n",
    "        trials[cl][:, :, i] = EEGdata[:, win+onset]"
   ]
  },
  {
   "cell_type": "code",
   "execution_count": 33,
   "metadata": {},
   "outputs": [],
   "source": [
    "right = np.rollaxis(trials[cl1], 2, 0)\n",
    "foot = np.rollaxis(trials[cl2], 2, 0)"
   ]
  },
  {
   "cell_type": "code",
   "execution_count": 34,
   "metadata": {},
   "outputs": [],
   "source": [
    "data = np.concatenate([right, foot])"
   ]
  },
  {
   "cell_type": "code",
   "execution_count": 35,
   "metadata": {},
   "outputs": [],
   "source": [
    "Y = np.concatenate([-np.ones(right.shape[0]), np.ones(foot.shape[0])])    # Labeling right as -1 and foot as 1"
   ]
  },
  {
   "cell_type": "code",
   "execution_count": 36,
   "metadata": {},
   "outputs": [],
   "source": [
    "# Converting to BIDS using mne\n",
    "n_channels = 118\n",
    "\n",
    "info = mne.create_info(\n",
    "ch_names = ch_names,\n",
    "ch_types = ['eeg']*nchannels,\n",
    "sfreq = sfreq)\n",
    "\n",
    "layout_pos = np.concatenate([xpos, ypos], axis = 1)\n",
    "\n",
    "layout = mne.channels.generate_2d_layout(\n",
    "xy = layout_pos,\n",
    "ch_names = ch_names,\n",
    "name = \"EEG custom layout\")"
   ]
  },
  {
   "cell_type": "code",
   "execution_count": 37,
   "metadata": {},
   "outputs": [],
   "source": [
    "event_id = dict(right = -1, foot = 1)\n",
    "\n",
    "eventLength = Y.shape[0]\n",
    "ev = [i*sfreq*3 for i in range(eventLength)]\n",
    "\n",
    "events = np.column_stack((np.array(ev, dtype = int),\n",
    "                         np.zeros(eventLength, dtype = int),\n",
    "                         np.array(Y, dtype = int)))"
   ]
  },
  {
   "cell_type": "code",
   "execution_count": 38,
   "metadata": {},
   "outputs": [
    {
     "name": "stdout",
     "output_type": "stream",
     "text": [
      "Not setting metadata\n",
      "Not setting metadata\n",
      "84 matching events found\n",
      "No baseline correction applied\n",
      "0 projection items activated\n",
      "0 bad epochs dropped\n"
     ]
    }
   ],
   "source": [
    "tmin = 0\n",
    "epochs = mne.EpochsArray(data, info, events, tmin, event_id)"
   ]
  },
  {
   "cell_type": "code",
   "execution_count": 39,
   "metadata": {},
   "outputs": [],
   "source": [
    "final_ch_list = [\"T7\", \"C5\", \"C3\", \"C1\", \"Cz\", \"C2\", \"C4\", \"C6\", \"T8\"] #Channels which affect motor controls the most"
   ]
  },
  {
   "cell_type": "code",
   "execution_count": 40,
   "metadata": {},
   "outputs": [],
   "source": [
    "#epochs.plot(picks = final_ch_list);"
   ]
  },
  {
   "cell_type": "code",
   "execution_count": 41,
   "metadata": {},
   "outputs": [
    {
     "data": {
      "text/plain": [
       "(84, 9, 300)"
      ]
     },
     "execution_count": 41,
     "metadata": {},
     "output_type": "execute_result"
    }
   ],
   "source": [
    "edata = epochs.get_data(picks = final_ch_list)\n",
    "edata.shape"
   ]
  },
  {
   "cell_type": "code",
   "execution_count": 42,
   "metadata": {},
   "outputs": [
    {
     "data": {
      "text/plain": [
       "array([[-18.1, -23. , -20.9, ..., -28.5, -21. , -15.4],\n",
       "       [ 38.4,  16.2,  24.1, ...,  24. ,  37.4,  42.7],\n",
       "       [ -2.7, -11.4,  -6.7, ..., -12.9,  -1.4,   4.5],\n",
       "       ...,\n",
       "       [ 30.5,  24. ,  19.2, ...,  14.3,  23.3,  20.3],\n",
       "       [ 46.9,  44. ,  38.9, ...,  35.4,  41.9,  42.2],\n",
       "       [ -9.7,  -2.8,  -6.9, ..., -15.4, -21.3, -12. ]])"
      ]
     },
     "execution_count": 42,
     "metadata": {},
     "output_type": "execute_result"
    }
   ],
   "source": [
    "edata[0]"
   ]
  },
  {
   "cell_type": "code",
   "execution_count": 43,
   "metadata": {},
   "outputs": [
    {
     "data": {
      "text/plain": [
       "(84,)"
      ]
     },
     "execution_count": 43,
     "metadata": {},
     "output_type": "execute_result"
    }
   ],
   "source": [
    "Y.shape"
   ]
  },
  {
   "cell_type": "code",
   "execution_count": 44,
   "metadata": {
    "scrolled": true
   },
   "outputs": [
    {
     "name": "stdout",
     "output_type": "stream",
     "text": [
      "beginning mse = 50.926260\n",
      "iter ind = 0, mse = 13.339534\n",
      "iter ind = 1, mse = 13.333724\n",
      "iter ind = 2, mse = 13.332888\n",
      "time taken = 27.585246\n",
      "beginning mse = 36.961349\n",
      "iter ind = 0, mse = 12.842891\n",
      "iter ind = 1, mse = 12.841140\n",
      "iter ind = 2, mse = 12.839545\n",
      "time taken = 22.322572\n",
      "beginning mse = 33.095075\n",
      "iter ind = 0, mse = 5.352550\n",
      "iter ind = 1, mse = 5.352696\n",
      "iter ind = 2, mse = 5.352672\n",
      "time taken = 18.607890\n",
      "beginning mse = 32.007200\n",
      "iter ind = 0, mse = 5.453526\n",
      "iter ind = 1, mse = 5.452336\n",
      "iter ind = 2, mse = 5.451301\n",
      "time taken = 24.617291\n",
      "beginning mse = 39.676145\n",
      "iter ind = 0, mse = 9.782632\n",
      "iter ind = 1, mse = 9.780172\n",
      "iter ind = 2, mse = 9.779159\n",
      "time taken = 15.198493\n",
      "beginning mse = 45.108474\n",
      "iter ind = 0, mse = 17.128553\n",
      "iter ind = 1, mse = 17.125794\n",
      "iter ind = 2, mse = 17.124253\n",
      "time taken = 24.666912\n",
      "beginning mse = 38.304092\n",
      "iter ind = 0, mse = 7.473922\n",
      "iter ind = 1, mse = 7.472242\n",
      "iter ind = 2, mse = 7.471290\n",
      "time taken = 21.956968\n",
      "beginning mse = 59.742933\n",
      "iter ind = 0, mse = 15.606192\n",
      "iter ind = 1, mse = 15.607166\n",
      "iter ind = 2, mse = 15.607067\n",
      "time taken = 26.268709\n",
      "beginning mse = 49.318320\n",
      "iter ind = 0, mse = 11.156398\n",
      "iter ind = 1, mse = 11.156192\n",
      "iter ind = 2, mse = 11.155433\n",
      "time taken = 19.514820\n",
      "beginning mse = 40.665949\n",
      "iter ind = 0, mse = 9.218702\n",
      "iter ind = 1, mse = 9.215717\n",
      "iter ind = 2, mse = 9.214440\n",
      "time taken = 25.686724\n",
      "beginning mse = 39.913117\n",
      "iter ind = 0, mse = 5.693012\n",
      "iter ind = 1, mse = 5.692724\n",
      "iter ind = 2, mse = 5.692939\n",
      "time taken = 21.522654\n",
      "beginning mse = 49.011964\n",
      "iter ind = 0, mse = 8.806130\n",
      "iter ind = 1, mse = 8.808092\n",
      "iter ind = 2, mse = 8.808368\n",
      "time taken = 23.163043\n",
      "beginning mse = 43.919663\n",
      "iter ind = 0, mse = 7.606905\n",
      "iter ind = 1, mse = 7.606621\n",
      "iter ind = 2, mse = 7.606029\n",
      "time taken = 19.706844\n",
      "beginning mse = 79.937926\n",
      "iter ind = 0, mse = 25.089160\n",
      "iter ind = 1, mse = 25.084006\n",
      "iter ind = 2, mse = 25.081532\n",
      "time taken = 21.664152\n",
      "beginning mse = 157.908117\n",
      "iter ind = 0, mse = 43.570387\n",
      "iter ind = 1, mse = 43.565636\n",
      "iter ind = 2, mse = 43.563831\n",
      "time taken = 22.677111\n",
      "beginning mse = 178.870277\n",
      "iter ind = 0, mse = 32.336813\n",
      "iter ind = 1, mse = 32.335574\n",
      "iter ind = 2, mse = 32.335204\n",
      "time taken = 21.957247\n",
      "beginning mse = 144.145364\n",
      "iter ind = 0, mse = 32.509934\n",
      "iter ind = 1, mse = 32.506370\n",
      "iter ind = 2, mse = 32.504426\n",
      "time taken = 25.399690\n",
      "beginning mse = 62.551603\n",
      "iter ind = 0, mse = 16.154606\n",
      "iter ind = 1, mse = 16.154925\n",
      "iter ind = 2, mse = 16.154957\n",
      "time taken = 23.488137\n",
      "beginning mse = 83.089516\n",
      "iter ind = 0, mse = 8.416156\n",
      "iter ind = 1, mse = 8.417066\n",
      "iter ind = 2, mse = 8.418335\n",
      "time taken = 25.406303\n",
      "beginning mse = 78.314084\n",
      "iter ind = 0, mse = 14.297411\n",
      "iter ind = 1, mse = 14.296065\n",
      "iter ind = 2, mse = 14.294984\n",
      "time taken = 25.871116\n",
      "beginning mse = 80.577539\n",
      "iter ind = 0, mse = 18.112147\n",
      "iter ind = 1, mse = 18.109860\n",
      "iter ind = 2, mse = 18.109004\n",
      "time taken = 22.561143\n",
      "beginning mse = 98.839805\n",
      "iter ind = 0, mse = 28.032545\n",
      "iter ind = 1, mse = 28.035456\n",
      "iter ind = 2, mse = 28.037142\n",
      "time taken = 29.623118\n",
      "beginning mse = 95.434180\n",
      "iter ind = 0, mse = 31.146388\n",
      "iter ind = 1, mse = 31.145410\n",
      "iter ind = 2, mse = 31.145011\n",
      "time taken = 29.998993\n",
      "beginning mse = 69.404058\n",
      "iter ind = 0, mse = 26.709752\n",
      "iter ind = 1, mse = 26.710575\n",
      "iter ind = 2, mse = 26.711743\n",
      "time taken = 30.205192\n",
      "beginning mse = 77.215533\n",
      "iter ind = 0, mse = 21.377226\n",
      "iter ind = 1, mse = 21.376002\n",
      "iter ind = 2, mse = 21.375112\n",
      "time taken = 22.359056\n",
      "beginning mse = 69.133217\n",
      "iter ind = 0, mse = 16.551031\n",
      "iter ind = 1, mse = 16.551027\n",
      "iter ind = 2, mse = 16.550700\n",
      "time taken = 28.880938\n",
      "beginning mse = 65.496659\n",
      "iter ind = 0, mse = 16.687957\n",
      "iter ind = 1, mse = 16.687613\n",
      "iter ind = 2, mse = 16.686919\n",
      "time taken = 29.156607\n",
      "beginning mse = 34.588420\n",
      "iter ind = 0, mse = 5.617641\n",
      "iter ind = 1, mse = 5.615567\n",
      "iter ind = 2, mse = 5.614312\n",
      "time taken = 24.733757\n",
      "beginning mse = 29.231670\n",
      "iter ind = 0, mse = 3.634308\n",
      "iter ind = 1, mse = 3.633990\n",
      "iter ind = 2, mse = 3.633491\n",
      "time taken = 20.278059\n",
      "beginning mse = 35.080326\n",
      "iter ind = 0, mse = 5.786857\n",
      "iter ind = 1, mse = 5.786494\n",
      "iter ind = 2, mse = 5.786239\n",
      "time taken = 29.448205\n",
      "beginning mse = 60.792060\n",
      "iter ind = 0, mse = 28.451445\n",
      "iter ind = 1, mse = 28.451383\n",
      "iter ind = 2, mse = 28.451156\n",
      "time taken = 37.055270\n",
      "beginning mse = 42.580294\n",
      "iter ind = 0, mse = 7.051078\n",
      "iter ind = 1, mse = 7.050428\n",
      "iter ind = 2, mse = 7.050206\n",
      "time taken = 32.997949\n",
      "beginning mse = 59.380533\n",
      "iter ind = 0, mse = 10.070234\n",
      "iter ind = 1, mse = 10.068000\n",
      "iter ind = 2, mse = 10.066748\n",
      "time taken = 33.801441\n",
      "beginning mse = 79.293826\n",
      "iter ind = 0, mse = 27.718948\n",
      "iter ind = 1, mse = 27.716431\n",
      "iter ind = 2, mse = 27.715349\n",
      "time taken = 36.721765\n",
      "beginning mse = 81.414559\n",
      "iter ind = 0, mse = 21.478794\n",
      "iter ind = 1, mse = 21.473136\n",
      "iter ind = 2, mse = 21.470678\n",
      "time taken = 40.475178\n",
      "beginning mse = 49.059622\n",
      "iter ind = 0, mse = 10.029806\n",
      "iter ind = 1, mse = 10.030142\n",
      "iter ind = 2, mse = 10.030078\n",
      "time taken = 41.477618\n",
      "beginning mse = 50.087737\n",
      "iter ind = 0, mse = 13.534264\n",
      "iter ind = 1, mse = 13.533194\n",
      "iter ind = 2, mse = 13.532790\n",
      "time taken = 34.922582\n",
      "beginning mse = 42.291376\n",
      "iter ind = 0, mse = 8.352825\n",
      "iter ind = 1, mse = 8.354506\n",
      "iter ind = 2, mse = 8.355616\n",
      "time taken = 40.574477\n",
      "beginning mse = 30.258268\n",
      "iter ind = 0, mse = 6.320453\n",
      "iter ind = 1, mse = 6.316747\n",
      "iter ind = 2, mse = 6.315151\n",
      "time taken = 43.588254\n",
      "beginning mse = 32.065234\n",
      "iter ind = 0, mse = 6.413753\n",
      "iter ind = 1, mse = 6.412490\n",
      "iter ind = 2, mse = 6.412029\n",
      "time taken = 37.450183\n",
      "beginning mse = 40.418579\n",
      "iter ind = 0, mse = 8.204302\n",
      "iter ind = 1, mse = 8.200517\n",
      "iter ind = 2, mse = 8.197367\n",
      "time taken = 40.648618\n",
      "beginning mse = 43.575443\n",
      "iter ind = 0, mse = 9.948261\n",
      "iter ind = 1, mse = 9.945954\n",
      "iter ind = 2, mse = 9.944742\n",
      "time taken = 43.670509\n",
      "beginning mse = 39.598893\n",
      "iter ind = 0, mse = 8.107948\n",
      "iter ind = 1, mse = 8.106994\n",
      "iter ind = 2, mse = 8.105647\n",
      "time taken = 37.682004\n",
      "beginning mse = 70.056888\n",
      "iter ind = 0, mse = 9.037834\n",
      "iter ind = 1, mse = 9.039294\n",
      "iter ind = 2, mse = 9.040168\n",
      "time taken = 41.983968\n",
      "beginning mse = 43.069915\n",
      "iter ind = 0, mse = 7.142659\n",
      "iter ind = 1, mse = 7.141762\n",
      "iter ind = 2, mse = 7.140457\n",
      "time taken = 40.725087\n",
      "beginning mse = 28.317163\n",
      "iter ind = 0, mse = 4.705967\n",
      "iter ind = 1, mse = 4.705672\n",
      "iter ind = 2, mse = 4.705399\n",
      "time taken = 32.359451\n",
      "beginning mse = 31.963780\n",
      "iter ind = 0, mse = 7.805831\n",
      "iter ind = 1, mse = 7.804112\n",
      "iter ind = 2, mse = 7.803672\n",
      "time taken = 42.291673\n",
      "beginning mse = 50.512919\n",
      "iter ind = 0, mse = 11.190847\n",
      "iter ind = 1, mse = 11.189581\n",
      "iter ind = 2, mse = 11.189248\n",
      "time taken = 32.038923\n",
      "beginning mse = 39.844051\n",
      "iter ind = 0, mse = 11.098381\n",
      "iter ind = 1, mse = 11.098772\n",
      "iter ind = 2, mse = 11.097991\n",
      "time taken = 28.651618\n",
      "beginning mse = 52.516797\n",
      "iter ind = 0, mse = 20.210080\n",
      "iter ind = 1, mse = 20.207480\n",
      "iter ind = 2, mse = 20.206340\n",
      "time taken = 28.453481\n",
      "beginning mse = 41.816940\n",
      "iter ind = 0, mse = 7.680835\n",
      "iter ind = 1, mse = 7.680329\n",
      "iter ind = 2, mse = 7.679864\n",
      "time taken = 28.673420\n",
      "beginning mse = 65.154198\n",
      "iter ind = 0, mse = 10.762806\n",
      "iter ind = 1, mse = 10.762689\n",
      "iter ind = 2, mse = 10.761694\n",
      "time taken = 26.662733\n",
      "beginning mse = 45.656516\n",
      "iter ind = 0, mse = 7.577901\n",
      "iter ind = 1, mse = 7.576845\n",
      "iter ind = 2, mse = 7.576693\n",
      "time taken = 25.981277\n",
      "beginning mse = 56.276748\n",
      "iter ind = 0, mse = 16.118933\n",
      "iter ind = 1, mse = 16.118774\n",
      "iter ind = 2, mse = 16.118711\n",
      "time taken = 30.968283\n",
      "beginning mse = 54.525818\n",
      "iter ind = 0, mse = 9.100044\n",
      "iter ind = 1, mse = 9.101209\n",
      "iter ind = 2, mse = 9.101188\n",
      "time taken = 35.111172\n",
      "beginning mse = 69.546002\n",
      "iter ind = 0, mse = 15.567784\n",
      "iter ind = 1, mse = 15.564265\n",
      "iter ind = 2, mse = 15.562309\n",
      "time taken = 27.779274\n",
      "beginning mse = 58.976111\n",
      "iter ind = 0, mse = 13.422385\n",
      "iter ind = 1, mse = 13.421559\n",
      "iter ind = 2, mse = 13.420894\n",
      "time taken = 33.349444\n",
      "beginning mse = 191.289876\n",
      "iter ind = 0, mse = 37.894066\n",
      "iter ind = 1, mse = 37.891090\n",
      "iter ind = 2, mse = 37.890168\n",
      "time taken = 34.489479\n",
      "beginning mse = 176.467749\n",
      "iter ind = 0, mse = 25.096742\n",
      "iter ind = 1, mse = 25.091048\n",
      "iter ind = 2, mse = 25.088159\n",
      "time taken = 28.550452\n",
      "beginning mse = 69.998449\n",
      "iter ind = 0, mse = 9.984343\n",
      "iter ind = 1, mse = 9.984234\n",
      "iter ind = 2, mse = 9.983702\n",
      "time taken = 25.465262\n",
      "beginning mse = 82.084978\n",
      "iter ind = 0, mse = 28.864349\n",
      "iter ind = 1, mse = 28.864619\n",
      "iter ind = 2, mse = 28.865317\n",
      "time taken = 38.005424\n",
      "beginning mse = 101.558977\n",
      "iter ind = 0, mse = 23.954039\n",
      "iter ind = 1, mse = 23.953391\n",
      "iter ind = 2, mse = 23.952953\n",
      "time taken = 33.790827\n",
      "beginning mse = 84.610001\n",
      "iter ind = 0, mse = 19.824267\n",
      "iter ind = 1, mse = 19.821598\n",
      "iter ind = 2, mse = 19.820808\n",
      "time taken = 17.297879\n",
      "beginning mse = 79.392312\n",
      "iter ind = 0, mse = 14.130050\n",
      "iter ind = 1, mse = 14.127211\n",
      "iter ind = 2, mse = 14.124606\n",
      "time taken = 31.263041\n",
      "beginning mse = 97.583639\n",
      "iter ind = 0, mse = 24.711781\n",
      "iter ind = 1, mse = 24.711488\n",
      "iter ind = 2, mse = 24.710262\n",
      "time taken = 26.366341\n",
      "beginning mse = 30.455908\n",
      "iter ind = 0, mse = 4.897976\n",
      "iter ind = 1, mse = 4.893527\n",
      "iter ind = 2, mse = 4.891185\n",
      "time taken = 32.402421\n",
      "beginning mse = 23.672683\n",
      "iter ind = 0, mse = 4.606490\n",
      "iter ind = 1, mse = 4.606709\n",
      "iter ind = 2, mse = 4.606449\n",
      "time taken = 25.570662\n",
      "beginning mse = 37.977030\n",
      "iter ind = 0, mse = 10.180952\n",
      "iter ind = 1, mse = 10.178303\n",
      "iter ind = 2, mse = 10.177771\n",
      "time taken = 22.420186\n",
      "beginning mse = 32.278266\n",
      "iter ind = 0, mse = 4.908463\n",
      "iter ind = 1, mse = 4.908297\n",
      "iter ind = 2, mse = 4.907917\n",
      "time taken = 28.626814\n",
      "beginning mse = 48.920716\n",
      "iter ind = 0, mse = 19.190476\n",
      "iter ind = 1, mse = 19.185682\n",
      "iter ind = 2, mse = 19.183315\n",
      "time taken = 30.254310\n",
      "beginning mse = 62.576371\n",
      "iter ind = 0, mse = 8.295152\n",
      "iter ind = 1, mse = 8.291044\n",
      "iter ind = 2, mse = 8.287945\n",
      "time taken = 34.104916\n",
      "beginning mse = 60.327913\n",
      "iter ind = 0, mse = 15.631616\n",
      "iter ind = 1, mse = 15.630884\n",
      "iter ind = 2, mse = 15.630484\n",
      "time taken = 35.287905\n",
      "beginning mse = 121.814228\n",
      "iter ind = 0, mse = 23.716042\n",
      "iter ind = 1, mse = 23.715504\n",
      "iter ind = 2, mse = 23.714768\n",
      "time taken = 33.305502\n",
      "beginning mse = 55.462962\n",
      "iter ind = 0, mse = 9.288698\n",
      "iter ind = 1, mse = 9.288570\n",
      "iter ind = 2, mse = 9.287764\n",
      "time taken = 32.092562\n",
      "beginning mse = 64.895724\n",
      "iter ind = 0, mse = 34.264265\n",
      "iter ind = 1, mse = 34.260142\n",
      "iter ind = 2, mse = 34.257318\n",
      "time taken = 31.196797\n",
      "beginning mse = 72.905066\n",
      "iter ind = 0, mse = 20.268311\n",
      "iter ind = 1, mse = 20.267670\n",
      "iter ind = 2, mse = 20.267369\n",
      "time taken = 32.450894\n",
      "beginning mse = 93.463281\n",
      "iter ind = 0, mse = 32.892914\n",
      "iter ind = 1, mse = 32.892476\n",
      "iter ind = 2, mse = 32.891935\n",
      "time taken = 32.252979\n",
      "beginning mse = 38.265692\n",
      "iter ind = 0, mse = 9.091012\n",
      "iter ind = 1, mse = 9.085687\n",
      "iter ind = 2, mse = 9.080944\n",
      "time taken = 32.639308\n",
      "beginning mse = 45.269107\n",
      "iter ind = 0, mse = 6.043729\n",
      "iter ind = 1, mse = 6.040492\n",
      "iter ind = 2, mse = 6.039365\n",
      "time taken = 30.800137\n",
      "beginning mse = 35.683273\n",
      "iter ind = 0, mse = 5.183682\n",
      "iter ind = 1, mse = 5.183527\n",
      "iter ind = 2, mse = 5.183486\n",
      "time taken = 27.418770\n",
      "beginning mse = 36.353099\n",
      "iter ind = 0, mse = 12.522311\n",
      "iter ind = 1, mse = 12.519865\n",
      "iter ind = 2, mse = 12.519390\n",
      "time taken = 29.624745\n",
      "beginning mse = 42.401563\n",
      "iter ind = 0, mse = 6.133145\n",
      "iter ind = 1, mse = 6.133652\n",
      "iter ind = 2, mse = 6.133618\n",
      "time taken = 29.169568\n",
      "beginning mse = 32.401737\n",
      "iter ind = 0, mse = 6.886697\n",
      "iter ind = 1, mse = 6.882487\n",
      "iter ind = 2, mse = 6.878955\n",
      "time taken = 36.694786\n",
      "beginning mse = 28.672935\n",
      "iter ind = 0, mse = 7.241679\n",
      "iter ind = 1, mse = 7.239360\n",
      "iter ind = 2, mse = 7.237994\n",
      "time taken = 36.746675\n"
     ]
    }
   ],
   "source": [
    "Adata = np.stack([get_A(x) for x in edata])"
   ]
  },
  {
   "cell_type": "code",
   "execution_count": 45,
   "metadata": {},
   "outputs": [],
   "source": [
    "np.savez('Adataav.npz', Adata = Adata, Y = Y)"
   ]
  },
  {
   "cell_type": "markdown",
   "metadata": {},
   "source": [
    "#### Feature extraction"
   ]
  },
  {
   "cell_type": "code",
   "execution_count": 54,
   "metadata": {},
   "outputs": [],
   "source": [
    "# Loading Data\n",
    "Adata = np.load(\"Adata.npz\")[\"Adata\"]\n",
    "Y = np.load(\"Adata.npz\")[\"Y\"]"
   ]
  },
  {
   "cell_type": "code",
   "execution_count": 55,
   "metadata": {},
   "outputs": [],
   "source": [
    "import matplotlib.pyplot as plt\n",
    "%matplotlib inline"
   ]
  },
  {
   "cell_type": "code",
   "execution_count": 56,
   "metadata": {},
   "outputs": [
    {
     "name": "stdout",
     "output_type": "stream",
     "text": [
      "112\n"
     ]
    }
   ],
   "source": [
    "print(np.sum(Y<0)) #Checking number of \"right\" events"
   ]
  },
  {
   "cell_type": "code",
   "execution_count": 57,
   "metadata": {},
   "outputs": [],
   "source": [
    "ARight = np.average(Adata[0:112], axis = 0)\n",
    "AFoot = np.average(Adata[112:], axis = 0)"
   ]
  },
  {
   "cell_type": "code",
   "execution_count": 58,
   "metadata": {},
   "outputs": [
    {
     "data": {
      "text/plain": [
       "<matplotlib.colorbar.Colorbar at 0x1eb640c0288>"
      ]
     },
     "execution_count": 58,
     "metadata": {},
     "output_type": "execute_result"
    },
    {
     "data": {
      "image/png": "[encoded data removed]",
      "text/plain": [
       "<Figure size 432x288 with 2 Axes>"
      ]
     },
     "metadata": {
      "needs_background": "light"
     },
     "output_type": "display_data"
    }
   ],
   "source": [
    "fig = plt.figure()\n",
    "f = plt.pcolormesh(ARight, vmin=-0.3, vmax=0.3)\n",
    "plt.colorbar(f)"
   ]
  },
  {
   "cell_type": "code",
   "execution_count": 59,
   "metadata": {},
   "outputs": [
    {
     "data": {
      "text/plain": [
       "<matplotlib.colorbar.Colorbar at 0x1eb64177508>"
      ]
     },
     "execution_count": 59,
     "metadata": {},
     "output_type": "execute_result"
    },
    {
     "data": {
      "image/png": "[encoded data removed]",
      "text/plain": [
       "<Figure size 432x288 with 2 Axes>"
      ]
     },
     "metadata": {
      "needs_background": "light"
     },
     "output_type": "display_data"
    }
   ],
   "source": [
    "fig = plt.figure()\n",
    "f = plt.pcolormesh(AFoot, vmin=-0.3, vmax=0.3)\n",
    "plt.colorbar(f)"
   ]
  },
  {
   "cell_type": "markdown",
   "metadata": {},
   "source": [
    "## Applying ML"
   ]
  },
  {
   "cell_type": "code",
   "execution_count": 60,
   "metadata": {},
   "outputs": [],
   "source": [
    "X = np.stack([np.concatenate([a[:, 1], a[:, 3]]) for a in Adata])"
   ]
  },
  {
   "cell_type": "code",
   "execution_count": 61,
   "metadata": {},
   "outputs": [
    {
     "data": {
      "text/plain": [
       "(224, 18)"
      ]
     },
     "execution_count": 61,
     "metadata": {},
     "output_type": "execute_result"
    }
   ],
   "source": [
    "X.shape"
   ]
  },
  {
   "cell_type": "code",
   "execution_count": 62,
   "metadata": {},
   "outputs": [],
   "source": [
    "import pandas as pd\n",
    "from sklearn.model_selection import train_test_split\n",
    "X_train, X_test, y_train, y_test = train_test_split(X, Y, test_size = 0.2, random_state = 0)"
   ]
  },
  {
   "cell_type": "markdown",
   "metadata": {},
   "source": [
    "#### Logistic Regression"
   ]
  },
  {
   "cell_type": "code",
   "execution_count": 63,
   "metadata": {},
   "outputs": [
    {
     "data": {
      "text/plain": [
       "LogisticRegression(C=1.0, class_weight=None, dual=False, fit_intercept=True,\n",
       "                   intercept_scaling=1, l1_ratio=None, max_iter=100,\n",
       "                   multi_class='auto', n_jobs=None, penalty='l2',\n",
       "                   random_state=0, solver='lbfgs', tol=0.0001, verbose=0,\n",
       "                   warm_start=False)"
      ]
     },
     "execution_count": 63,
     "metadata": {},
     "output_type": "execute_result"
    }
   ],
   "source": [
    "from sklearn.linear_model import LogisticRegression\n",
    "Logclassifier = LogisticRegression(random_state = 0)\n",
    "Logclassifier.fit(X_train, y_train)"
   ]
  },
  {
   "cell_type": "code",
   "execution_count": 64,
   "metadata": {},
   "outputs": [],
   "source": [
    "y_pred_log = Logclassifier.predict(X_test)"
   ]
  },
  {
   "cell_type": "code",
   "execution_count": 65,
   "metadata": {},
   "outputs": [
    {
     "name": "stdout",
     "output_type": "stream",
     "text": [
      "[[19  3]\n",
      " [ 1 22]]\n"
     ]
    }
   ],
   "source": [
    "from sklearn.metrics import confusion_matrix\n",
    "cm = confusion_matrix(y_test, y_pred_log)\n",
    "print(cm)"
   ]
  },
  {
   "cell_type": "code",
   "execution_count": 66,
   "metadata": {},
   "outputs": [
    {
     "name": "stdout",
     "output_type": "stream",
     "text": [
      "Accuracy: 89.90 %\n",
      "Standard Deviation: 7.87 %\n"
     ]
    }
   ],
   "source": [
    "from sklearn.model_selection import cross_val_score\n",
    "accuracies = cross_val_score(estimator = Logclassifier, X = X_train, y = y_train, cv = 10)\n",
    "print(\"Accuracy: {:.2f} %\".format(accuracies.mean()*100))\n",
    "print(\"Standard Deviation: {:.2f} %\".format(accuracies.std()*100))"
   ]
  },
  {
   "cell_type": "markdown",
   "metadata": {},
   "source": [
    "#### Kernal SVM"
   ]
  },
  {
   "cell_type": "code",
   "execution_count": 67,
   "metadata": {},
   "outputs": [
    {
     "data": {
      "text/plain": [
       "SVC(C=1.0, break_ties=False, cache_size=200, class_weight=None, coef0=0.0,\n",
       "    decision_function_shape='ovr', degree=3, gamma='scale', kernel='rbf',\n",
       "    max_iter=-1, probability=False, random_state=0, shrinking=True, tol=0.001,\n",
       "    verbose=False)"
      ]
     },
     "execution_count": 67,
     "metadata": {},
     "output_type": "execute_result"
    }
   ],
   "source": [
    "from sklearn.svm import SVC\n",
    "SVCclassifier = SVC(kernel = 'rbf', random_state = 0)\n",
    "SVCclassifier.fit(X_train, y_train)"
   ]
  },
  {
   "cell_type": "code",
   "execution_count": 68,
   "metadata": {},
   "outputs": [],
   "source": [
    "y_pred_SVC = SVCclassifier.predict(X_test)"
   ]
  },
  {
   "cell_type": "code",
   "execution_count": 69,
   "metadata": {},
   "outputs": [
    {
     "name": "stdout",
     "output_type": "stream",
     "text": [
      "[[19  3]\n",
      " [ 2 21]]\n"
     ]
    },
    {
     "data": {
      "text/plain": [
       "0.8888888888888888"
      ]
     },
     "execution_count": 69,
     "metadata": {},
     "output_type": "execute_result"
    }
   ],
   "source": [
    "from sklearn.metrics import confusion_matrix, accuracy_score\n",
    "cm = confusion_matrix(y_test, y_pred_SVC)\n",
    "print(cm)\n",
    "accuracy_score(y_test, y_pred_SVC)"
   ]
  },
  {
   "cell_type": "markdown",
   "metadata": {},
   "source": [
    "#### Random Forest"
   ]
  },
  {
   "cell_type": "code",
   "execution_count": 70,
   "metadata": {},
   "outputs": [
    {
     "data": {
      "text/plain": [
       "RandomForestClassifier(bootstrap=True, ccp_alpha=0.0, class_weight=None,\n",
       "                       criterion='entropy', max_depth=None, max_features='auto',\n",
       "                       max_leaf_nodes=None, max_samples=None,\n",
       "                       min_impurity_decrease=0.0, min_impurity_split=None,\n",
       "                       min_samples_leaf=1, min_samples_split=2,\n",
       "                       min_weight_fraction_leaf=0.0, n_estimators=10,\n",
       "                       n_jobs=None, oob_score=False, random_state=0, verbose=0,\n",
       "                       warm_start=False)"
      ]
     },
     "execution_count": 70,
     "metadata": {},
     "output_type": "execute_result"
    }
   ],
   "source": [
    "from sklearn.ensemble import RandomForestClassifier\n",
    "RFclassifier = RandomForestClassifier(n_estimators = 10, criterion = 'entropy', random_state = 0)\n",
    "RFclassifier.fit(X_train, y_train)"
   ]
  },
  {
   "cell_type": "code",
   "execution_count": 71,
   "metadata": {},
   "outputs": [],
   "source": [
    "y_pred_RF = RFclassifier.predict(X_test)"
   ]
  },
  {
   "cell_type": "code",
   "execution_count": 72,
   "metadata": {},
   "outputs": [
    {
     "name": "stdout",
     "output_type": "stream",
     "text": [
      "[[19  3]\n",
      " [ 2 21]]\n"
     ]
    },
    {
     "data": {
      "text/plain": [
       "0.8888888888888888"
      ]
     },
     "execution_count": 72,
     "metadata": {},
     "output_type": "execute_result"
    }
   ],
   "source": [
    "from sklearn.metrics import confusion_matrix, accuracy_score\n",
    "cm = confusion_matrix(y_test, y_pred_RF)\n",
    "print(cm)\n",
    "accuracy_score(y_test, y_pred_RF)"
   ]
  },
  {
   "cell_type": "markdown",
   "metadata": {},
   "source": [
    "#### KNN"
   ]
  },
  {
   "cell_type": "code",
   "execution_count": 73,
   "metadata": {},
   "outputs": [],
   "source": [
    "# import numpy as np\n",
    "# import matplotlib.pyplot as plt\n",
    "# from sklearn.naive_bayes import GaussianNB\n",
    "# from sklearn.svm import SVC\n",
    "# from sklearn.datasets import load_digits\n",
    "# from sklearn.model_selection import learning_curve\n",
    "# from sklearn.model_selection import ShuffleSplit"
   ]
  },
  {
   "cell_type": "code",
   "execution_count": 74,
   "metadata": {},
   "outputs": [
    {
     "data": {
      "text/plain": [
       "KNeighborsClassifier(algorithm='auto', leaf_size=30, metric='minkowski',\n",
       "                     metric_params=None, n_jobs=None, n_neighbors=5, p=2,\n",
       "                     weights='uniform')"
      ]
     },
     "execution_count": 74,
     "metadata": {},
     "output_type": "execute_result"
    }
   ],
   "source": [
    "from sklearn.neighbors import KNeighborsClassifier\n",
    "KNNclassifier = KNeighborsClassifier(n_neighbors = 5, metric = 'minkowski', p = 2)\n",
    "KNNclassifier.fit(X_train, y_train)"
   ]
  },
  {
   "cell_type": "code",
   "execution_count": 75,
   "metadata": {},
   "outputs": [],
   "source": [
    "y_pred_KNN = KNNclassifier.predict(X_test)"
   ]
  },
  {
   "cell_type": "code",
   "execution_count": 76,
   "metadata": {},
   "outputs": [
    {
     "name": "stdout",
     "output_type": "stream",
     "text": [
      "[[19  3]\n",
      " [ 3 20]]\n"
     ]
    },
    {
     "data": {
      "text/plain": [
       "0.8666666666666667"
      ]
     },
     "execution_count": 76,
     "metadata": {},
     "output_type": "execute_result"
    }
   ],
   "source": [
    "from sklearn.metrics import confusion_matrix, accuracy_score\n",
    "cm = confusion_matrix(y_test, y_pred_KNN)\n",
    "print(cm)\n",
    "accuracy_score(y_test, y_pred_KNN)"
   ]
  },
  {
   "cell_type": "markdown",
   "metadata": {},
   "source": [
    "#### Naive Bayes"
   ]
  },
  {
   "cell_type": "code",
   "execution_count": 77,
   "metadata": {},
   "outputs": [
    {
     "data": {
      "text/plain": [
       "GaussianNB(priors=None, var_smoothing=1e-09)"
      ]
     },
     "execution_count": 77,
     "metadata": {},
     "output_type": "execute_result"
    }
   ],
   "source": [
    "from sklearn.naive_bayes import GaussianNB\n",
    "NBclassifier = GaussianNB()\n",
    "NBclassifier.fit(X_train, y_train)"
   ]
  },
  {
   "cell_type": "code",
   "execution_count": 78,
   "metadata": {},
   "outputs": [],
   "source": [
    "y_pred_NB = NBclassifier.predict(X_test)"
   ]
  },
  {
   "cell_type": "code",
   "execution_count": 79,
   "metadata": {},
   "outputs": [
    {
     "name": "stdout",
     "output_type": "stream",
     "text": [
      "[[20  2]\n",
      " [ 3 20]]\n"
     ]
    },
    {
     "data": {
      "text/plain": [
       "0.8888888888888888"
      ]
     },
     "execution_count": 79,
     "metadata": {},
     "output_type": "execute_result"
    }
   ],
   "source": [
    "from sklearn.metrics import confusion_matrix, accuracy_score\n",
    "cm = confusion_matrix(y_test, y_pred_NB)\n",
    "print(cm)\n",
    "accuracy_score(y_test, y_pred_NB)"
   ]
  },
  {
   "cell_type": "code",
   "execution_count": 81,
   "metadata": {},
   "outputs": [],
   "source": [
    "from sklearn.metrics import roc_curve, auc"
   ]
  },
  {
   "cell_type": "code",
   "execution_count": 87,
   "metadata": {},
   "outputs": [
    {
     "data": {
      "image/png": "[encoded data removed]",
      "text/plain": [
       "<Figure size 432x288 with 1 Axes>"
      ]
     },
     "metadata": {
      "needs_background": "light"
     },
     "output_type": "display_data"
    }
   ],
   "source": [
    "log_fpr, log_tpr, threshold = roc_curve(y_test, y_pred_log)\n",
    "auc_log = auc(log_fpr, log_tpr)\n",
    "SVC_fpr, SVC_tpr, threshold = roc_curve(y_test, y_pred_SVC)\n",
    "auc_SVC = auc(SVC_fpr, SVC_tpr)\n",
    "RF_fpr, RF_tpr, threshold = roc_curve(y_test, y_pred_RF)\n",
    "auc_RF = auc(RF_fpr, RF_tpr)\n",
    "KNN_fpr, KNN_tpr, threshold = roc_curve(y_test, y_pred_KNN)\n",
    "auc_KNN = auc(KNN_fpr, KNN_tpr)\n",
    "NB_fpr, NB_tpr, threshold = roc_curve(y_test, y_pred_NB)\n",
    "auc_NB = auc(NB_fpr, NB_tpr)\n",
    "\n",
    "plt.figure()\n",
    "plt.plot(SVC_fpr, SVC_tpr, linestyle = '-', label = \"Suport Vector Machine (auc = %0.3f)\"%auc_SVC)\n",
    "plt.plot(log_fpr, log_tpr, linestyle = '-', label = \"Logarithimic regression (auc = %0.3f)\"%auc_log)\n",
    "plt.plot(RF_fpr, RF_tpr, linestyle = '-', label = \"Random Forest (auc = %0.3f)\"%auc_RF)\n",
    "#plt.plot(KNN_fpr, KNN_tpr, linestyle = '-', label = \"K-Nearest Neighbors (auc = %0.3f)\"%auc_KNN)\n",
    "plt.plot(NB_fpr, NB_tpr, linestyle = '-', label = \"Naive Bayes (auc = %0.3f)\"%auc_NB)\n",
    "\n",
    "plt.xlabel(\"False Postive Rate\")\n",
    "plt.ylabel(\"True Positive Rate\")\n",
    "\n",
    "plt.legend()\n",
    "plt.show()"
   ]
  },
  {
   "cell_type": "code",
   "execution_count": 88,
   "metadata": {},
   "outputs": [],
   "source": [
    "import tensorflow as tf\n",
    "from tensorflow.keras.models import Model\n",
    "from tensorflow.keras.layers import Dense"
   ]
  },
  {
   "cell_type": "code",
   "execution_count": 89,
   "metadata": {},
   "outputs": [],
   "source": [
    "dict = {-1: 0,1: 1}\n",
    "\n",
    "for i in range(len(y_train)):\n",
    "    y_train[i] = dict[y_train[i]]\n",
    "    \n",
    "num_classes = 2\n",
    "y_train = tf.keras.utils.to_categorical(y_train, num_classes)"
   ]
  },
  {
   "cell_type": "code",
   "execution_count": 144,
   "metadata": {},
   "outputs": [],
   "source": [
    "for i in range(len(y_test)):\n",
    "    y_test[i] = dict[y_test[i]]\n",
    "    \n",
    "num_classes = 2\n",
    "y_test = tf.keras.utils.to_categorical(y_test, num_classes)"
   ]
  },
  {
   "cell_type": "code",
   "execution_count": 145,
   "metadata": {},
   "outputs": [
    {
     "name": "stdout",
     "output_type": "stream",
     "text": [
      "Model: \"model_6\"\n",
      "_________________________________________________________________\n",
      "Layer (type)                 Output Shape              Param #   \n",
      "=================================================================\n",
      "input_9 (InputLayer)         [(None, 18)]              0         \n",
      "_________________________________________________________________\n",
      "dense_36 (Dense)             (None, 2)                 38        \n",
      "=================================================================\n",
      "Total params: 38\n",
      "Trainable params: 38\n",
      "Non-trainable params: 0\n",
      "_________________________________________________________________\n"
     ]
    }
   ],
   "source": [
    "ip = tf.keras.Input(shape = 18)\n",
    "dense1 = tf.keras.layers.Dense(units = 32, activation = \"relu\")(ip)\n",
    "dense2 = tf.keras.layers.Dense(units = 32, activation = \"relu\")(dense1)\n",
    "dense3 = tf.keras.layers.Dense(units = 16, activation = \"relu\")(dense2)\n",
    "dense4 = tf.keras.layers.Dense(units = 8, activation = \"relu\")(dense3)\n",
    "dense4 = tf.keras.layers.Dense(units = 2, activation = \"sigmoid\")(ip)\n",
    "\n",
    "Model = tf.keras.models.Model(inputs = ip, outputs = dense4)\n",
    "Model.summary()"
   ]
  },
  {
   "cell_type": "code",
   "execution_count": 146,
   "metadata": {},
   "outputs": [],
   "source": [
    "Model.compile(loss = 'binary_crossentropy', metrics = ['acc'], optimizer = 'adam')"
   ]
  },
  {
   "cell_type": "code",
   "execution_count": 147,
   "metadata": {
    "scrolled": true
   },
   "outputs": [
    {
     "name": "stdout",
     "output_type": "stream",
     "text": [
      "Epoch 1/200\n",
      "6/6 [==============================] - 1s 51ms/step - loss: 0.7897 - acc: 0.4413 - val_loss: 0.7535 - val_acc: 0.5111\n",
      "Epoch 2/200\n",
      "6/6 [==============================] - 0s 5ms/step - loss: 0.7828 - acc: 0.4413 - val_loss: 0.7457 - val_acc: 0.5111\n",
      "Epoch 3/200\n",
      "6/6 [==============================] - 0s 5ms/step - loss: 0.7762 - acc: 0.4302 - val_loss: 0.7381 - val_acc: 0.5333\n",
      "Epoch 4/200\n",
      "6/6 [==============================] - 0s 5ms/step - loss: 0.7695 - acc: 0.4469 - val_loss: 0.7308 - val_acc: 0.5333\n",
      "Epoch 5/200\n",
      "6/6 [==============================] - 0s 6ms/step - loss: 0.7627 - acc: 0.4581 - val_loss: 0.7234 - val_acc: 0.5333\n",
      "Epoch 6/200\n",
      "6/6 [==============================] - 0s 6ms/step - loss: 0.7567 - acc: 0.4749 - val_loss: 0.7160 - val_acc: 0.5556\n",
      "Epoch 7/200\n",
      "6/6 [==============================] - 0s 5ms/step - loss: 0.7501 - acc: 0.4916 - val_loss: 0.7091 - val_acc: 0.5778\n",
      "Epoch 8/200\n",
      "6/6 [==============================] - 0s 6ms/step - loss: 0.7441 - acc: 0.5140 - val_loss: 0.7020 - val_acc: 0.5778\n",
      "Epoch 9/200\n",
      "6/6 [==============================] - 0s 9ms/step - loss: 0.7381 - acc: 0.5307 - val_loss: 0.6951 - val_acc: 0.5778\n",
      "Epoch 10/200\n",
      "6/6 [==============================] - 0s 9ms/step - loss: 0.7324 - acc: 0.5307 - val_loss: 0.6882 - val_acc: 0.5778\n",
      "Epoch 11/200\n",
      "6/6 [==============================] - 0s 8ms/step - loss: 0.7267 - acc: 0.5363 - val_loss: 0.6817 - val_acc: 0.5778\n",
      "Epoch 12/200\n",
      "6/6 [==============================] - 0s 7ms/step - loss: 0.7208 - acc: 0.5531 - val_loss: 0.6756 - val_acc: 0.6000\n",
      "Epoch 13/200\n",
      "6/6 [==============================] - 0s 7ms/step - loss: 0.7156 - acc: 0.5754 - val_loss: 0.6694 - val_acc: 0.6222\n",
      "Epoch 14/200\n",
      "6/6 [==============================] - 0s 6ms/step - loss: 0.7100 - acc: 0.5922 - val_loss: 0.6637 - val_acc: 0.6222\n",
      "Epoch 15/200\n",
      "6/6 [==============================] - 0s 5ms/step - loss: 0.7049 - acc: 0.5978 - val_loss: 0.6580 - val_acc: 0.6667\n",
      "Epoch 16/200\n",
      "6/6 [==============================] - 0s 6ms/step - loss: 0.7000 - acc: 0.6089 - val_loss: 0.6526 - val_acc: 0.7111\n",
      "Epoch 17/200\n",
      "6/6 [==============================] - 0s 6ms/step - loss: 0.6952 - acc: 0.6145 - val_loss: 0.6470 - val_acc: 0.7333\n",
      "Epoch 18/200\n",
      "6/6 [==============================] - 0s 5ms/step - loss: 0.6899 - acc: 0.6201 - val_loss: 0.6419 - val_acc: 0.7333\n",
      "Epoch 19/200\n",
      "6/6 [==============================] - 0s 6ms/step - loss: 0.6854 - acc: 0.6257 - val_loss: 0.6365 - val_acc: 0.7333\n",
      "Epoch 20/200\n",
      "6/6 [==============================] - 0s 8ms/step - loss: 0.6807 - acc: 0.6369 - val_loss: 0.6313 - val_acc: 0.7556\n",
      "Epoch 21/200\n",
      "6/6 [==============================] - 0s 6ms/step - loss: 0.6764 - acc: 0.6369 - val_loss: 0.6261 - val_acc: 0.7778\n",
      "Epoch 22/200\n",
      "6/6 [==============================] - 0s 7ms/step - loss: 0.6717 - acc: 0.6425 - val_loss: 0.6213 - val_acc: 0.7778\n",
      "Epoch 23/200\n",
      "6/6 [==============================] - 0s 6ms/step - loss: 0.6674 - acc: 0.6536 - val_loss: 0.6164 - val_acc: 0.8000\n",
      "Epoch 24/200\n",
      "6/6 [==============================] - 0s 6ms/step - loss: 0.6631 - acc: 0.6704 - val_loss: 0.6118 - val_acc: 0.8000\n",
      "Epoch 25/200\n",
      "6/6 [==============================] - 0s 6ms/step - loss: 0.6591 - acc: 0.6760 - val_loss: 0.6072 - val_acc: 0.8000\n",
      "Epoch 26/200\n",
      "6/6 [==============================] - 0s 7ms/step - loss: 0.6552 - acc: 0.6760 - val_loss: 0.6027 - val_acc: 0.8000\n",
      "Epoch 27/200\n",
      "6/6 [==============================] - 0s 8ms/step - loss: 0.6510 - acc: 0.6816 - val_loss: 0.5985 - val_acc: 0.8000\n",
      "Epoch 28/200\n",
      "6/6 [==============================] - 0s 8ms/step - loss: 0.6473 - acc: 0.6983 - val_loss: 0.5944 - val_acc: 0.8000\n",
      "Epoch 29/200\n",
      "6/6 [==============================] - 0s 6ms/step - loss: 0.6436 - acc: 0.6983 - val_loss: 0.5905 - val_acc: 0.8000\n",
      "Epoch 30/200\n",
      "6/6 [==============================] - 0s 7ms/step - loss: 0.6399 - acc: 0.7039 - val_loss: 0.5865 - val_acc: 0.8000\n",
      "Epoch 31/200\n",
      "6/6 [==============================] - 0s 7ms/step - loss: 0.6362 - acc: 0.7151 - val_loss: 0.5830 - val_acc: 0.8000\n",
      "Epoch 32/200\n",
      "6/6 [==============================] - 0s 7ms/step - loss: 0.6329 - acc: 0.7151 - val_loss: 0.5792 - val_acc: 0.8000\n",
      "Epoch 33/200\n",
      "6/6 [==============================] - 0s 7ms/step - loss: 0.6291 - acc: 0.7207 - val_loss: 0.5757 - val_acc: 0.8000\n",
      "Epoch 34/200\n",
      "6/6 [==============================] - 0s 9ms/step - loss: 0.6260 - acc: 0.7374 - val_loss: 0.5721 - val_acc: 0.8000\n",
      "Epoch 35/200\n",
      "6/6 [==============================] - 0s 6ms/step - loss: 0.6226 - acc: 0.7374 - val_loss: 0.5685 - val_acc: 0.8000\n",
      "Epoch 36/200\n",
      "6/6 [==============================] - 0s 8ms/step - loss: 0.6192 - acc: 0.7374 - val_loss: 0.5651 - val_acc: 0.8000\n",
      "Epoch 37/200\n",
      "6/6 [==============================] - 0s 5ms/step - loss: 0.6160 - acc: 0.7374 - val_loss: 0.5617 - val_acc: 0.8000\n",
      "Epoch 38/200\n",
      "6/6 [==============================] - 0s 6ms/step - loss: 0.6130 - acc: 0.7430 - val_loss: 0.5585 - val_acc: 0.8222\n",
      "Epoch 39/200\n",
      "6/6 [==============================] - 0s 5ms/step - loss: 0.6097 - acc: 0.7430 - val_loss: 0.5553 - val_acc: 0.8222\n",
      "Epoch 40/200\n",
      "6/6 [==============================] - 0s 5ms/step - loss: 0.6068 - acc: 0.7430 - val_loss: 0.5521 - val_acc: 0.8222\n",
      "Epoch 41/200\n",
      "6/6 [==============================] - 0s 6ms/step - loss: 0.6037 - acc: 0.7430 - val_loss: 0.5491 - val_acc: 0.8222\n",
      "Epoch 42/200\n",
      "6/6 [==============================] - 0s 5ms/step - loss: 0.6007 - acc: 0.7430 - val_loss: 0.5464 - val_acc: 0.8222\n",
      "Epoch 43/200\n",
      "6/6 [==============================] - 0s 5ms/step - loss: 0.5980 - acc: 0.7430 - val_loss: 0.5437 - val_acc: 0.8222\n",
      "Epoch 44/200\n",
      "6/6 [==============================] - 0s 5ms/step - loss: 0.5952 - acc: 0.7430 - val_loss: 0.5409 - val_acc: 0.8222\n",
      "Epoch 45/200\n",
      "6/6 [==============================] - 0s 5ms/step - loss: 0.5924 - acc: 0.7430 - val_loss: 0.5379 - val_acc: 0.8222\n",
      "Epoch 46/200\n",
      "6/6 [==============================] - 0s 6ms/step - loss: 0.5897 - acc: 0.7430 - val_loss: 0.5351 - val_acc: 0.8222\n",
      "Epoch 47/200\n",
      "6/6 [==============================] - 0s 7ms/step - loss: 0.5869 - acc: 0.7430 - val_loss: 0.5325 - val_acc: 0.8222\n",
      "Epoch 48/200\n",
      "6/6 [==============================] - 0s 6ms/step - loss: 0.5844 - acc: 0.7430 - val_loss: 0.5299 - val_acc: 0.8222\n",
      "Epoch 49/200\n",
      "6/6 [==============================] - 0s 6ms/step - loss: 0.5817 - acc: 0.7430 - val_loss: 0.5275 - val_acc: 0.8444\n",
      "Epoch 50/200\n",
      "6/6 [==============================] - 0s 7ms/step - loss: 0.5792 - acc: 0.7430 - val_loss: 0.5251 - val_acc: 0.8444\n",
      "Epoch 51/200\n",
      "6/6 [==============================] - 0s 6ms/step - loss: 0.5767 - acc: 0.7374 - val_loss: 0.5226 - val_acc: 0.8444\n",
      "Epoch 52/200\n",
      "6/6 [==============================] - 0s 7ms/step - loss: 0.5744 - acc: 0.7430 - val_loss: 0.5203 - val_acc: 0.8444\n",
      "Epoch 53/200\n",
      "6/6 [==============================] - 0s 6ms/step - loss: 0.5720 - acc: 0.7486 - val_loss: 0.5182 - val_acc: 0.8444\n",
      "Epoch 54/200\n",
      "6/6 [==============================] - 0s 6ms/step - loss: 0.5696 - acc: 0.7486 - val_loss: 0.5160 - val_acc: 0.8444\n",
      "Epoch 55/200\n",
      "6/6 [==============================] - 0s 8ms/step - loss: 0.5673 - acc: 0.7542 - val_loss: 0.5137 - val_acc: 0.8444\n",
      "Epoch 56/200\n",
      "6/6 [==============================] - 0s 9ms/step - loss: 0.5650 - acc: 0.7542 - val_loss: 0.5117 - val_acc: 0.8444\n",
      "Epoch 57/200\n",
      "6/6 [==============================] - 0s 9ms/step - loss: 0.5627 - acc: 0.7542 - val_loss: 0.5096 - val_acc: 0.8444\n",
      "Epoch 58/200\n",
      "6/6 [==============================] - 0s 9ms/step - loss: 0.5606 - acc: 0.7598 - val_loss: 0.5074 - val_acc: 0.8444\n",
      "Epoch 59/200\n",
      "6/6 [==============================] - 0s 9ms/step - loss: 0.5583 - acc: 0.7709 - val_loss: 0.5054 - val_acc: 0.8444\n",
      "Epoch 60/200\n",
      "6/6 [==============================] - 0s 10ms/step - loss: 0.5562 - acc: 0.7709 - val_loss: 0.5034 - val_acc: 0.8444\n",
      "Epoch 61/200\n",
      "6/6 [==============================] - 0s 10ms/step - loss: 0.5540 - acc: 0.7765 - val_loss: 0.5015 - val_acc: 0.8444\n",
      "Epoch 62/200\n",
      "6/6 [==============================] - 0s 9ms/step - loss: 0.5520 - acc: 0.7765 - val_loss: 0.4995 - val_acc: 0.8444\n",
      "Epoch 63/200\n",
      "6/6 [==============================] - 0s 10ms/step - loss: 0.5498 - acc: 0.7765 - val_loss: 0.4977 - val_acc: 0.8444\n",
      "Epoch 64/200\n",
      "6/6 [==============================] - 0s 8ms/step - loss: 0.5477 - acc: 0.7765 - val_loss: 0.4958 - val_acc: 0.8444\n",
      "Epoch 65/200\n",
      "6/6 [==============================] - 0s 10ms/step - loss: 0.5457 - acc: 0.7765 - val_loss: 0.4940 - val_acc: 0.8444\n",
      "Epoch 66/200\n",
      "6/6 [==============================] - 0s 7ms/step - loss: 0.5436 - acc: 0.7765 - val_loss: 0.4921 - val_acc: 0.8444\n",
      "Epoch 67/200\n",
      "6/6 [==============================] - 0s 7ms/step - loss: 0.5416 - acc: 0.7765 - val_loss: 0.4904 - val_acc: 0.8444\n",
      "Epoch 68/200\n",
      "6/6 [==============================] - 0s 7ms/step - loss: 0.5397 - acc: 0.7821 - val_loss: 0.4886 - val_acc: 0.8444\n",
      "Epoch 69/200\n",
      "6/6 [==============================] - 0s 7ms/step - loss: 0.5377 - acc: 0.7821 - val_loss: 0.4870 - val_acc: 0.8444\n",
      "Epoch 70/200\n",
      "6/6 [==============================] - 0s 15ms/step - loss: 0.5358 - acc: 0.7877 - val_loss: 0.4852 - val_acc: 0.8444\n",
      "Epoch 71/200\n",
      "6/6 [==============================] - 0s 7ms/step - loss: 0.5340 - acc: 0.7877 - val_loss: 0.4835 - val_acc: 0.8444\n",
      "Epoch 72/200\n",
      "6/6 [==============================] - 0s 8ms/step - loss: 0.5320 - acc: 0.7877 - val_loss: 0.4821 - val_acc: 0.8444\n",
      "Epoch 73/200\n",
      "6/6 [==============================] - 0s 9ms/step - loss: 0.5302 - acc: 0.7877 - val_loss: 0.4804 - val_acc: 0.8444\n",
      "Epoch 74/200\n",
      "6/6 [==============================] - 0s 6ms/step - loss: 0.5284 - acc: 0.7877 - val_loss: 0.4788 - val_acc: 0.8444\n",
      "Epoch 75/200\n",
      "6/6 [==============================] - 0s 7ms/step - loss: 0.5266 - acc: 0.7877 - val_loss: 0.4773 - val_acc: 0.8444\n",
      "Epoch 76/200\n",
      "6/6 [==============================] - 0s 6ms/step - loss: 0.5249 - acc: 0.7877 - val_loss: 0.4757 - val_acc: 0.8444\n",
      "Epoch 77/200\n",
      "6/6 [==============================] - 0s 5ms/step - loss: 0.5230 - acc: 0.7933 - val_loss: 0.4743 - val_acc: 0.8444\n",
      "Epoch 78/200\n",
      "6/6 [==============================] - 0s 6ms/step - loss: 0.5213 - acc: 0.7933 - val_loss: 0.4729 - val_acc: 0.8444\n",
      "Epoch 79/200\n",
      "6/6 [==============================] - 0s 6ms/step - loss: 0.5196 - acc: 0.7933 - val_loss: 0.4713 - val_acc: 0.8444\n",
      "Epoch 80/200\n",
      "6/6 [==============================] - 0s 6ms/step - loss: 0.5179 - acc: 0.7933 - val_loss: 0.4700 - val_acc: 0.8444\n",
      "Epoch 81/200\n",
      "6/6 [==============================] - 0s 7ms/step - loss: 0.5163 - acc: 0.7933 - val_loss: 0.4685 - val_acc: 0.8444\n",
      "Epoch 82/200\n",
      "6/6 [==============================] - 0s 6ms/step - loss: 0.5146 - acc: 0.7933 - val_loss: 0.4670 - val_acc: 0.8667\n",
      "Epoch 83/200\n",
      "6/6 [==============================] - 0s 7ms/step - loss: 0.5130 - acc: 0.7933 - val_loss: 0.4655 - val_acc: 0.8667\n",
      "Epoch 84/200\n",
      "6/6 [==============================] - 0s 7ms/step - loss: 0.5115 - acc: 0.7989 - val_loss: 0.4641 - val_acc: 0.8667\n",
      "Epoch 85/200\n",
      "6/6 [==============================] - 0s 7ms/step - loss: 0.5098 - acc: 0.7989 - val_loss: 0.4627 - val_acc: 0.8667\n",
      "Epoch 86/200\n",
      "6/6 [==============================] - 0s 8ms/step - loss: 0.5083 - acc: 0.7989 - val_loss: 0.4612 - val_acc: 0.8667\n",
      "Epoch 87/200\n",
      "6/6 [==============================] - 0s 7ms/step - loss: 0.5067 - acc: 0.7989 - val_loss: 0.4599 - val_acc: 0.8667\n",
      "Epoch 88/200\n",
      "6/6 [==============================] - 0s 6ms/step - loss: 0.5052 - acc: 0.7989 - val_loss: 0.4586 - val_acc: 0.8667\n",
      "Epoch 89/200\n",
      "6/6 [==============================] - 0s 7ms/step - loss: 0.5037 - acc: 0.7989 - val_loss: 0.4573 - val_acc: 0.8667\n",
      "Epoch 90/200\n",
      "6/6 [==============================] - 0s 6ms/step - loss: 0.5022 - acc: 0.8045 - val_loss: 0.4562 - val_acc: 0.8667\n",
      "Epoch 91/200\n",
      "6/6 [==============================] - 0s 6ms/step - loss: 0.5007 - acc: 0.8045 - val_loss: 0.4548 - val_acc: 0.8667\n",
      "Epoch 92/200\n",
      "6/6 [==============================] - 0s 7ms/step - loss: 0.4992 - acc: 0.8045 - val_loss: 0.4537 - val_acc: 0.8667\n",
      "Epoch 93/200\n",
      "6/6 [==============================] - 0s 6ms/step - loss: 0.4977 - acc: 0.8045 - val_loss: 0.4525 - val_acc: 0.8667\n",
      "Epoch 94/200\n",
      "6/6 [==============================] - 0s 7ms/step - loss: 0.4963 - acc: 0.8101 - val_loss: 0.4514 - val_acc: 0.8667\n",
      "Epoch 95/200\n",
      "6/6 [==============================] - 0s 5ms/step - loss: 0.4948 - acc: 0.8101 - val_loss: 0.4503 - val_acc: 0.8667\n",
      "Epoch 96/200\n",
      "6/6 [==============================] - 0s 5ms/step - loss: 0.4935 - acc: 0.8212 - val_loss: 0.4492 - val_acc: 0.8667\n",
      "Epoch 97/200\n",
      "6/6 [==============================] - 0s 8ms/step - loss: 0.4921 - acc: 0.8212 - val_loss: 0.4480 - val_acc: 0.8667\n",
      "Epoch 98/200\n",
      "6/6 [==============================] - 0s 6ms/step - loss: 0.4906 - acc: 0.8212 - val_loss: 0.4468 - val_acc: 0.8667\n",
      "Epoch 99/200\n",
      "6/6 [==============================] - 0s 9ms/step - loss: 0.4893 - acc: 0.8268 - val_loss: 0.4456 - val_acc: 0.8667\n",
      "Epoch 100/200\n",
      "6/6 [==============================] - 0s 7ms/step - loss: 0.4879 - acc: 0.8380 - val_loss: 0.4445 - val_acc: 0.8667\n",
      "Epoch 101/200\n",
      "6/6 [==============================] - 0s 8ms/step - loss: 0.4866 - acc: 0.8436 - val_loss: 0.4435 - val_acc: 0.8667\n",
      "Epoch 102/200\n",
      "6/6 [==============================] - 0s 7ms/step - loss: 0.4852 - acc: 0.8436 - val_loss: 0.4425 - val_acc: 0.8667\n",
      "Epoch 103/200\n",
      "6/6 [==============================] - 0s 6ms/step - loss: 0.4839 - acc: 0.8436 - val_loss: 0.4414 - val_acc: 0.8667\n",
      "Epoch 104/200\n",
      "6/6 [==============================] - 0s 7ms/step - loss: 0.4826 - acc: 0.8436 - val_loss: 0.4406 - val_acc: 0.8667\n",
      "Epoch 105/200\n",
      "6/6 [==============================] - 0s 6ms/step - loss: 0.4813 - acc: 0.8436 - val_loss: 0.4396 - val_acc: 0.8667\n",
      "Epoch 106/200\n",
      "6/6 [==============================] - 0s 5ms/step - loss: 0.4801 - acc: 0.8492 - val_loss: 0.4386 - val_acc: 0.8667\n",
      "Epoch 107/200\n",
      "6/6 [==============================] - 0s 6ms/step - loss: 0.4787 - acc: 0.8492 - val_loss: 0.4377 - val_acc: 0.8667\n",
      "Epoch 108/200\n",
      "6/6 [==============================] - 0s 7ms/step - loss: 0.4775 - acc: 0.8492 - val_loss: 0.4367 - val_acc: 0.8667\n",
      "Epoch 109/200\n",
      "6/6 [==============================] - 0s 6ms/step - loss: 0.4762 - acc: 0.8492 - val_loss: 0.4357 - val_acc: 0.8667\n",
      "Epoch 110/200\n",
      "6/6 [==============================] - 0s 7ms/step - loss: 0.4750 - acc: 0.8492 - val_loss: 0.4346 - val_acc: 0.8667\n",
      "Epoch 111/200\n",
      "6/6 [==============================] - 0s 6ms/step - loss: 0.4737 - acc: 0.8492 - val_loss: 0.4337 - val_acc: 0.8667\n",
      "Epoch 112/200\n",
      "6/6 [==============================] - 0s 6ms/step - loss: 0.4725 - acc: 0.8492 - val_loss: 0.4326 - val_acc: 0.8667\n",
      "Epoch 113/200\n",
      "6/6 [==============================] - 0s 5ms/step - loss: 0.4713 - acc: 0.8492 - val_loss: 0.4316 - val_acc: 0.8667\n",
      "Epoch 114/200\n",
      "6/6 [==============================] - 0s 7ms/step - loss: 0.4701 - acc: 0.8492 - val_loss: 0.4307 - val_acc: 0.8667\n",
      "Epoch 115/200\n",
      "6/6 [==============================] - 0s 8ms/step - loss: 0.4688 - acc: 0.8492 - val_loss: 0.4298 - val_acc: 0.8667\n",
      "Epoch 116/200\n",
      "6/6 [==============================] - 0s 7ms/step - loss: 0.4677 - acc: 0.8492 - val_loss: 0.4289 - val_acc: 0.8667\n",
      "Epoch 117/200\n",
      "6/6 [==============================] - 0s 7ms/step - loss: 0.4665 - acc: 0.8492 - val_loss: 0.4280 - val_acc: 0.8667\n",
      "Epoch 118/200\n",
      "6/6 [==============================] - 0s 7ms/step - loss: 0.4654 - acc: 0.8492 - val_loss: 0.4271 - val_acc: 0.8667\n",
      "Epoch 119/200\n",
      "6/6 [==============================] - 0s 8ms/step - loss: 0.4642 - acc: 0.8492 - val_loss: 0.4263 - val_acc: 0.8667\n",
      "Epoch 120/200\n",
      "6/6 [==============================] - 0s 9ms/step - loss: 0.4630 - acc: 0.8492 - val_loss: 0.4255 - val_acc: 0.8667\n",
      "Epoch 121/200\n",
      "6/6 [==============================] - 0s 8ms/step - loss: 0.4619 - acc: 0.8492 - val_loss: 0.4246 - val_acc: 0.8667\n",
      "Epoch 122/200\n",
      "6/6 [==============================] - 0s 9ms/step - loss: 0.4608 - acc: 0.8492 - val_loss: 0.4239 - val_acc: 0.8667\n",
      "Epoch 123/200\n",
      "6/6 [==============================] - 0s 9ms/step - loss: 0.4597 - acc: 0.8492 - val_loss: 0.4230 - val_acc: 0.8667\n",
      "Epoch 124/200\n",
      "6/6 [==============================] - 0s 8ms/step - loss: 0.4586 - acc: 0.8492 - val_loss: 0.4222 - val_acc: 0.8667\n",
      "Epoch 125/200\n",
      "6/6 [==============================] - 0s 9ms/step - loss: 0.4575 - acc: 0.8492 - val_loss: 0.4215 - val_acc: 0.8667\n",
      "Epoch 126/200\n",
      "6/6 [==============================] - 0s 10ms/step - loss: 0.4564 - acc: 0.8492 - val_loss: 0.4208 - val_acc: 0.8667\n",
      "Epoch 127/200\n",
      "6/6 [==============================] - 0s 9ms/step - loss: 0.4553 - acc: 0.8492 - val_loss: 0.4198 - val_acc: 0.8667\n",
      "Epoch 128/200\n",
      "6/6 [==============================] - 0s 9ms/step - loss: 0.4543 - acc: 0.8492 - val_loss: 0.4191 - val_acc: 0.8667\n",
      "Epoch 129/200\n",
      "6/6 [==============================] - 0s 8ms/step - loss: 0.4532 - acc: 0.8492 - val_loss: 0.4182 - val_acc: 0.8667\n",
      "Epoch 130/200\n",
      "6/6 [==============================] - 0s 8ms/step - loss: 0.4521 - acc: 0.8492 - val_loss: 0.4174 - val_acc: 0.8667\n",
      "Epoch 131/200\n",
      "6/6 [==============================] - 0s 7ms/step - loss: 0.4511 - acc: 0.8492 - val_loss: 0.4166 - val_acc: 0.8667\n",
      "Epoch 132/200\n",
      "6/6 [==============================] - 0s 8ms/step - loss: 0.4501 - acc: 0.8492 - val_loss: 0.4159 - val_acc: 0.8667\n",
      "Epoch 133/200\n",
      "6/6 [==============================] - 0s 10ms/step - loss: 0.4490 - acc: 0.8492 - val_loss: 0.4150 - val_acc: 0.8667\n",
      "Epoch 134/200\n",
      "6/6 [==============================] - 0s 7ms/step - loss: 0.4480 - acc: 0.8492 - val_loss: 0.4141 - val_acc: 0.8889\n",
      "Epoch 135/200\n",
      "6/6 [==============================] - 0s 7ms/step - loss: 0.4470 - acc: 0.8492 - val_loss: 0.4133 - val_acc: 0.8889\n",
      "Epoch 136/200\n",
      "6/6 [==============================] - 0s 6ms/step - loss: 0.4460 - acc: 0.8492 - val_loss: 0.4125 - val_acc: 0.8889\n",
      "Epoch 137/200\n",
      "6/6 [==============================] - 0s 6ms/step - loss: 0.4450 - acc: 0.8492 - val_loss: 0.4117 - val_acc: 0.8889\n",
      "Epoch 138/200\n",
      "6/6 [==============================] - 0s 7ms/step - loss: 0.4440 - acc: 0.8492 - val_loss: 0.4110 - val_acc: 0.8889\n",
      "Epoch 139/200\n",
      "6/6 [==============================] - 0s 6ms/step - loss: 0.4430 - acc: 0.8492 - val_loss: 0.4103 - val_acc: 0.8889\n",
      "Epoch 140/200\n",
      "6/6 [==============================] - 0s 8ms/step - loss: 0.4420 - acc: 0.8492 - val_loss: 0.4095 - val_acc: 0.8889\n",
      "Epoch 141/200\n",
      "6/6 [==============================] - 0s 7ms/step - loss: 0.4411 - acc: 0.8492 - val_loss: 0.4087 - val_acc: 0.8889\n",
      "Epoch 142/200\n",
      "6/6 [==============================] - 0s 8ms/step - loss: 0.4401 - acc: 0.8492 - val_loss: 0.4080 - val_acc: 0.8889\n",
      "Epoch 143/200\n",
      "6/6 [==============================] - 0s 6ms/step - loss: 0.4391 - acc: 0.8492 - val_loss: 0.4073 - val_acc: 0.8889\n",
      "Epoch 144/200\n",
      "6/6 [==============================] - 0s 7ms/step - loss: 0.4382 - acc: 0.8492 - val_loss: 0.4065 - val_acc: 0.8889\n",
      "Epoch 145/200\n",
      "6/6 [==============================] - 0s 6ms/step - loss: 0.4373 - acc: 0.8492 - val_loss: 0.4057 - val_acc: 0.8889\n",
      "Epoch 146/200\n",
      "6/6 [==============================] - 0s 6ms/step - loss: 0.4363 - acc: 0.8492 - val_loss: 0.4051 - val_acc: 0.8889\n",
      "Epoch 147/200\n",
      "6/6 [==============================] - 0s 7ms/step - loss: 0.4354 - acc: 0.8492 - val_loss: 0.4045 - val_acc: 0.8889\n",
      "Epoch 148/200\n",
      "6/6 [==============================] - 0s 5ms/step - loss: 0.4345 - acc: 0.8492 - val_loss: 0.4037 - val_acc: 0.8889\n",
      "Epoch 149/200\n",
      "6/6 [==============================] - 0s 7ms/step - loss: 0.4335 - acc: 0.8492 - val_loss: 0.4032 - val_acc: 0.8889\n",
      "Epoch 150/200\n",
      "6/6 [==============================] - 0s 7ms/step - loss: 0.4327 - acc: 0.8492 - val_loss: 0.4025 - val_acc: 0.8889\n",
      "Epoch 151/200\n",
      "6/6 [==============================] - 0s 5ms/step - loss: 0.4318 - acc: 0.8492 - val_loss: 0.4021 - val_acc: 0.8889\n",
      "Epoch 152/200\n",
      "6/6 [==============================] - 0s 6ms/step - loss: 0.4308 - acc: 0.8492 - val_loss: 0.4015 - val_acc: 0.8889\n",
      "Epoch 153/200\n",
      "6/6 [==============================] - 0s 5ms/step - loss: 0.4300 - acc: 0.8492 - val_loss: 0.4009 - val_acc: 0.8889\n",
      "Epoch 154/200\n",
      "6/6 [==============================] - 0s 5ms/step - loss: 0.4291 - acc: 0.8492 - val_loss: 0.4002 - val_acc: 0.8889\n",
      "Epoch 155/200\n",
      "6/6 [==============================] - 0s 7ms/step - loss: 0.4282 - acc: 0.8436 - val_loss: 0.3997 - val_acc: 0.8889\n",
      "Epoch 156/200\n",
      "6/6 [==============================] - 0s 6ms/step - loss: 0.4273 - acc: 0.8436 - val_loss: 0.3990 - val_acc: 0.8889\n",
      "Epoch 157/200\n",
      "6/6 [==============================] - 0s 7ms/step - loss: 0.4265 - acc: 0.8492 - val_loss: 0.3985 - val_acc: 0.8889\n",
      "Epoch 158/200\n",
      "6/6 [==============================] - 0s 7ms/step - loss: 0.4256 - acc: 0.8492 - val_loss: 0.3979 - val_acc: 0.8889\n",
      "Epoch 159/200\n",
      "6/6 [==============================] - 0s 7ms/step - loss: 0.4248 - acc: 0.8492 - val_loss: 0.3972 - val_acc: 0.8889\n",
      "Epoch 160/200\n",
      "6/6 [==============================] - 0s 6ms/step - loss: 0.4239 - acc: 0.8492 - val_loss: 0.3967 - val_acc: 0.8889\n",
      "Epoch 161/200\n",
      "6/6 [==============================] - 0s 5ms/step - loss: 0.4231 - acc: 0.8492 - val_loss: 0.3961 - val_acc: 0.8889\n",
      "Epoch 162/200\n",
      "6/6 [==============================] - 0s 8ms/step - loss: 0.4222 - acc: 0.8492 - val_loss: 0.3956 - val_acc: 0.8889\n",
      "Epoch 163/200\n",
      "6/6 [==============================] - 0s 6ms/step - loss: 0.4214 - acc: 0.8492 - val_loss: 0.3949 - val_acc: 0.8889\n",
      "Epoch 164/200\n",
      "6/6 [==============================] - 0s 6ms/step - loss: 0.4206 - acc: 0.8492 - val_loss: 0.3944 - val_acc: 0.8889\n",
      "Epoch 165/200\n",
      "6/6 [==============================] - 0s 6ms/step - loss: 0.4198 - acc: 0.8547 - val_loss: 0.3938 - val_acc: 0.8889\n",
      "Epoch 166/200\n",
      "6/6 [==============================] - 0s 6ms/step - loss: 0.4189 - acc: 0.8547 - val_loss: 0.3933 - val_acc: 0.8889\n",
      "Epoch 167/200\n",
      "6/6 [==============================] - 0s 6ms/step - loss: 0.4182 - acc: 0.8547 - val_loss: 0.3926 - val_acc: 0.8889\n",
      "Epoch 168/200\n",
      "6/6 [==============================] - 0s 6ms/step - loss: 0.4173 - acc: 0.8547 - val_loss: 0.3920 - val_acc: 0.8889\n",
      "Epoch 169/200\n",
      "6/6 [==============================] - 0s 5ms/step - loss: 0.4165 - acc: 0.8547 - val_loss: 0.3913 - val_acc: 0.8889\n",
      "Epoch 170/200\n",
      "6/6 [==============================] - 0s 6ms/step - loss: 0.4158 - acc: 0.8547 - val_loss: 0.3908 - val_acc: 0.8889\n",
      "Epoch 171/200\n",
      "6/6 [==============================] - 0s 6ms/step - loss: 0.4149 - acc: 0.8547 - val_loss: 0.3901 - val_acc: 0.8889\n",
      "Epoch 172/200\n",
      "6/6 [==============================] - 0s 5ms/step - loss: 0.4141 - acc: 0.8547 - val_loss: 0.3895 - val_acc: 0.8889\n",
      "Epoch 173/200\n",
      "6/6 [==============================] - 0s 7ms/step - loss: 0.4134 - acc: 0.8547 - val_loss: 0.3890 - val_acc: 0.8889\n",
      "Epoch 174/200\n",
      "6/6 [==============================] - 0s 7ms/step - loss: 0.4126 - acc: 0.8547 - val_loss: 0.3884 - val_acc: 0.8889\n",
      "Epoch 175/200\n",
      "6/6 [==============================] - 0s 6ms/step - loss: 0.4118 - acc: 0.8547 - val_loss: 0.3877 - val_acc: 0.8889\n",
      "Epoch 176/200\n",
      "6/6 [==============================] - 0s 9ms/step - loss: 0.4111 - acc: 0.8547 - val_loss: 0.3873 - val_acc: 0.8889\n",
      "Epoch 177/200\n",
      "6/6 [==============================] - 0s 9ms/step - loss: 0.4103 - acc: 0.8547 - val_loss: 0.3868 - val_acc: 0.8889\n",
      "Epoch 178/200\n",
      "6/6 [==============================] - 0s 9ms/step - loss: 0.4096 - acc: 0.8547 - val_loss: 0.3863 - val_acc: 0.8889\n",
      "Epoch 179/200\n",
      "6/6 [==============================] - 0s 9ms/step - loss: 0.4088 - acc: 0.8547 - val_loss: 0.3858 - val_acc: 0.8889\n",
      "Epoch 180/200\n",
      "6/6 [==============================] - 0s 9ms/step - loss: 0.4081 - acc: 0.8547 - val_loss: 0.3852 - val_acc: 0.8889\n",
      "Epoch 181/200\n",
      "6/6 [==============================] - 0s 10ms/step - loss: 0.4074 - acc: 0.8547 - val_loss: 0.3849 - val_acc: 0.8889\n",
      "Epoch 182/200\n",
      "6/6 [==============================] - 0s 10ms/step - loss: 0.4066 - acc: 0.8547 - val_loss: 0.3844 - val_acc: 0.8889\n",
      "Epoch 183/200\n",
      "6/6 [==============================] - 0s 11ms/step - loss: 0.4059 - acc: 0.8547 - val_loss: 0.3839 - val_acc: 0.8889\n",
      "Epoch 184/200\n",
      "6/6 [==============================] - 0s 10ms/step - loss: 0.4052 - acc: 0.8547 - val_loss: 0.3834 - val_acc: 0.8889\n",
      "Epoch 185/200\n",
      "6/6 [==============================] - 0s 9ms/step - loss: 0.4045 - acc: 0.8603 - val_loss: 0.3829 - val_acc: 0.8889\n",
      "Epoch 186/200\n",
      "6/6 [==============================] - 0s 9ms/step - loss: 0.4038 - acc: 0.8603 - val_loss: 0.3823 - val_acc: 0.8889\n",
      "Epoch 187/200\n",
      "6/6 [==============================] - 0s 9ms/step - loss: 0.4031 - acc: 0.8603 - val_loss: 0.3818 - val_acc: 0.8889\n",
      "Epoch 188/200\n",
      "6/6 [==============================] - 0s 8ms/step - loss: 0.4024 - acc: 0.8603 - val_loss: 0.3815 - val_acc: 0.8889\n",
      "Epoch 189/200\n",
      "6/6 [==============================] - 0s 7ms/step - loss: 0.4016 - acc: 0.8603 - val_loss: 0.3810 - val_acc: 0.8889\n",
      "Epoch 190/200\n",
      "6/6 [==============================] - 0s 9ms/step - loss: 0.4010 - acc: 0.8603 - val_loss: 0.3804 - val_acc: 0.8889\n",
      "Epoch 191/200\n",
      "6/6 [==============================] - 0s 7ms/step - loss: 0.4002 - acc: 0.8603 - val_loss: 0.3799 - val_acc: 0.8889\n",
      "Epoch 192/200\n",
      "6/6 [==============================] - 0s 9ms/step - loss: 0.3996 - acc: 0.8603 - val_loss: 0.3794 - val_acc: 0.8889\n",
      "Epoch 193/200\n",
      "6/6 [==============================] - 0s 7ms/step - loss: 0.3989 - acc: 0.8603 - val_loss: 0.3790 - val_acc: 0.8889\n",
      "Epoch 194/200\n",
      "6/6 [==============================] - 0s 9ms/step - loss: 0.3983 - acc: 0.8603 - val_loss: 0.3786 - val_acc: 0.8889\n",
      "Epoch 195/200\n",
      "6/6 [==============================] - 0s 9ms/step - loss: 0.3975 - acc: 0.8603 - val_loss: 0.3782 - val_acc: 0.8889\n",
      "Epoch 196/200\n",
      "6/6 [==============================] - 0s 8ms/step - loss: 0.3969 - acc: 0.8603 - val_loss: 0.3777 - val_acc: 0.8889\n",
      "Epoch 197/200\n",
      "6/6 [==============================] - 0s 9ms/step - loss: 0.3962 - acc: 0.8603 - val_loss: 0.3774 - val_acc: 0.8889\n",
      "Epoch 198/200\n",
      "6/6 [==============================] - 0s 9ms/step - loss: 0.3956 - acc: 0.8603 - val_loss: 0.3769 - val_acc: 0.8889\n",
      "Epoch 199/200\n",
      "6/6 [==============================] - 0s 9ms/step - loss: 0.3949 - acc: 0.8603 - val_loss: 0.3763 - val_acc: 0.8889\n",
      "Epoch 200/200\n",
      "6/6 [==============================] - 0s 8ms/step - loss: 0.3942 - acc: 0.8603 - val_loss: 0.3759 - val_acc: 0.8889\n"
     ]
    }
   ],
   "source": [
    "history = Model.fit(X_train, y_train, epochs = 200, validation_data = (X_test, y_test))"
   ]
  },
  {
   "cell_type": "code",
   "execution_count": 148,
   "metadata": {},
   "outputs": [
    {
     "data": {
      "image/png": "[encoded data removed]",
      "text/plain": [
       "<Figure size 432x288 with 1 Axes>"
      ]
     },
     "metadata": {
      "needs_background": "light"
     },
     "output_type": "display_data"
    },
    {
     "name": "stdout",
     "output_type": "stream",
     "text": [
      "Initial training accuracy with preprocessing is:  0.44134077429771423\n",
      "Final training accuracy with preprocessing is:  0.8603351712226868\n",
      "Initial training loss with preprocessing is:  0.7896841168403625\n",
      "Final training loss with preprocessing is:  0.39423835277557373\n"
     ]
    }
   ],
   "source": [
    "#Plotting model history\n",
    "plt.plot(history.history['acc'])\n",
    "plt.plot(history.history['loss'])\n",
    "plt.legend(['Training Accuracy', 'Training Loss'])\n",
    "plt.title('Training History')\n",
    "plt.ylabel('Value')\n",
    "plt.xlabel('epochs')\n",
    "plt.show()\n",
    "print(\"Initial training accuracy with preprocessing is: \", history.history['acc'][0])\n",
    "print(\"Final training accuracy with preprocessing is: \", history.history['acc'][-1])\n",
    "\n",
    "print(\"Initial training loss with preprocessing is: \", history.history['loss'][0])\n",
    "print(\"Final training loss with preprocessing is: \", history.history['loss'][-1])"
   ]
  },
  {
   "cell_type": "code",
   "execution_count": 150,
   "metadata": {},
   "outputs": [
    {
     "data": {
      "image/png": "[encoded data removed]",
      "text/plain": [
       "<Figure size 432x288 with 1 Axes>"
      ]
     },
     "metadata": {
      "needs_background": "light"
     },
     "output_type": "display_data"
    },
    {
     "name": "stdout",
     "output_type": "stream",
     "text": [
      "Initial Validation accuracy is:  0.5111111402511597\n",
      "Best Validation accuracy is:  0.8888888955116272\n",
      "Initial Validation loss is:  0.7534509301185608\n",
      "Best Validation loss is:  0.37588629126548767\n"
     ]
    }
   ],
   "source": [
    "#Plotting model history\n",
    "plt.plot(history.history['val_acc'])\n",
    "plt.plot(history.history['val_loss'])\n",
    "plt.legend(['Validation Accuracy', 'Validation Loss'])\n",
    "plt.title('Validation History')\n",
    "plt.ylabel('Value')\n",
    "plt.xlabel('epochs')\n",
    "plt.show()\n",
    "print(\"Initial Validation accuracy is: \", history.history['val_acc'][0])\n",
    "print(\"Best Validation accuracy is: \", max(history.history['val_acc']))\n",
    "\n",
    "print(\"Initial Validation loss is: \", history.history['val_loss'][0])\n",
    "print(\"Best Validation loss is: \", min(history.history['val_loss']))"
   ]
  },
  {
   "cell_type": "code",
   "execution_count": null,
   "metadata": {},
   "outputs": [],
   "source": []
  }
 ],
 "metadata": {
  "kernelspec": {
   "display_name": "Python 3",
   "language": "python",
   "name": "python3"
  },
  "language_info": {
   "codemirror_mode": {
    "name": "ipython",
    "version": 3
   },
   "file_extension": ".py",
   "mimetype": "text/x-python",
   "name": "python",
   "nbconvert_exporter": "python",
   "pygments_lexer": "ipython3",
   "version": "3.7.6"
  }
 },
 "nbformat": 4,
 "nbformat_minor": 4
}
