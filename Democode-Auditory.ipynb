{
 "cells": [
  {
   "cell_type": "code",
   "execution_count": 1,
   "metadata": {},
   "outputs": [
    {
     "name": "stdout",
     "output_type": "stream",
     "text": [
      "0.23.0\n"
     ]
    }
   ],
   "source": [
    "import matplotlib\n",
    "import pathlib\n",
    "\n",
    "import mne\n",
    "print(mne.__version__)\n",
    "\n",
    "from scipy.io import loadmat, savemat\n",
    "from fracModel import fracOrdUU\n",
    "import os\n",
    "import numpy as np"
   ]
  },
  {
   "cell_type": "code",
   "execution_count": 2,
   "metadata": {},
   "outputs": [],
   "source": [
    "# To load graphs using Qt console\n",
    "matplotlib.use('Qt5Agg')"
   ]
  },
  {
   "cell_type": "code",
   "execution_count": 3,
   "metadata": {},
   "outputs": [],
   "source": [
    "# Data of a go/no-go task originally taken from https://openneuro.org/datasets/ds003690/versions/1.0.0\n",
    "edata = np.load(\"data/Audata.npz\")[\"X\"]\n",
    "Y = np.load(\"data/Audata.npz\")[\"y\"]"
   ]
  },
  {
   "cell_type": "code",
   "execution_count": 4,
   "metadata": {},
   "outputs": [],
   "source": [
    "edata = edata*1e6    #Scale so that EM algo works"
   ]
  },
  {
   "cell_type": "code",
   "execution_count": 5,
   "metadata": {},
   "outputs": [
    {
     "data": {
      "text/plain": [
       "array([[ -5.15470755,  -3.14432874,  -2.0314145 , ...,  -1.63594349,\n",
       "          0.10067975,   2.21421123],\n",
       "       [ -5.83107443,  -3.52958872,  -1.98812517, ...,  -4.61134055,\n",
       "         -1.88496661,   0.94532055],\n",
       "       [ -3.8391348 ,  -2.85403036,  -1.88846885, ...,   2.66928381,\n",
       "          4.54302294,   6.16168077],\n",
       "       ...,\n",
       "       [ -5.38114064,  -4.77771393,  -4.1721551 , ...,   3.12278397,\n",
       "          4.72275601,   6.30938749],\n",
       "       [ -4.33310438,  -3.67027474,  -3.17584185, ...,   4.6567451 ,\n",
       "          6.783997  ,   8.9434462 ],\n",
       "       [  0.20419303,   2.00336793,   1.75149337, ..., -17.06967326,\n",
       "        -13.38565904,  -7.69476296]])"
      ]
     },
     "execution_count": 5,
     "metadata": {},
     "output_type": "execute_result"
    }
   ],
   "source": [
    "edata[0]"
   ]
  },
  {
   "cell_type": "code",
   "execution_count": 6,
   "metadata": {},
   "outputs": [
    {
     "name": "stdout",
     "output_type": "stream",
     "text": [
      "(1077, 11, 351)\n",
      "(1077,)\n"
     ]
    }
   ],
   "source": [
    "print(edata.shape)\n",
    "print(Y.shape)"
   ]
  },
  {
   "cell_type": "code",
   "execution_count": 7,
   "metadata": {},
   "outputs": [],
   "source": [
    "def get_laplace_A(X):\n",
    "    \n",
    "    meanX = np.mean(X, axis=1)\n",
    "    X = X.T - meanX\n",
    "    X = X.T\n",
    "    fModel = fracOrdUU(verbose=1)\n",
    "    fModel.fit(X, 1)\n",
    "    \n",
    "    return fModel._AMat[-1]\n",
    "\n",
    "def get_gaussian_A(X):\n",
    "    \n",
    "    meanX = np.mean(X, axis=1)\n",
    "    X = X.T - meanX\n",
    "    X = X.T\n",
    "    fModel = fracOrdUU(verbose=1)\n",
    "    fModel.fit(X, 2)\n",
    "    \n",
    "    return fModel._AMat[-1]"
   ]
  },
  {
   "cell_type": "code",
   "execution_count": 8,
   "metadata": {
    "scrolled": true
   },
   "outputs": [],
   "source": [
    "# To get A with Laplacian prior (Takes 30+ min)\n",
    "# Adata = np.stack([get_laplacian_A(x) for x in edata])\n",
    "\n",
    "# To get A with Gaussian prior\n",
    "# Adata = np.stack([get_gaussian_A(x) for x in edata])\n",
    "\n",
    "# Since it takes so long to load it with a Laplacian prior, we have already cached it in data\n",
    "# Adata = np.load(\"save/AdataAuL.npz\")[\"Adata\"]\n",
    "# Y = np.load(\"save/AdataAuL.npz\")[\"Y\"]"
   ]
  },
  {
   "cell_type": "code",
   "execution_count": 9,
   "metadata": {},
   "outputs": [],
   "source": [
    "# If you want to save your data\n",
    "# np.savez('AdataAu.npz', Adata = Adata, Y = Y)"
   ]
  },
  {
   "cell_type": "markdown",
   "metadata": {},
   "source": [
    "#### Feature extraction"
   ]
  },
  {
   "cell_type": "code",
   "execution_count": 10,
   "metadata": {},
   "outputs": [],
   "source": [
    "# If you are loading from a saved location\n",
    "# Adata = np.load(\"AdataAuL.npz\")[\"Adata\"]\n",
    "# Y = np.load(\"AdataAuL.npz\")[\"Y\"]"
   ]
  },
  {
   "cell_type": "code",
   "execution_count": 11,
   "metadata": {},
   "outputs": [],
   "source": [
    "Ago = np.stack([Adata[i] for i in range(Adata.shape[0]) if Y[i]==2])\n",
    "Anogo = np.stack([Adata[i] for i in range(Adata.shape[0]) if Y[i]==4])\n",
    "Abp = np.stack([Adata[i] for i in range(Adata.shape[0]) if Y[i]==5])"
   ]
  },
  {
   "cell_type": "code",
   "execution_count": 12,
   "metadata": {},
   "outputs": [],
   "source": [
    "Ygo = np.stack([Y[i] for i in range(Adata.shape[0]) if Y[i]==2])\n",
    "Ybp = np.stack([Y[i] for i in range(Adata.shape[0]) if Y[i]==5])"
   ]
  },
  {
   "cell_type": "code",
   "execution_count": 13,
   "metadata": {},
   "outputs": [],
   "source": [
    "import matplotlib.pyplot as plt\n",
    "%matplotlib inline"
   ]
  },
  {
   "cell_type": "code",
   "execution_count": 14,
   "metadata": {},
   "outputs": [],
   "source": [
    "AgoAv = np.average(Ago, axis = 0)\n",
    "AnogoAv = np.average(Anogo, axis = 0)\n",
    "AbpAv = np.average(Abp, axis = 0)"
   ]
  },
  {
   "cell_type": "code",
   "execution_count": 15,
   "metadata": {},
   "outputs": [
    {
     "data": {
      "text/plain": [
       "<matplotlib.colorbar.Colorbar at 0x2555e1987c8>"
      ]
     },
     "execution_count": 15,
     "metadata": {},
     "output_type": "execute_result"
    },
    {
     "data": {
      "image/png": "[encoded data removed]",
      "text/plain": [
       "<Figure size 432x288 with 2 Axes>"
      ]
     },
     "metadata": {
      "needs_background": "light"
     },
     "output_type": "display_data"
    }
   ],
   "source": [
    "fig = plt.figure()\n",
    "f = plt.pcolormesh(AgoAv, vmin=-0.4, vmax=0.4)\n",
    "plt.colorbar(f)"
   ]
  },
  {
   "cell_type": "code",
   "execution_count": 16,
   "metadata": {},
   "outputs": [
    {
     "data": {
      "text/plain": [
       "<matplotlib.colorbar.Colorbar at 0x2555e2cec08>"
      ]
     },
     "execution_count": 16,
     "metadata": {},
     "output_type": "execute_result"
    },
    {
     "data": {
      "image/png": "[encoded data removed]",
      "text/plain": [
       "<Figure size 432x288 with 2 Axes>"
      ]
     },
     "metadata": {
      "needs_background": "light"
     },
     "output_type": "display_data"
    }
   ],
   "source": [
    "fig = plt.figure()\n",
    "f = plt.pcolormesh(AbpAv, vmin=-0.4, vmax=0.4)\n",
    "plt.colorbar(f)"
   ]
  },
  {
   "cell_type": "markdown",
   "metadata": {},
   "source": [
    "## Applying ML"
   ]
  },
  {
   "cell_type": "code",
   "execution_count": 17,
   "metadata": {},
   "outputs": [],
   "source": [
    "X = np.stack([np.concatenate([a[:, i] for i in range(11)]) for a in np.concatenate([Ago, Abp])])"
   ]
  },
  {
   "cell_type": "code",
   "execution_count": 18,
   "metadata": {},
   "outputs": [],
   "source": [
    "Y = np.concatenate([Ygo, Ybp])"
   ]
  },
  {
   "cell_type": "code",
   "execution_count": 19,
   "metadata": {},
   "outputs": [
    {
     "data": {
      "text/plain": [
       "(957,)"
      ]
     },
     "execution_count": 19,
     "metadata": {},
     "output_type": "execute_result"
    }
   ],
   "source": [
    "Y.shape"
   ]
  },
  {
   "cell_type": "code",
   "execution_count": 20,
   "metadata": {},
   "outputs": [
    {
     "data": {
      "text/plain": [
       "(957, 121)"
      ]
     },
     "execution_count": 20,
     "metadata": {},
     "output_type": "execute_result"
    }
   ],
   "source": [
    "X.shape"
   ]
  },
  {
   "cell_type": "code",
   "execution_count": 21,
   "metadata": {},
   "outputs": [],
   "source": [
    "import pandas as pd\n",
    "from sklearn.model_selection import train_test_split\n",
    "X_train, X_test, y_train, y_test = train_test_split(X, Y, test_size = 0.2, random_state = 0)"
   ]
  },
  {
   "cell_type": "markdown",
   "metadata": {},
   "source": [
    "#### Logistic Regression"
   ]
  },
  {
   "cell_type": "code",
   "execution_count": 22,
   "metadata": {},
   "outputs": [
    {
     "data": {
      "text/plain": [
       "LogisticRegression(C=1.0, class_weight=None, dual=False, fit_intercept=True,\n",
       "                   intercept_scaling=1, l1_ratio=None, max_iter=1000,\n",
       "                   multi_class='auto', n_jobs=None, penalty='l2',\n",
       "                   random_state=0, solver='lbfgs', tol=0.0001, verbose=0,\n",
       "                   warm_start=False)"
      ]
     },
     "execution_count": 22,
     "metadata": {},
     "output_type": "execute_result"
    }
   ],
   "source": [
    "from sklearn.linear_model import LogisticRegression\n",
    "Logclassifier = LogisticRegression(random_state = 0, max_iter = 1000)\n",
    "Logclassifier.fit(X_train, y_train)"
   ]
  },
  {
   "cell_type": "code",
   "execution_count": 23,
   "metadata": {},
   "outputs": [],
   "source": [
    "y_pred_log = Logclassifier.predict(X_test)"
   ]
  },
  {
   "cell_type": "code",
   "execution_count": 24,
   "metadata": {},
   "outputs": [
    {
     "name": "stdout",
     "output_type": "stream",
     "text": [
      "[[55 34]\n",
      " [68 35]]\n"
     ]
    }
   ],
   "source": [
    "from sklearn.metrics import confusion_matrix\n",
    "cm = confusion_matrix(y_test, y_pred_log)\n",
    "print(cm)"
   ]
  },
  {
   "cell_type": "code",
   "execution_count": 25,
   "metadata": {},
   "outputs": [
    {
     "name": "stdout",
     "output_type": "stream",
     "text": [
      "Accuracy: 52.14 %\n",
      "Standard Deviation: 7.67 %\n"
     ]
    }
   ],
   "source": [
    "from sklearn.model_selection import cross_val_score\n",
    "accuracies = cross_val_score(estimator = Logclassifier, X = X_train, y = y_train, cv = 10)\n",
    "print(\"Accuracy: {:.2f} %\".format(accuracies.mean()*100))\n",
    "print(\"Standard Deviation: {:.2f} %\".format(accuracies.std()*100))"
   ]
  },
  {
   "cell_type": "markdown",
   "metadata": {},
   "source": [
    "#### Kernal SVM"
   ]
  },
  {
   "cell_type": "code",
   "execution_count": 26,
   "metadata": {},
   "outputs": [
    {
     "data": {
      "text/plain": [
       "SVC(C=1.0, break_ties=False, cache_size=200, class_weight=None, coef0=0.0,\n",
       "    decision_function_shape='ovr', degree=3, gamma='scale', kernel='rbf',\n",
       "    max_iter=-1, probability=False, random_state=0, shrinking=True, tol=0.001,\n",
       "    verbose=False)"
      ]
     },
     "execution_count": 26,
     "metadata": {},
     "output_type": "execute_result"
    }
   ],
   "source": [
    "from sklearn.svm import SVC\n",
    "SVCclassifier = SVC(kernel = 'rbf', random_state = 0)\n",
    "SVCclassifier.fit(X_train, y_train)"
   ]
  },
  {
   "cell_type": "code",
   "execution_count": 27,
   "metadata": {},
   "outputs": [],
   "source": [
    "y_pred_SVC = SVCclassifier.predict(X_test)"
   ]
  },
  {
   "cell_type": "code",
   "execution_count": 28,
   "metadata": {},
   "outputs": [
    {
     "data": {
      "text/plain": [
       "array([2., 2., 2., 2., 5., 2., 5., 2., 2., 5., 2., 2., 5., 5., 5., 5., 5.,\n",
       "       2., 2., 2., 5., 5., 2., 5., 5., 2., 2., 2., 2., 5., 2., 5., 2., 2.,\n",
       "       2., 2., 5., 5., 2., 2., 5., 2., 2., 2., 5., 2., 5., 5., 5., 2., 2.,\n",
       "       5., 2., 2., 2., 2., 2., 5., 2., 5., 5., 2., 2., 2., 5., 5., 2., 5.,\n",
       "       5., 2., 2., 2., 2., 5., 2., 5., 2., 5., 5., 2., 5., 5., 5., 2., 2.,\n",
       "       2., 2., 2., 5., 5., 5., 2., 2., 2., 2., 5., 2., 2., 5., 2., 2., 2.,\n",
       "       2., 2., 2., 2., 5., 2., 5., 2., 2., 5., 5., 2., 2., 2., 5., 2., 2.,\n",
       "       5., 2., 2., 2., 5., 2., 2., 5., 2., 2., 5., 2., 5., 2., 5., 2., 5.,\n",
       "       5., 5., 2., 2., 2., 2., 5., 2., 2., 5., 2., 5., 2., 5., 2., 5., 2.,\n",
       "       2., 5., 2., 2., 5., 2., 2., 2., 5., 2., 5., 2., 2., 2., 2., 2., 2.,\n",
       "       2., 2., 2., 5., 2., 2., 5., 5., 2., 5., 2., 5., 5., 2., 2., 5., 2.,\n",
       "       2., 2., 2., 2., 5.])"
      ]
     },
     "execution_count": 28,
     "metadata": {},
     "output_type": "execute_result"
    }
   ],
   "source": [
    "y_pred_SVC"
   ]
  },
  {
   "cell_type": "code",
   "execution_count": 29,
   "metadata": {},
   "outputs": [
    {
     "name": "stdout",
     "output_type": "stream",
     "text": [
      "[[54 35]\n",
      " [66 37]]\n"
     ]
    },
    {
     "data": {
      "text/plain": [
       "0.4739583333333333"
      ]
     },
     "execution_count": 29,
     "metadata": {},
     "output_type": "execute_result"
    }
   ],
   "source": [
    "from sklearn.metrics import confusion_matrix, accuracy_score\n",
    "cm = confusion_matrix(y_test, y_pred_SVC)\n",
    "print(cm)\n",
    "accuracy_score(y_test, y_pred_SVC)"
   ]
  },
  {
   "cell_type": "markdown",
   "metadata": {},
   "source": [
    "#### Random Forest"
   ]
  },
  {
   "cell_type": "code",
   "execution_count": 30,
   "metadata": {},
   "outputs": [
    {
     "data": {
      "text/plain": [
       "RandomForestClassifier(bootstrap=True, ccp_alpha=0.0, class_weight=None,\n",
       "                       criterion='entropy', max_depth=None, max_features='auto',\n",
       "                       max_leaf_nodes=None, max_samples=None,\n",
       "                       min_impurity_decrease=0.0, min_impurity_split=None,\n",
       "                       min_samples_leaf=1, min_samples_split=2,\n",
       "                       min_weight_fraction_leaf=0.0, n_estimators=10,\n",
       "                       n_jobs=None, oob_score=False, random_state=0, verbose=0,\n",
       "                       warm_start=False)"
      ]
     },
     "execution_count": 30,
     "metadata": {},
     "output_type": "execute_result"
    }
   ],
   "source": [
    "from sklearn.ensemble import RandomForestClassifier\n",
    "RFclassifier = RandomForestClassifier(n_estimators = 10, criterion = 'entropy', random_state = 0)\n",
    "RFclassifier.fit(X_train, y_train)"
   ]
  },
  {
   "cell_type": "code",
   "execution_count": 31,
   "metadata": {},
   "outputs": [],
   "source": [
    "y_pred_RF = RFclassifier.predict(X_test)"
   ]
  },
  {
   "cell_type": "code",
   "execution_count": 32,
   "metadata": {},
   "outputs": [
    {
     "name": "stdout",
     "output_type": "stream",
     "text": [
      "[[62 27]\n",
      " [72 31]]\n"
     ]
    },
    {
     "data": {
      "text/plain": [
       "0.484375"
      ]
     },
     "execution_count": 32,
     "metadata": {},
     "output_type": "execute_result"
    }
   ],
   "source": [
    "from sklearn.metrics import confusion_matrix, accuracy_score\n",
    "cm = confusion_matrix(y_test, y_pred_RF)\n",
    "print(cm)\n",
    "accuracy_score(y_test, y_pred_RF)"
   ]
  },
  {
   "cell_type": "markdown",
   "metadata": {},
   "source": [
    "#### KNN"
   ]
  },
  {
   "cell_type": "code",
   "execution_count": 33,
   "metadata": {},
   "outputs": [
    {
     "data": {
      "text/plain": [
       "KNeighborsClassifier(algorithm='auto', leaf_size=30, metric='minkowski',\n",
       "                     metric_params=None, n_jobs=None, n_neighbors=5, p=2,\n",
       "                     weights='uniform')"
      ]
     },
     "execution_count": 33,
     "metadata": {},
     "output_type": "execute_result"
    }
   ],
   "source": [
    "from sklearn.neighbors import KNeighborsClassifier\n",
    "KNNclassifier = KNeighborsClassifier(n_neighbors = 5, metric = 'minkowski', p = 2)\n",
    "KNNclassifier.fit(X_train, y_train)"
   ]
  },
  {
   "cell_type": "code",
   "execution_count": 34,
   "metadata": {},
   "outputs": [],
   "source": [
    "y_pred_KNN = KNNclassifier.predict(X_test)"
   ]
  },
  {
   "cell_type": "code",
   "execution_count": 35,
   "metadata": {},
   "outputs": [
    {
     "name": "stdout",
     "output_type": "stream",
     "text": [
      "[[39 50]\n",
      " [63 40]]\n"
     ]
    },
    {
     "data": {
      "text/plain": [
       "0.4114583333333333"
      ]
     },
     "execution_count": 35,
     "metadata": {},
     "output_type": "execute_result"
    }
   ],
   "source": [
    "from sklearn.metrics import confusion_matrix, accuracy_score\n",
    "cm = confusion_matrix(y_test, y_pred_KNN)\n",
    "print(cm)\n",
    "accuracy_score(y_test, y_pred_KNN)"
   ]
  },
  {
   "cell_type": "markdown",
   "metadata": {},
   "source": [
    "#### Naive Bayes"
   ]
  },
  {
   "cell_type": "code",
   "execution_count": 36,
   "metadata": {},
   "outputs": [
    {
     "data": {
      "text/plain": [
       "GaussianNB(priors=None, var_smoothing=1e-09)"
      ]
     },
     "execution_count": 36,
     "metadata": {},
     "output_type": "execute_result"
    }
   ],
   "source": [
    "from sklearn.naive_bayes import GaussianNB\n",
    "NBclassifier = GaussianNB()\n",
    "NBclassifier.fit(X_train, y_train)"
   ]
  },
  {
   "cell_type": "code",
   "execution_count": 37,
   "metadata": {},
   "outputs": [],
   "source": [
    "y_pred_NB = NBclassifier.predict(X_test)"
   ]
  },
  {
   "cell_type": "code",
   "execution_count": 38,
   "metadata": {},
   "outputs": [
    {
     "name": "stdout",
     "output_type": "stream",
     "text": [
      "[[75 14]\n",
      " [88 15]]\n"
     ]
    },
    {
     "data": {
      "text/plain": [
       "0.46875"
      ]
     },
     "execution_count": 38,
     "metadata": {},
     "output_type": "execute_result"
    }
   ],
   "source": [
    "from sklearn.metrics import confusion_matrix, accuracy_score\n",
    "cm = confusion_matrix(y_test, y_pred_NB)\n",
    "print(cm)\n",
    "accuracy_score(y_test, y_pred_NB)"
   ]
  },
  {
   "cell_type": "markdown",
   "metadata": {},
   "source": [
    "#### MLP"
   ]
  },
  {
   "cell_type": "code",
   "execution_count": 41,
   "metadata": {},
   "outputs": [],
   "source": [
    "import tensorflow as tf\n",
    "from tensorflow.keras.models import Model\n",
    "from tensorflow.keras.layers import Dense"
   ]
  },
  {
   "cell_type": "code",
   "execution_count": 42,
   "metadata": {},
   "outputs": [],
   "source": [
    "dict = {2: 0,5: 1}\n",
    "\n",
    "for i in range(len(y_train)):\n",
    "    y_train[i] = dict[y_train[i]]\n",
    "    \n",
    "num_classes = 2\n",
    "y_train = tf.keras.utils.to_categorical(y_train, num_classes)"
   ]
  },
  {
   "cell_type": "code",
   "execution_count": 43,
   "metadata": {},
   "outputs": [],
   "source": [
    "for i in range(len(y_test)):\n",
    "    y_test[i] = dict[y_test[i]]\n",
    "    \n",
    "num_classes = 2\n",
    "y_test = tf.keras.utils.to_categorical(y_test, num_classes)"
   ]
  },
  {
   "cell_type": "code",
   "execution_count": 44,
   "metadata": {},
   "outputs": [
    {
     "name": "stdout",
     "output_type": "stream",
     "text": [
      "Model: \"model\"\n",
      "_________________________________________________________________\n",
      "Layer (type)                 Output Shape              Param #   \n",
      "=================================================================\n",
      "input_1 (InputLayer)         [(None, 121)]             0         \n",
      "_________________________________________________________________\n",
      "dense_4 (Dense)              (None, 2)                 244       \n",
      "=================================================================\n",
      "Total params: 244\n",
      "Trainable params: 244\n",
      "Non-trainable params: 0\n",
      "_________________________________________________________________\n"
     ]
    }
   ],
   "source": [
    "ip = tf.keras.Input(shape = 121)\n",
    "dense1 = tf.keras.layers.Dense(units = 32, activation = \"relu\")(ip)\n",
    "dense2 = tf.keras.layers.Dense(units = 32, activation = \"relu\")(dense1)\n",
    "dense3 = tf.keras.layers.Dense(units = 16, activation = \"relu\")(dense2)\n",
    "dense4 = tf.keras.layers.Dense(units = 8, activation = \"relu\")(dense3)\n",
    "dense4 = tf.keras.layers.Dense(units = 2, activation = \"sigmoid\")(ip)\n",
    "\n",
    "Model = tf.keras.models.Model(inputs = ip, outputs = dense4)\n",
    "Model.summary()"
   ]
  },
  {
   "cell_type": "code",
   "execution_count": 45,
   "metadata": {},
   "outputs": [],
   "source": [
    "Model.compile(loss = 'binary_crossentropy', metrics = ['acc'], optimizer = 'adam')"
   ]
  },
  {
   "cell_type": "code",
   "execution_count": 46,
   "metadata": {
    "scrolled": true
   },
   "outputs": [
    {
     "name": "stdout",
     "output_type": "stream",
     "text": [
      "Epoch 1/200\n",
      "24/24 [==============================] - 2s 7ms/step - loss: 0.7812 - acc: 0.4941 - val_loss: 0.7624 - val_acc: 0.5573\n",
      "Epoch 2/200\n",
      "24/24 [==============================] - 0s 2ms/step - loss: 0.7574 - acc: 0.5020 - val_loss: 0.7528 - val_acc: 0.5417\n",
      "Epoch 3/200\n",
      "24/24 [==============================] - 0s 2ms/step - loss: 0.7411 - acc: 0.5046 - val_loss: 0.7478 - val_acc: 0.5365\n",
      "Epoch 4/200\n",
      "24/24 [==============================] - 0s 2ms/step - loss: 0.7283 - acc: 0.5137 - val_loss: 0.7475 - val_acc: 0.5417\n",
      "Epoch 5/200\n",
      "24/24 [==============================] - 0s 2ms/step - loss: 0.7194 - acc: 0.5150 - val_loss: 0.7473 - val_acc: 0.5156\n",
      "Epoch 6/200\n",
      "24/24 [==============================] - 0s 2ms/step - loss: 0.7113 - acc: 0.5242 - val_loss: 0.7487 - val_acc: 0.4948\n",
      "Epoch 7/200\n",
      "24/24 [==============================] - 0s 2ms/step - loss: 0.7053 - acc: 0.5359 - val_loss: 0.7486 - val_acc: 0.4844\n",
      "Epoch 8/200\n",
      "24/24 [==============================] - 0s 2ms/step - loss: 0.7001 - acc: 0.5386 - val_loss: 0.7509 - val_acc: 0.4844\n",
      "Epoch 9/200\n",
      "24/24 [==============================] - 0s 2ms/step - loss: 0.6955 - acc: 0.5359 - val_loss: 0.7520 - val_acc: 0.4740\n",
      "Epoch 10/200\n",
      "24/24 [==============================] - 0s 2ms/step - loss: 0.6918 - acc: 0.5477 - val_loss: 0.7549 - val_acc: 0.4531\n",
      "Epoch 11/200\n",
      "24/24 [==============================] - 0s 2ms/step - loss: 0.6885 - acc: 0.5503 - val_loss: 0.7539 - val_acc: 0.4375\n",
      "Epoch 12/200\n",
      "24/24 [==============================] - 0s 2ms/step - loss: 0.6862 - acc: 0.5556 - val_loss: 0.7555 - val_acc: 0.4583\n",
      "Epoch 13/200\n",
      "24/24 [==============================] - 0s 2ms/step - loss: 0.6833 - acc: 0.5516 - val_loss: 0.7576 - val_acc: 0.4271\n",
      "Epoch 14/200\n",
      "24/24 [==============================] - 0s 2ms/step - loss: 0.6816 - acc: 0.5595 - val_loss: 0.7595 - val_acc: 0.4427\n",
      "Epoch 15/200\n",
      "24/24 [==============================] - 0s 2ms/step - loss: 0.6797 - acc: 0.5569 - val_loss: 0.7618 - val_acc: 0.4479\n",
      "Epoch 16/200\n",
      "24/24 [==============================] - 0s 2ms/step - loss: 0.6776 - acc: 0.5699 - val_loss: 0.7629 - val_acc: 0.4323\n",
      "Epoch 17/200\n",
      "24/24 [==============================] - 0s 2ms/step - loss: 0.6764 - acc: 0.5634 - val_loss: 0.7645 - val_acc: 0.4479\n",
      "Epoch 18/200\n",
      "24/24 [==============================] - 0s 2ms/step - loss: 0.6747 - acc: 0.5660 - val_loss: 0.7659 - val_acc: 0.4479\n",
      "Epoch 19/200\n",
      "24/24 [==============================] - 0s 2ms/step - loss: 0.6741 - acc: 0.5673 - val_loss: 0.7672 - val_acc: 0.4427\n",
      "Epoch 20/200\n",
      "24/24 [==============================] - 0s 2ms/step - loss: 0.6729 - acc: 0.5660 - val_loss: 0.7674 - val_acc: 0.4635\n",
      "Epoch 21/200\n",
      "24/24 [==============================] - 0s 2ms/step - loss: 0.6719 - acc: 0.5673 - val_loss: 0.7689 - val_acc: 0.4479\n",
      "Epoch 22/200\n",
      "24/24 [==============================] - 0s 2ms/step - loss: 0.6705 - acc: 0.5699 - val_loss: 0.7715 - val_acc: 0.4531\n",
      "Epoch 23/200\n",
      "24/24 [==============================] - 0s 2ms/step - loss: 0.6696 - acc: 0.5712 - val_loss: 0.7720 - val_acc: 0.4479\n",
      "Epoch 24/200\n",
      "24/24 [==============================] - 0s 2ms/step - loss: 0.6692 - acc: 0.5686 - val_loss: 0.7734 - val_acc: 0.4531\n",
      "Epoch 25/200\n",
      "24/24 [==============================] - 0s 2ms/step - loss: 0.6685 - acc: 0.5752 - val_loss: 0.7737 - val_acc: 0.4479\n",
      "Epoch 26/200\n",
      "24/24 [==============================] - 0s 2ms/step - loss: 0.6674 - acc: 0.5804 - val_loss: 0.7740 - val_acc: 0.4531\n",
      "Epoch 27/200\n",
      "24/24 [==============================] - 0s 2ms/step - loss: 0.6670 - acc: 0.5791 - val_loss: 0.7765 - val_acc: 0.4479\n",
      "Epoch 28/200\n",
      "24/24 [==============================] - 0s 2ms/step - loss: 0.6666 - acc: 0.5725 - val_loss: 0.7769 - val_acc: 0.4427\n",
      "Epoch 29/200\n",
      "24/24 [==============================] - 0s 2ms/step - loss: 0.6654 - acc: 0.5804 - val_loss: 0.7778 - val_acc: 0.4583\n",
      "Epoch 30/200\n",
      "24/24 [==============================] - 0s 2ms/step - loss: 0.6654 - acc: 0.5830 - val_loss: 0.7784 - val_acc: 0.4531\n",
      "Epoch 31/200\n",
      "24/24 [==============================] - 0s 2ms/step - loss: 0.6647 - acc: 0.5778 - val_loss: 0.7791 - val_acc: 0.4531\n",
      "Epoch 32/200\n",
      "24/24 [==============================] - 0s 2ms/step - loss: 0.6640 - acc: 0.5843 - val_loss: 0.7794 - val_acc: 0.4531\n",
      "Epoch 33/200\n",
      "24/24 [==============================] - 0s 2ms/step - loss: 0.6641 - acc: 0.5804 - val_loss: 0.7801 - val_acc: 0.4479\n",
      "Epoch 34/200\n",
      "24/24 [==============================] - 0s 2ms/step - loss: 0.6635 - acc: 0.5817 - val_loss: 0.7806 - val_acc: 0.4479\n",
      "Epoch 35/200\n",
      "24/24 [==============================] - 0s 2ms/step - loss: 0.6627 - acc: 0.5804 - val_loss: 0.7825 - val_acc: 0.4531\n",
      "Epoch 36/200\n",
      "24/24 [==============================] - 0s 2ms/step - loss: 0.6623 - acc: 0.5908 - val_loss: 0.7836 - val_acc: 0.4375\n",
      "Epoch 37/200\n",
      "24/24 [==============================] - 0s 2ms/step - loss: 0.6617 - acc: 0.5895 - val_loss: 0.7836 - val_acc: 0.4479\n",
      "Epoch 38/200\n",
      "24/24 [==============================] - 0s 2ms/step - loss: 0.6612 - acc: 0.5908 - val_loss: 0.7835 - val_acc: 0.4427\n",
      "Epoch 39/200\n",
      "24/24 [==============================] - 0s 2ms/step - loss: 0.6608 - acc: 0.5961 - val_loss: 0.7852 - val_acc: 0.4427\n",
      "Epoch 40/200\n",
      "24/24 [==============================] - 0s 2ms/step - loss: 0.6608 - acc: 0.5922 - val_loss: 0.7858 - val_acc: 0.4427\n",
      "Epoch 41/200\n",
      "24/24 [==============================] - 0s 2ms/step - loss: 0.6599 - acc: 0.5908 - val_loss: 0.7859 - val_acc: 0.4427\n",
      "Epoch 42/200\n",
      "24/24 [==============================] - 0s 2ms/step - loss: 0.6600 - acc: 0.5895 - val_loss: 0.7862 - val_acc: 0.4323\n",
      "Epoch 43/200\n",
      "24/24 [==============================] - 0s 2ms/step - loss: 0.6590 - acc: 0.5935 - val_loss: 0.7870 - val_acc: 0.4427\n",
      "Epoch 44/200\n",
      "24/24 [==============================] - 0s 2ms/step - loss: 0.6595 - acc: 0.5935 - val_loss: 0.7868 - val_acc: 0.4479\n",
      "Epoch 45/200\n",
      "24/24 [==============================] - 0s 3ms/step - loss: 0.6585 - acc: 0.5869 - val_loss: 0.7869 - val_acc: 0.4479\n",
      "Epoch 46/200\n",
      "24/24 [==============================] - 0s 2ms/step - loss: 0.6581 - acc: 0.5935 - val_loss: 0.7883 - val_acc: 0.4427\n",
      "Epoch 47/200\n",
      "24/24 [==============================] - 0s 2ms/step - loss: 0.6581 - acc: 0.5908 - val_loss: 0.7884 - val_acc: 0.4479\n",
      "Epoch 48/200\n",
      "24/24 [==============================] - 0s 2ms/step - loss: 0.6579 - acc: 0.5948 - val_loss: 0.7896 - val_acc: 0.4531\n",
      "Epoch 49/200\n",
      "24/24 [==============================] - 0s 2ms/step - loss: 0.6573 - acc: 0.5856 - val_loss: 0.7887 - val_acc: 0.4479\n",
      "Epoch 50/200\n",
      "24/24 [==============================] - 0s 2ms/step - loss: 0.6570 - acc: 0.5895 - val_loss: 0.7909 - val_acc: 0.4427\n",
      "Epoch 51/200\n",
      "24/24 [==============================] - 0s 2ms/step - loss: 0.6566 - acc: 0.5882 - val_loss: 0.7906 - val_acc: 0.4479\n",
      "Epoch 52/200\n",
      "24/24 [==============================] - 0s 2ms/step - loss: 0.6569 - acc: 0.5922 - val_loss: 0.7920 - val_acc: 0.4479\n",
      "Epoch 53/200\n",
      "24/24 [==============================] - 0s 2ms/step - loss: 0.6561 - acc: 0.5895 - val_loss: 0.7920 - val_acc: 0.4427\n",
      "Epoch 54/200\n",
      "24/24 [==============================] - 0s 2ms/step - loss: 0.6554 - acc: 0.5895 - val_loss: 0.7921 - val_acc: 0.4479\n",
      "Epoch 55/200\n",
      "24/24 [==============================] - 0s 2ms/step - loss: 0.6552 - acc: 0.5895 - val_loss: 0.7920 - val_acc: 0.4479\n",
      "Epoch 56/200\n",
      "24/24 [==============================] - 0s 2ms/step - loss: 0.6554 - acc: 0.5882 - val_loss: 0.7931 - val_acc: 0.4531\n",
      "Epoch 57/200\n",
      "24/24 [==============================] - 0s 2ms/step - loss: 0.6551 - acc: 0.5895 - val_loss: 0.7910 - val_acc: 0.4427\n",
      "Epoch 58/200\n",
      "24/24 [==============================] - 0s 2ms/step - loss: 0.6544 - acc: 0.5895 - val_loss: 0.7924 - val_acc: 0.4375\n",
      "Epoch 59/200\n",
      "24/24 [==============================] - 0s 2ms/step - loss: 0.6541 - acc: 0.5882 - val_loss: 0.7931 - val_acc: 0.4323\n",
      "Epoch 60/200\n",
      "24/24 [==============================] - 0s 2ms/step - loss: 0.6537 - acc: 0.5908 - val_loss: 0.7938 - val_acc: 0.4479\n",
      "Epoch 61/200\n",
      "24/24 [==============================] - 0s 2ms/step - loss: 0.6536 - acc: 0.5882 - val_loss: 0.7941 - val_acc: 0.4479\n",
      "Epoch 62/200\n",
      "24/24 [==============================] - 0s 2ms/step - loss: 0.6533 - acc: 0.5856 - val_loss: 0.7946 - val_acc: 0.4375\n",
      "Epoch 63/200\n",
      "24/24 [==============================] - 0s 2ms/step - loss: 0.6533 - acc: 0.5935 - val_loss: 0.7945 - val_acc: 0.4531\n",
      "Epoch 64/200\n",
      "24/24 [==============================] - 0s 2ms/step - loss: 0.6534 - acc: 0.5935 - val_loss: 0.7976 - val_acc: 0.4531\n",
      "Epoch 65/200\n",
      "24/24 [==============================] - 0s 2ms/step - loss: 0.6525 - acc: 0.5922 - val_loss: 0.7958 - val_acc: 0.4583\n",
      "Epoch 66/200\n",
      "24/24 [==============================] - 0s 2ms/step - loss: 0.6529 - acc: 0.5882 - val_loss: 0.7956 - val_acc: 0.4531\n",
      "Epoch 67/200\n",
      "24/24 [==============================] - 0s 2ms/step - loss: 0.6522 - acc: 0.5908 - val_loss: 0.7964 - val_acc: 0.4427\n",
      "Epoch 68/200\n",
      "24/24 [==============================] - 0s 2ms/step - loss: 0.6524 - acc: 0.5935 - val_loss: 0.7958 - val_acc: 0.4531\n",
      "Epoch 69/200\n",
      "24/24 [==============================] - 0s 2ms/step - loss: 0.6515 - acc: 0.5987 - val_loss: 0.7960 - val_acc: 0.4375\n",
      "Epoch 70/200\n",
      "24/24 [==============================] - 0s 2ms/step - loss: 0.6515 - acc: 0.5922 - val_loss: 0.7972 - val_acc: 0.4375\n",
      "Epoch 71/200\n",
      "24/24 [==============================] - 0s 2ms/step - loss: 0.6515 - acc: 0.5961 - val_loss: 0.7979 - val_acc: 0.4323\n",
      "Epoch 72/200\n",
      "24/24 [==============================] - 0s 2ms/step - loss: 0.6508 - acc: 0.5908 - val_loss: 0.7989 - val_acc: 0.4531\n",
      "Epoch 73/200\n",
      "24/24 [==============================] - 0s 2ms/step - loss: 0.6509 - acc: 0.5961 - val_loss: 0.7994 - val_acc: 0.4635\n",
      "Epoch 74/200\n",
      "24/24 [==============================] - 0s 2ms/step - loss: 0.6507 - acc: 0.5961 - val_loss: 0.7985 - val_acc: 0.4323\n",
      "Epoch 75/200\n",
      "24/24 [==============================] - 0s 2ms/step - loss: 0.6504 - acc: 0.5908 - val_loss: 0.7990 - val_acc: 0.4583\n",
      "Epoch 76/200\n",
      "24/24 [==============================] - 0s 3ms/step - loss: 0.6503 - acc: 0.5935 - val_loss: 0.7997 - val_acc: 0.4375\n",
      "Epoch 77/200\n",
      "24/24 [==============================] - 0s 2ms/step - loss: 0.6499 - acc: 0.5974 - val_loss: 0.8005 - val_acc: 0.4271\n",
      "Epoch 78/200\n",
      "24/24 [==============================] - 0s 2ms/step - loss: 0.6498 - acc: 0.5948 - val_loss: 0.8004 - val_acc: 0.4531\n",
      "Epoch 79/200\n",
      "24/24 [==============================] - 0s 2ms/step - loss: 0.6498 - acc: 0.5895 - val_loss: 0.7988 - val_acc: 0.4375\n",
      "Epoch 80/200\n",
      "24/24 [==============================] - 0s 2ms/step - loss: 0.6493 - acc: 0.5948 - val_loss: 0.8015 - val_acc: 0.4635\n",
      "Epoch 81/200\n",
      "24/24 [==============================] - 0s 2ms/step - loss: 0.6494 - acc: 0.5908 - val_loss: 0.8003 - val_acc: 0.4375\n",
      "Epoch 82/200\n",
      "24/24 [==============================] - 0s 2ms/step - loss: 0.6489 - acc: 0.5948 - val_loss: 0.8014 - val_acc: 0.4427\n",
      "Epoch 83/200\n",
      "24/24 [==============================] - 0s 2ms/step - loss: 0.6490 - acc: 0.5948 - val_loss: 0.8014 - val_acc: 0.4635\n",
      "Epoch 84/200\n",
      "24/24 [==============================] - 0s 2ms/step - loss: 0.6486 - acc: 0.5961 - val_loss: 0.8027 - val_acc: 0.4479\n",
      "Epoch 85/200\n",
      "24/24 [==============================] - 0s 2ms/step - loss: 0.6486 - acc: 0.6013 - val_loss: 0.8021 - val_acc: 0.4479\n",
      "Epoch 86/200\n",
      "24/24 [==============================] - 0s 2ms/step - loss: 0.6484 - acc: 0.5987 - val_loss: 0.8019 - val_acc: 0.4479\n",
      "Epoch 87/200\n",
      "24/24 [==============================] - 0s 2ms/step - loss: 0.6480 - acc: 0.5935 - val_loss: 0.8017 - val_acc: 0.4479\n",
      "Epoch 88/200\n",
      "24/24 [==============================] - 0s 2ms/step - loss: 0.6477 - acc: 0.5961 - val_loss: 0.8029 - val_acc: 0.4427\n",
      "Epoch 89/200\n",
      "24/24 [==============================] - 0s 2ms/step - loss: 0.6481 - acc: 0.5948 - val_loss: 0.8040 - val_acc: 0.4479\n",
      "Epoch 90/200\n",
      "24/24 [==============================] - 0s 2ms/step - loss: 0.6473 - acc: 0.5974 - val_loss: 0.8033 - val_acc: 0.4479\n",
      "Epoch 91/200\n",
      "24/24 [==============================] - 0s 2ms/step - loss: 0.6478 - acc: 0.5948 - val_loss: 0.8039 - val_acc: 0.4375\n",
      "Epoch 92/200\n",
      "24/24 [==============================] - 0s 2ms/step - loss: 0.6482 - acc: 0.5908 - val_loss: 0.8033 - val_acc: 0.4583\n",
      "Epoch 93/200\n",
      "24/24 [==============================] - 0s 2ms/step - loss: 0.6466 - acc: 0.5987 - val_loss: 0.8046 - val_acc: 0.4531\n",
      "Epoch 94/200\n",
      "24/24 [==============================] - 0s 2ms/step - loss: 0.6470 - acc: 0.5908 - val_loss: 0.8055 - val_acc: 0.4531\n",
      "Epoch 95/200\n",
      "24/24 [==============================] - 0s 2ms/step - loss: 0.6468 - acc: 0.5961 - val_loss: 0.8044 - val_acc: 0.4375\n",
      "Epoch 96/200\n",
      "24/24 [==============================] - 0s 2ms/step - loss: 0.6464 - acc: 0.5961 - val_loss: 0.8054 - val_acc: 0.4375\n",
      "Epoch 97/200\n",
      "24/24 [==============================] - 0s 2ms/step - loss: 0.6463 - acc: 0.5974 - val_loss: 0.8065 - val_acc: 0.4323\n",
      "Epoch 98/200\n",
      "24/24 [==============================] - 0s 2ms/step - loss: 0.6464 - acc: 0.5974 - val_loss: 0.8058 - val_acc: 0.4479\n",
      "Epoch 99/200\n",
      "24/24 [==============================] - 0s 2ms/step - loss: 0.6459 - acc: 0.6052 - val_loss: 0.8057 - val_acc: 0.4479\n",
      "Epoch 100/200\n",
      "24/24 [==============================] - 0s 2ms/step - loss: 0.6456 - acc: 0.6013 - val_loss: 0.8072 - val_acc: 0.4479\n",
      "Epoch 101/200\n",
      "24/24 [==============================] - 0s 2ms/step - loss: 0.6455 - acc: 0.5987 - val_loss: 0.8071 - val_acc: 0.4531\n",
      "Epoch 102/200\n",
      "24/24 [==============================] - 0s 2ms/step - loss: 0.6457 - acc: 0.6026 - val_loss: 0.8081 - val_acc: 0.4427\n",
      "Epoch 103/200\n",
      "24/24 [==============================] - 0s 2ms/step - loss: 0.6450 - acc: 0.6000 - val_loss: 0.8077 - val_acc: 0.4427\n",
      "Epoch 104/200\n",
      "24/24 [==============================] - 0s 2ms/step - loss: 0.6448 - acc: 0.6013 - val_loss: 0.8074 - val_acc: 0.4479\n",
      "Epoch 105/200\n",
      "24/24 [==============================] - 0s 2ms/step - loss: 0.6450 - acc: 0.5987 - val_loss: 0.8086 - val_acc: 0.4427\n",
      "Epoch 106/200\n",
      "24/24 [==============================] - 0s 2ms/step - loss: 0.6450 - acc: 0.6000 - val_loss: 0.8083 - val_acc: 0.4479\n",
      "Epoch 107/200\n",
      "24/24 [==============================] - 0s 2ms/step - loss: 0.6447 - acc: 0.6026 - val_loss: 0.8076 - val_acc: 0.4427\n",
      "Epoch 108/200\n",
      "24/24 [==============================] - 0s 2ms/step - loss: 0.6445 - acc: 0.6039 - val_loss: 0.8085 - val_acc: 0.4583\n",
      "Epoch 109/200\n",
      "24/24 [==============================] - 0s 2ms/step - loss: 0.6443 - acc: 0.6013 - val_loss: 0.8085 - val_acc: 0.4479\n",
      "Epoch 110/200\n",
      "24/24 [==============================] - 0s 2ms/step - loss: 0.6440 - acc: 0.6078 - val_loss: 0.8094 - val_acc: 0.4479\n",
      "Epoch 111/200\n",
      "24/24 [==============================] - 0s 2ms/step - loss: 0.6442 - acc: 0.5987 - val_loss: 0.8098 - val_acc: 0.4375\n",
      "Epoch 112/200\n",
      "24/24 [==============================] - 0s 2ms/step - loss: 0.6442 - acc: 0.6078 - val_loss: 0.8091 - val_acc: 0.4479\n",
      "Epoch 113/200\n",
      "24/24 [==============================] - 0s 2ms/step - loss: 0.6438 - acc: 0.6078 - val_loss: 0.8082 - val_acc: 0.4427\n",
      "Epoch 114/200\n",
      "24/24 [==============================] - 0s 2ms/step - loss: 0.6440 - acc: 0.6065 - val_loss: 0.8107 - val_acc: 0.4479\n",
      "Epoch 115/200\n",
      "24/24 [==============================] - 0s 2ms/step - loss: 0.6440 - acc: 0.6026 - val_loss: 0.8116 - val_acc: 0.4479\n",
      "Epoch 116/200\n",
      "24/24 [==============================] - 0s 2ms/step - loss: 0.6433 - acc: 0.6026 - val_loss: 0.8107 - val_acc: 0.4323\n",
      "Epoch 117/200\n",
      "24/24 [==============================] - 0s 2ms/step - loss: 0.6433 - acc: 0.6052 - val_loss: 0.8103 - val_acc: 0.4375\n",
      "Epoch 118/200\n",
      "24/24 [==============================] - 0s 3ms/step - loss: 0.6431 - acc: 0.6039 - val_loss: 0.8106 - val_acc: 0.4479\n",
      "Epoch 119/200\n",
      "24/24 [==============================] - 0s 2ms/step - loss: 0.6429 - acc: 0.6026 - val_loss: 0.8118 - val_acc: 0.4479\n",
      "Epoch 120/200\n",
      "24/24 [==============================] - 0s 2ms/step - loss: 0.6428 - acc: 0.6013 - val_loss: 0.8116 - val_acc: 0.4427\n",
      "Epoch 121/200\n",
      "24/24 [==============================] - 0s 2ms/step - loss: 0.6427 - acc: 0.6026 - val_loss: 0.8110 - val_acc: 0.4375\n",
      "Epoch 122/200\n",
      "24/24 [==============================] - 0s 2ms/step - loss: 0.6424 - acc: 0.6052 - val_loss: 0.8124 - val_acc: 0.4427\n",
      "Epoch 123/200\n",
      "24/24 [==============================] - 0s 2ms/step - loss: 0.6426 - acc: 0.6039 - val_loss: 0.8129 - val_acc: 0.4479\n",
      "Epoch 124/200\n",
      "24/24 [==============================] - 0s 2ms/step - loss: 0.6423 - acc: 0.6039 - val_loss: 0.8129 - val_acc: 0.4375\n",
      "Epoch 125/200\n",
      "24/24 [==============================] - 0s 2ms/step - loss: 0.6424 - acc: 0.6026 - val_loss: 0.8129 - val_acc: 0.4427\n",
      "Epoch 126/200\n",
      "24/24 [==============================] - 0s 2ms/step - loss: 0.6418 - acc: 0.6026 - val_loss: 0.8128 - val_acc: 0.4427\n",
      "Epoch 127/200\n",
      "24/24 [==============================] - 0s 2ms/step - loss: 0.6421 - acc: 0.6052 - val_loss: 0.8139 - val_acc: 0.4375\n",
      "Epoch 128/200\n",
      "24/24 [==============================] - 0s 2ms/step - loss: 0.6418 - acc: 0.6065 - val_loss: 0.8145 - val_acc: 0.4323\n",
      "Epoch 129/200\n",
      "24/24 [==============================] - 0s 2ms/step - loss: 0.6421 - acc: 0.6078 - val_loss: 0.8142 - val_acc: 0.4427\n",
      "Epoch 130/200\n",
      "24/24 [==============================] - 0s 2ms/step - loss: 0.6414 - acc: 0.6052 - val_loss: 0.8133 - val_acc: 0.4323\n",
      "Epoch 131/200\n",
      "24/24 [==============================] - 0s 2ms/step - loss: 0.6414 - acc: 0.6065 - val_loss: 0.8140 - val_acc: 0.4271\n",
      "Epoch 132/200\n",
      "24/24 [==============================] - 0s 2ms/step - loss: 0.6414 - acc: 0.6131 - val_loss: 0.8157 - val_acc: 0.4427\n",
      "Epoch 133/200\n",
      "24/24 [==============================] - 0s 2ms/step - loss: 0.6412 - acc: 0.6118 - val_loss: 0.8169 - val_acc: 0.4323\n",
      "Epoch 134/200\n",
      "24/24 [==============================] - 0s 2ms/step - loss: 0.6409 - acc: 0.6026 - val_loss: 0.8150 - val_acc: 0.4375\n",
      "Epoch 135/200\n",
      "24/24 [==============================] - 0s 2ms/step - loss: 0.6410 - acc: 0.6065 - val_loss: 0.8153 - val_acc: 0.4375\n",
      "Epoch 136/200\n",
      "24/24 [==============================] - 0s 2ms/step - loss: 0.6408 - acc: 0.6052 - val_loss: 0.8161 - val_acc: 0.4375\n",
      "Epoch 137/200\n",
      "24/24 [==============================] - 0s 2ms/step - loss: 0.6406 - acc: 0.6065 - val_loss: 0.8160 - val_acc: 0.4427\n",
      "Epoch 138/200\n",
      "24/24 [==============================] - 0s 2ms/step - loss: 0.6408 - acc: 0.6092 - val_loss: 0.8160 - val_acc: 0.4427\n",
      "Epoch 139/200\n",
      "24/24 [==============================] - 0s 2ms/step - loss: 0.6408 - acc: 0.6052 - val_loss: 0.8160 - val_acc: 0.4323\n",
      "Epoch 140/200\n",
      "24/24 [==============================] - 0s 2ms/step - loss: 0.6401 - acc: 0.6052 - val_loss: 0.8169 - val_acc: 0.4375\n",
      "Epoch 141/200\n",
      "24/24 [==============================] - 0s 2ms/step - loss: 0.6403 - acc: 0.6065 - val_loss: 0.8169 - val_acc: 0.4531\n",
      "Epoch 142/200\n",
      "24/24 [==============================] - 0s 2ms/step - loss: 0.6406 - acc: 0.6105 - val_loss: 0.8167 - val_acc: 0.4375\n",
      "Epoch 143/200\n",
      "24/24 [==============================] - 0s 2ms/step - loss: 0.6403 - acc: 0.6157 - val_loss: 0.8178 - val_acc: 0.4323\n",
      "Epoch 144/200\n",
      "24/24 [==============================] - 0s 2ms/step - loss: 0.6403 - acc: 0.6092 - val_loss: 0.8172 - val_acc: 0.4323\n",
      "Epoch 145/200\n",
      "24/24 [==============================] - 0s 2ms/step - loss: 0.6401 - acc: 0.6092 - val_loss: 0.8168 - val_acc: 0.4323\n",
      "Epoch 146/200\n",
      "24/24 [==============================] - 0s 2ms/step - loss: 0.6396 - acc: 0.6105 - val_loss: 0.8173 - val_acc: 0.4323\n",
      "Epoch 147/200\n",
      "24/24 [==============================] - 0s 2ms/step - loss: 0.6398 - acc: 0.6118 - val_loss: 0.8180 - val_acc: 0.4375\n",
      "Epoch 148/200\n",
      "24/24 [==============================] - 0s 2ms/step - loss: 0.6405 - acc: 0.6118 - val_loss: 0.8169 - val_acc: 0.4375\n",
      "Epoch 149/200\n",
      "24/24 [==============================] - 0s 2ms/step - loss: 0.6396 - acc: 0.6144 - val_loss: 0.8194 - val_acc: 0.4375\n",
      "Epoch 150/200\n",
      "24/24 [==============================] - 0s 2ms/step - loss: 0.6394 - acc: 0.6118 - val_loss: 0.8184 - val_acc: 0.4427\n",
      "Epoch 151/200\n",
      "24/24 [==============================] - 0s 2ms/step - loss: 0.6402 - acc: 0.5948 - val_loss: 0.8194 - val_acc: 0.4271\n",
      "Epoch 152/200\n",
      "24/24 [==============================] - 0s 2ms/step - loss: 0.6394 - acc: 0.6131 - val_loss: 0.8189 - val_acc: 0.4323\n",
      "Epoch 153/200\n",
      "24/24 [==============================] - 0s 2ms/step - loss: 0.6393 - acc: 0.6118 - val_loss: 0.8200 - val_acc: 0.4219\n",
      "Epoch 154/200\n",
      "24/24 [==============================] - 0s 2ms/step - loss: 0.6392 - acc: 0.6144 - val_loss: 0.8199 - val_acc: 0.4375\n",
      "Epoch 155/200\n",
      "24/24 [==============================] - 0s 2ms/step - loss: 0.6393 - acc: 0.6170 - val_loss: 0.8205 - val_acc: 0.4271\n",
      "Epoch 156/200\n",
      "24/24 [==============================] - 0s 2ms/step - loss: 0.6390 - acc: 0.6092 - val_loss: 0.8205 - val_acc: 0.4323\n",
      "Epoch 157/200\n",
      "24/24 [==============================] - 0s 2ms/step - loss: 0.6389 - acc: 0.6065 - val_loss: 0.8217 - val_acc: 0.4375\n",
      "Epoch 158/200\n",
      "24/24 [==============================] - 0s 2ms/step - loss: 0.6387 - acc: 0.6157 - val_loss: 0.8186 - val_acc: 0.4323\n",
      "Epoch 159/200\n",
      "24/24 [==============================] - 0s 2ms/step - loss: 0.6384 - acc: 0.6144 - val_loss: 0.8204 - val_acc: 0.4323\n",
      "Epoch 160/200\n",
      "24/24 [==============================] - 0s 2ms/step - loss: 0.6386 - acc: 0.6157 - val_loss: 0.8212 - val_acc: 0.4323\n",
      "Epoch 161/200\n",
      "24/24 [==============================] - 0s 2ms/step - loss: 0.6383 - acc: 0.6144 - val_loss: 0.8200 - val_acc: 0.4323\n",
      "Epoch 162/200\n",
      "24/24 [==============================] - 0s 2ms/step - loss: 0.6384 - acc: 0.6170 - val_loss: 0.8198 - val_acc: 0.4271\n",
      "Epoch 163/200\n",
      "24/24 [==============================] - 0s 2ms/step - loss: 0.6383 - acc: 0.6183 - val_loss: 0.8218 - val_acc: 0.4271\n",
      "Epoch 164/200\n",
      "24/24 [==============================] - 0s 2ms/step - loss: 0.6382 - acc: 0.6170 - val_loss: 0.8222 - val_acc: 0.4323\n",
      "Epoch 165/200\n",
      "24/24 [==============================] - 0s 2ms/step - loss: 0.6378 - acc: 0.6052 - val_loss: 0.8223 - val_acc: 0.4323\n",
      "Epoch 166/200\n",
      "24/24 [==============================] - 0s 2ms/step - loss: 0.6382 - acc: 0.6196 - val_loss: 0.8223 - val_acc: 0.4375\n",
      "Epoch 167/200\n",
      "24/24 [==============================] - 0s 2ms/step - loss: 0.6378 - acc: 0.6183 - val_loss: 0.8233 - val_acc: 0.4271\n",
      "Epoch 168/200\n",
      "24/24 [==============================] - 0s 2ms/step - loss: 0.6377 - acc: 0.6209 - val_loss: 0.8219 - val_acc: 0.4271\n",
      "Epoch 169/200\n",
      "24/24 [==============================] - 0s 2ms/step - loss: 0.6379 - acc: 0.6131 - val_loss: 0.8221 - val_acc: 0.4323\n",
      "Epoch 170/200\n",
      "24/24 [==============================] - 0s 2ms/step - loss: 0.6380 - acc: 0.6157 - val_loss: 0.8218 - val_acc: 0.4323\n",
      "Epoch 171/200\n",
      "24/24 [==============================] - 0s 2ms/step - loss: 0.6376 - acc: 0.6144 - val_loss: 0.8220 - val_acc: 0.4323\n",
      "Epoch 172/200\n",
      "24/24 [==============================] - 0s 2ms/step - loss: 0.6380 - acc: 0.6170 - val_loss: 0.8246 - val_acc: 0.4375\n",
      "Epoch 173/200\n",
      "24/24 [==============================] - 0s 2ms/step - loss: 0.6374 - acc: 0.6183 - val_loss: 0.8238 - val_acc: 0.4323\n",
      "Epoch 174/200\n",
      "24/24 [==============================] - 0s 2ms/step - loss: 0.6376 - acc: 0.6222 - val_loss: 0.8242 - val_acc: 0.4323\n",
      "Epoch 175/200\n",
      "24/24 [==============================] - 0s 2ms/step - loss: 0.6373 - acc: 0.6222 - val_loss: 0.8251 - val_acc: 0.4323\n",
      "Epoch 176/200\n",
      "24/24 [==============================] - 0s 2ms/step - loss: 0.6373 - acc: 0.6144 - val_loss: 0.8245 - val_acc: 0.4427\n",
      "Epoch 177/200\n",
      "24/24 [==============================] - 0s 2ms/step - loss: 0.6371 - acc: 0.6157 - val_loss: 0.8237 - val_acc: 0.4323\n",
      "Epoch 178/200\n",
      "24/24 [==============================] - 0s 2ms/step - loss: 0.6367 - acc: 0.6157 - val_loss: 0.8251 - val_acc: 0.4323\n",
      "Epoch 179/200\n",
      "24/24 [==============================] - 0s 2ms/step - loss: 0.6373 - acc: 0.6131 - val_loss: 0.8248 - val_acc: 0.4375\n",
      "Epoch 180/200\n",
      "24/24 [==============================] - 0s 2ms/step - loss: 0.6369 - acc: 0.6170 - val_loss: 0.8244 - val_acc: 0.4375\n",
      "Epoch 181/200\n",
      "24/24 [==============================] - 0s 2ms/step - loss: 0.6368 - acc: 0.6248 - val_loss: 0.8250 - val_acc: 0.4427\n",
      "Epoch 182/200\n",
      "24/24 [==============================] - 0s 2ms/step - loss: 0.6370 - acc: 0.6248 - val_loss: 0.8248 - val_acc: 0.4271\n",
      "Epoch 183/200\n",
      "24/24 [==============================] - 0s 2ms/step - loss: 0.6364 - acc: 0.6183 - val_loss: 0.8252 - val_acc: 0.4375\n",
      "Epoch 184/200\n",
      "24/24 [==============================] - 0s 2ms/step - loss: 0.6361 - acc: 0.6144 - val_loss: 0.8259 - val_acc: 0.4375\n",
      "Epoch 185/200\n",
      "24/24 [==============================] - 0s 2ms/step - loss: 0.6363 - acc: 0.6196 - val_loss: 0.8259 - val_acc: 0.4375\n",
      "Epoch 186/200\n",
      "24/24 [==============================] - 0s 2ms/step - loss: 0.6363 - acc: 0.6222 - val_loss: 0.8261 - val_acc: 0.4323\n",
      "Epoch 187/200\n",
      "24/24 [==============================] - 0s 2ms/step - loss: 0.6359 - acc: 0.6196 - val_loss: 0.8264 - val_acc: 0.4427\n",
      "Epoch 188/200\n",
      "24/24 [==============================] - 0s 2ms/step - loss: 0.6364 - acc: 0.6196 - val_loss: 0.8253 - val_acc: 0.4427\n",
      "Epoch 189/200\n",
      "24/24 [==============================] - 0s 2ms/step - loss: 0.6362 - acc: 0.6131 - val_loss: 0.8272 - val_acc: 0.4375\n",
      "Epoch 190/200\n",
      "24/24 [==============================] - 0s 2ms/step - loss: 0.6360 - acc: 0.6183 - val_loss: 0.8266 - val_acc: 0.4323\n",
      "Epoch 191/200\n",
      "24/24 [==============================] - 0s 2ms/step - loss: 0.6360 - acc: 0.6275 - val_loss: 0.8270 - val_acc: 0.4323\n",
      "Epoch 192/200\n",
      "24/24 [==============================] - 0s 2ms/step - loss: 0.6361 - acc: 0.6209 - val_loss: 0.8260 - val_acc: 0.4427\n",
      "Epoch 193/200\n",
      "24/24 [==============================] - 0s 2ms/step - loss: 0.6357 - acc: 0.6170 - val_loss: 0.8262 - val_acc: 0.4375\n",
      "Epoch 194/200\n",
      "24/24 [==============================] - 0s 2ms/step - loss: 0.6355 - acc: 0.6235 - val_loss: 0.8286 - val_acc: 0.4375\n",
      "Epoch 195/200\n",
      "24/24 [==============================] - 0s 2ms/step - loss: 0.6357 - acc: 0.6235 - val_loss: 0.8271 - val_acc: 0.4323\n",
      "Epoch 196/200\n",
      "24/24 [==============================] - 0s 2ms/step - loss: 0.6356 - acc: 0.6196 - val_loss: 0.8275 - val_acc: 0.4323\n",
      "Epoch 197/200\n",
      "24/24 [==============================] - 0s 2ms/step - loss: 0.6354 - acc: 0.6131 - val_loss: 0.8288 - val_acc: 0.4427\n",
      "Epoch 198/200\n",
      "24/24 [==============================] - 0s 2ms/step - loss: 0.6351 - acc: 0.6248 - val_loss: 0.8292 - val_acc: 0.4427\n",
      "Epoch 199/200\n",
      "24/24 [==============================] - 0s 2ms/step - loss: 0.6353 - acc: 0.6261 - val_loss: 0.8281 - val_acc: 0.4375\n",
      "Epoch 200/200\n",
      "24/24 [==============================] - 0s 2ms/step - loss: 0.6366 - acc: 0.6248 - val_loss: 0.8288 - val_acc: 0.4323\n"
     ]
    }
   ],
   "source": [
    "history = Model.fit(X_train, y_train, epochs = 200, validation_data = (X_test, y_test))"
   ]
  },
  {
   "cell_type": "code",
   "execution_count": 47,
   "metadata": {},
   "outputs": [
    {
     "data": {
      "image/png": "[encoded data removed]",
      "text/plain": [
       "<Figure size 432x288 with 1 Axes>"
      ]
     },
     "metadata": {
      "needs_background": "light"
     },
     "output_type": "display_data"
    },
    {
     "name": "stdout",
     "output_type": "stream",
     "text": [
      "Initial training accuracy with preprocessing is:  0.4941176474094391\n",
      "Final training accuracy with preprocessing is:  0.6248366236686707\n",
      "Initial training loss with preprocessing is:  0.7812291979789734\n",
      "Final training loss with preprocessing is:  0.6366053223609924\n"
     ]
    }
   ],
   "source": [
    "#Plotting model history\n",
    "plt.plot(history.history['acc'])\n",
    "plt.plot(history.history['loss'])\n",
    "plt.legend(['Training Accuracy', 'Training Loss'])\n",
    "plt.title('Training History')\n",
    "plt.ylabel('Value')\n",
    "plt.xlabel('epochs')\n",
    "plt.show()\n",
    "print(\"Initial training accuracy with preprocessing is: \", history.history['acc'][0])\n",
    "print(\"Final training accuracy with preprocessing is: \", history.history['acc'][-1])\n",
    "\n",
    "print(\"Initial training loss with preprocessing is: \", history.history['loss'][0])\n",
    "print(\"Final training loss with preprocessing is: \", history.history['loss'][-1])"
   ]
  },
  {
   "cell_type": "code",
   "execution_count": 48,
   "metadata": {},
   "outputs": [
    {
     "data": {
      "image/png": "[encoded data removed]",
      "text/plain": [
       "<Figure size 432x288 with 1 Axes>"
      ]
     },
     "metadata": {
      "needs_background": "light"
     },
     "output_type": "display_data"
    },
    {
     "name": "stdout",
     "output_type": "stream",
     "text": [
      "Initial Validation accuracy is:  0.5572916865348816\n",
      "Best Validation accuracy is:  0.5572916865348816\n",
      "Initial Validation loss is:  0.7624233365058899\n",
      "Best Validation loss is:  0.7473006844520569\n"
     ]
    }
   ],
   "source": [
    "#Plotting model history\n",
    "plt.plot(history.history['val_acc'])\n",
    "plt.plot(history.history['val_loss'])\n",
    "plt.legend(['Validation Accuracy', 'Validation Loss'])\n",
    "plt.title('Validation History')\n",
    "plt.ylabel('Value')\n",
    "plt.xlabel('epochs')\n",
    "plt.show()\n",
    "print(\"Initial Validation accuracy is: \", history.history['val_acc'][0])\n",
    "print(\"Best Validation accuracy is: \", max(history.history['val_acc']))\n",
    "\n",
    "print(\"Initial Validation loss is: \", history.history['val_loss'][0])\n",
    "print(\"Best Validation loss is: \", min(history.history['val_loss']))"
   ]
  }
 ],
 "metadata": {
  "kernelspec": {
   "display_name": "Python 3",
   "language": "python",
   "name": "python3"
  },
  "language_info": {
   "codemirror_mode": {
    "name": "ipython",
    "version": 3
   },
   "file_extension": ".py",
   "mimetype": "text/x-python",
   "name": "python",
   "nbconvert_exporter": "python",
   "pygments_lexer": "ipython3",
   "version": "3.7.6"
  }
 },
 "nbformat": 4,
 "nbformat_minor": 4
}
