{
 "cells": [
  {
   "cell_type": "code",
   "execution_count": 58,
   "metadata": {},
   "outputs": [
    {
     "name": "stdout",
     "output_type": "stream",
     "text": [
      "0.24.1\n"
     ]
    }
   ],
   "source": [
    "import matplotlib\n",
    "import pathlib\n",
    "\n",
    "import mne\n",
    "print(mne.__version__)\n",
    "\n",
    "from scipy.io import loadmat, savemat\n",
    "from fracModel import fracOrdUU\n",
    "import os\n",
    "import numpy as np"
   ]
  },
  {
   "cell_type": "code",
   "execution_count": 59,
   "metadata": {},
   "outputs": [],
   "source": [
    "#To plot graphs using Qt console\n",
    "matplotlib.use('Qt5Agg')"
   ]
  },
  {
   "cell_type": "markdown",
   "metadata": {},
   "source": [
    "#### Loading EEG data"
   ]
  },
  {
   "cell_type": "code",
   "execution_count": 60,
   "metadata": {},
   "outputs": [],
   "source": [
    "#Locations\n",
    "location_al = \"data\\data_set_IVa_al_mat\\\\100Hz\\data_set_IVa_al.mat\"\n",
    "location_AdataL = \"data/AdataL.npz\""
   ]
  },
  {
   "cell_type": "code",
   "execution_count": 61,
   "metadata": {},
   "outputs": [],
   "source": [
    "mat = loadmat(location_al)"
   ]
  },
  {
   "cell_type": "code",
   "execution_count": 62,
   "metadata": {},
   "outputs": [],
   "source": [
    "sfreq = mat['nfo']['fs'][0][0][0][0]\n",
    "\n",
    "EEGdata = mat['cnt'].T\n",
    "EEGdata = 1e-1*EEGdata   #To convert to uV\n",
    "\n",
    "nchannels, nsamples = EEGdata.shape\n",
    "\n",
    "ch_names = [s[0] for s in mat['nfo']['clab'][0][0][0]]\n",
    "\n",
    "event_onsets = mat['mrk'][0][0][0]\n",
    "event_codes = mat['mrk'][0][0][1]\n",
    "\n",
    "labels = np.zeros((1, nsamples), int)\n",
    "labels[0, event_onsets] = event_codes\n",
    "\n",
    "cl_lab = [s[0] for s in mat['mrk']['className'][0][0][0]]\n",
    "cl1 = cl_lab[0]\n",
    "cl2 = cl_lab[1]\n",
    "\n",
    "xpos = mat['nfo']['xpos'][0][0]\n",
    "ypos = mat['nfo']['ypos'][0][0]\n",
    "\n",
    "nclasses = len(cl_lab)\n",
    "nevents = len(event_onsets.transpose())"
   ]
  },
  {
   "cell_type": "code",
   "execution_count": 63,
   "metadata": {},
   "outputs": [],
   "source": [
    "trials = {}\n",
    "\n",
    "win = np.arange(int(0*sfreq), int(3*sfreq))    # Epoch size of each trial (0 to 3 sec)\n",
    "nsamples = len(win)"
   ]
  },
  {
   "cell_type": "code",
   "execution_count": 64,
   "metadata": {},
   "outputs": [],
   "source": [
    "for cl, code in zip(cl_lab, np.unique(event_codes)):\n",
    "    cl_onsets = event_onsets[event_codes == code]\n",
    "    trials[cl] = np.zeros((nchannels, nsamples, len(cl_onsets)))\n",
    "    for i, onset in enumerate(cl_onsets):\n",
    "        trials[cl][:, :, i] = EEGdata[:, win+onset]"
   ]
  },
  {
   "cell_type": "code",
   "execution_count": 8,
   "metadata": {},
   "outputs": [],
   "source": [
    "right = np.rollaxis(trials[cl1], 2, 0)\n",
    "foot = np.rollaxis(trials[cl2], 2, 0)"
   ]
  },
  {
   "cell_type": "code",
   "execution_count": 9,
   "metadata": {},
   "outputs": [],
   "source": [
    "data = np.concatenate([right, foot])"
   ]
  },
  {
   "cell_type": "code",
   "execution_count": 10,
   "metadata": {},
   "outputs": [],
   "source": [
    "Y = np.concatenate([-np.ones(right.shape[0]), np.ones(foot.shape[0])])    # Labeling right as -1 and foot as 1"
   ]
  },
  {
   "cell_type": "code",
   "execution_count": 11,
   "metadata": {},
   "outputs": [],
   "source": [
    "# Converting to BIDS using mne\n",
    "n_channels = 118\n",
    "\n",
    "info = mne.create_info(\n",
    "ch_names = ch_names,\n",
    "ch_types = ['eeg']*nchannels,\n",
    "sfreq = sfreq)\n",
    "\n",
    "layout_pos = np.concatenate([xpos, ypos], axis = 1)\n",
    "\n",
    "layout = mne.channels.generate_2d_layout(\n",
    "xy = layout_pos,\n",
    "ch_names = ch_names,\n",
    "name = \"EEG custom layout\")"
   ]
  },
  {
   "cell_type": "code",
   "execution_count": 12,
   "metadata": {},
   "outputs": [
    {
     "ename": "TypeError",
     "evalue": "'dict' object is not callable",
     "output_type": "error",
     "traceback": [
      "\u001b[1;31m---------------------------------------------------------------------------\u001b[0m",
      "\u001b[1;31mTypeError\u001b[0m                                 Traceback (most recent call last)",
      "\u001b[1;32m~\\AppData\\Local\\Temp/ipykernel_4932/2529593167.py\u001b[0m in \u001b[0;36m<module>\u001b[1;34m\u001b[0m\n\u001b[1;32m----> 1\u001b[1;33m \u001b[0mevent_id\u001b[0m \u001b[1;33m=\u001b[0m \u001b[0mdict\u001b[0m\u001b[1;33m(\u001b[0m\u001b[0mright\u001b[0m \u001b[1;33m=\u001b[0m \u001b[1;33m-\u001b[0m\u001b[1;36m1\u001b[0m\u001b[1;33m,\u001b[0m \u001b[0mfoot\u001b[0m \u001b[1;33m=\u001b[0m \u001b[1;36m1\u001b[0m\u001b[1;33m)\u001b[0m\u001b[1;33m\u001b[0m\u001b[1;33m\u001b[0m\u001b[0m\n\u001b[0m\u001b[0;32m      2\u001b[0m \u001b[1;33m\u001b[0m\u001b[0m\n\u001b[0;32m      3\u001b[0m \u001b[0meventLength\u001b[0m \u001b[1;33m=\u001b[0m \u001b[0mY\u001b[0m\u001b[1;33m.\u001b[0m\u001b[0mshape\u001b[0m\u001b[1;33m[\u001b[0m\u001b[1;36m0\u001b[0m\u001b[1;33m]\u001b[0m\u001b[1;33m\u001b[0m\u001b[1;33m\u001b[0m\u001b[0m\n\u001b[0;32m      4\u001b[0m \u001b[0mev\u001b[0m \u001b[1;33m=\u001b[0m \u001b[1;33m[\u001b[0m\u001b[0mi\u001b[0m\u001b[1;33m*\u001b[0m\u001b[0msfreq\u001b[0m\u001b[1;33m*\u001b[0m\u001b[1;36m3\u001b[0m \u001b[1;32mfor\u001b[0m \u001b[0mi\u001b[0m \u001b[1;32min\u001b[0m \u001b[0mrange\u001b[0m\u001b[1;33m(\u001b[0m\u001b[0meventLength\u001b[0m\u001b[1;33m)\u001b[0m\u001b[1;33m]\u001b[0m\u001b[1;33m\u001b[0m\u001b[1;33m\u001b[0m\u001b[0m\n\u001b[0;32m      5\u001b[0m \u001b[1;33m\u001b[0m\u001b[0m\n",
      "\u001b[1;31mTypeError\u001b[0m: 'dict' object is not callable"
     ]
    }
   ],
   "source": [
    "event_id = dict(right = -1, foot = 1)\n",
    "\n",
    "eventLength = Y.shape[0]\n",
    "ev = [i*sfreq*3 for i in range(eventLength)]\n",
    "\n",
    "events = np.column_stack((np.array(ev, dtype = int),\n",
    "                         np.zeros(eventLength, dtype = int),\n",
    "                         np.array(Y, dtype = int)))"
   ]
  },
  {
   "cell_type": "code",
   "execution_count": 13,
   "metadata": {},
   "outputs": [],
   "source": [
    "tmin = 0\n",
    "data = data*1e-6\n",
    "epochs = mne.EpochsArray(data, info, events, tmin, event_id)"
   ]
  },
  {
   "cell_type": "code",
   "execution_count": 14,
   "metadata": {},
   "outputs": [],
   "source": [
    "final_ch_list = [\"T7\", \"C5\", \"C3\", \"C1\", \"Cz\", \"C2\", \"C4\", \"C6\", \"T8\"] #Channels which affect motor controls the most"
   ]
  },
  {
   "cell_type": "code",
   "execution_count": 15,
   "metadata": {},
   "outputs": [],
   "source": [
    "epochs.plot(picks = final_ch_list);"
   ]
  },
  {
   "cell_type": "code",
   "execution_count": 16,
   "metadata": {},
   "outputs": [
    {
     "data": {
      "text/plain": [
       "(224, 9, 300)"
      ]
     },
     "execution_count": 16,
     "metadata": {},
     "output_type": "execute_result"
    }
   ],
   "source": [
    "edata = epochs.get_data(picks = final_ch_list)\n",
    "edata = edata*1e6\n",
    "edata.shape"
   ]
  },
  {
   "cell_type": "code",
   "execution_count": 17,
   "metadata": {},
   "outputs": [
    {
     "data": {
      "text/plain": [
       "array([[-45.9, -45.4, -45.6, ..., -74.8, -80.5, -82.8],\n",
       "       [  6.8,   9. ,   8.2, ..., -18.1, -24.7, -26.2],\n",
       "       [-27.7, -24.7, -23.9, ..., -63.5, -67.5, -68.7],\n",
       "       ...,\n",
       "       [  9.8,   2.9,   5.1, ..., -26.5, -23. , -21.4],\n",
       "       [ 13.1,   2.8,   5.7, ...,   0.8,   6.5,   8.1],\n",
       "       [-34.4, -47.7, -44.6, ..., -18.4, -13.5, -12.7]])"
      ]
     },
     "execution_count": 17,
     "metadata": {},
     "output_type": "execute_result"
    }
   ],
   "source": [
    "edata[0]"
   ]
  },
  {
   "cell_type": "code",
   "execution_count": 18,
   "metadata": {},
   "outputs": [
    {
     "data": {
      "text/plain": [
       "(224,)"
      ]
     },
     "execution_count": 18,
     "metadata": {},
     "output_type": "execute_result"
    },
    {
     "name": "stdout",
     "output_type": "stream",
     "text": [
      "Dropped 0 epochs: \n",
      "Channels marked as bad: none\n"
     ]
    }
   ],
   "source": [
    "Y.shape"
   ]
  },
  {
   "cell_type": "markdown",
   "metadata": {},
   "source": [
    "#### Parameterization"
   ]
  },
  {
   "cell_type": "code",
   "execution_count": 19,
   "metadata": {},
   "outputs": [],
   "source": [
    "def get_laplace_A(X):\n",
    "    \n",
    "    meanX = np.mean(X, axis=1)\n",
    "    X = X.T - meanX\n",
    "    X = X.T\n",
    "    fModel = fracOrdUU(verbose=1)\n",
    "    fModel.fit(X, 1)\n",
    "    \n",
    "    return fModel._AMat[-1]\n",
    "\n",
    "def get_gaussian_A(X):\n",
    "    \n",
    "    meanX = np.mean(X, axis=1)\n",
    "    X = X.T - meanX\n",
    "    X = X.T\n",
    "    fModel = fracOrdUU(verbose=1)\n",
    "    fModel.fit(X, 2)\n",
    "    \n",
    "    return fModel._AMat[-1]"
   ]
  },
  {
   "cell_type": "code",
   "execution_count": 21,
   "metadata": {
    "scrolled": true
   },
   "outputs": [],
   "source": [
    "# To get A with Laplacian prior (Takes 30+ min)\n",
    "# Adata = np.stack([get_laplacian_A(x) for x in edata])\n",
    "\n",
    "# To get A with Gaussian prior\n",
    "# Adata = np.stack([get_gaussian_A(x) for x in edata])\n",
    "\n",
    "# Since it takes so long to load it with a Laplacian prior, we have already cached it in data\n",
    "Adata = np.load(location_AdataL)[\"Adata\"]\n",
    "Y = np.load(location_AdataL)[\"Y\"]"
   ]
  },
  {
   "cell_type": "code",
   "execution_count": 22,
   "metadata": {},
   "outputs": [],
   "source": [
    "# If you wish to save your data\n",
    "# np.savez('data/Adata.npz', Adata = Adata, Y = Y)"
   ]
  },
  {
   "cell_type": "markdown",
   "metadata": {},
   "source": [
    "#### Feature extraction"
   ]
  },
  {
   "cell_type": "code",
   "execution_count": 23,
   "metadata": {},
   "outputs": [],
   "source": [
    "# If you are loading from a saved location\n",
    "# Adata = np.load(\"data/AdataL.npz\")[\"Adata\"]\n",
    "# Y = np.load(\"data/AdataL.npz\")[\"Y\"]"
   ]
  },
  {
   "cell_type": "code",
   "execution_count": 24,
   "metadata": {},
   "outputs": [],
   "source": [
    "import matplotlib.pyplot as plt\n",
    "%matplotlib inline"
   ]
  },
  {
   "cell_type": "code",
   "execution_count": 25,
   "metadata": {},
   "outputs": [
    {
     "name": "stdout",
     "output_type": "stream",
     "text": [
      "112\n"
     ]
    }
   ],
   "source": [
    "print(np.sum(Y<0)) #Checking number of \"right\" events"
   ]
  },
  {
   "cell_type": "code",
   "execution_count": 26,
   "metadata": {},
   "outputs": [],
   "source": [
    "ARight = np.average(Adata[0:112], axis = 0)\n",
    "AFoot = np.average(Adata[112:], axis = 0)"
   ]
  },
  {
   "cell_type": "code",
   "execution_count": 27,
   "metadata": {},
   "outputs": [
    {
     "data": {
      "text/plain": [
       "<matplotlib.colorbar.Colorbar at 0x22897c0a820>"
      ]
     },
     "execution_count": 27,
     "metadata": {},
     "output_type": "execute_result"
    },
    {
     "data": {
      "image/png": "[encoded data removed]",
      "text/plain": [
       "<Figure size 432x288 with 2 Axes>"
      ]
     },
     "metadata": {
      "needs_background": "light"
     },
     "output_type": "display_data"
    }
   ],
   "source": [
    "fig = plt.figure()\n",
    "f = plt.pcolormesh(ARight, vmin=-0.3, vmax=0.3)\n",
    "plt.colorbar(f)"
   ]
  },
  {
   "cell_type": "code",
   "execution_count": 28,
   "metadata": {},
   "outputs": [
    {
     "data": {
      "text/plain": [
       "<matplotlib.colorbar.Colorbar at 0x22897d22640>"
      ]
     },
     "execution_count": 28,
     "metadata": {},
     "output_type": "execute_result"
    },
    {
     "data": {
      "image/png": "[encoded data removed]",
      "text/plain": [
       "<Figure size 432x288 with 2 Axes>"
      ]
     },
     "metadata": {
      "needs_background": "light"
     },
     "output_type": "display_data"
    }
   ],
   "source": [
    "fig = plt.figure()\n",
    "f = plt.pcolormesh(AFoot, vmin=-0.3, vmax=0.3)\n",
    "plt.colorbar(f)"
   ]
  },
  {
   "cell_type": "markdown",
   "metadata": {},
   "source": [
    "## Applying ML"
   ]
  },
  {
   "cell_type": "code",
   "execution_count": 29,
   "metadata": {},
   "outputs": [],
   "source": [
    "X = np.stack([np.concatenate([a[:, 1], a[:, 3]]) for a in Adata])"
   ]
  },
  {
   "cell_type": "code",
   "execution_count": 30,
   "metadata": {},
   "outputs": [
    {
     "data": {
      "text/plain": [
       "(224, 18)"
      ]
     },
     "execution_count": 30,
     "metadata": {},
     "output_type": "execute_result"
    }
   ],
   "source": [
    "X.shape"
   ]
  },
  {
   "cell_type": "code",
   "execution_count": 31,
   "metadata": {},
   "outputs": [],
   "source": [
    "import pandas as pd\n",
    "from sklearn.model_selection import train_test_split\n",
    "X_train, X_test, y_train, y_test = train_test_split(X, Y, test_size = 0.2, random_state = 0)"
   ]
  },
  {
   "cell_type": "markdown",
   "metadata": {},
   "source": [
    "#### Logistic Regression"
   ]
  },
  {
   "cell_type": "code",
   "execution_count": 32,
   "metadata": {},
   "outputs": [
    {
     "data": {
      "text/plain": [
       "LogisticRegression(random_state=0)"
      ]
     },
     "execution_count": 32,
     "metadata": {},
     "output_type": "execute_result"
    }
   ],
   "source": [
    "from sklearn.linear_model import LogisticRegression\n",
    "Logclassifier = LogisticRegression(random_state = 0)\n",
    "Logclassifier.fit(X_train, y_train)"
   ]
  },
  {
   "cell_type": "code",
   "execution_count": 33,
   "metadata": {},
   "outputs": [],
   "source": [
    "y_pred_log = Logclassifier.predict(X_test)"
   ]
  },
  {
   "cell_type": "code",
   "execution_count": 34,
   "metadata": {},
   "outputs": [
    {
     "name": "stdout",
     "output_type": "stream",
     "text": [
      "[[19  3]\n",
      " [ 1 22]]\n"
     ]
    }
   ],
   "source": [
    "from sklearn.metrics import confusion_matrix\n",
    "cm = confusion_matrix(y_test, y_pred_log)\n",
    "print(cm)"
   ]
  },
  {
   "cell_type": "code",
   "execution_count": 35,
   "metadata": {},
   "outputs": [
    {
     "name": "stdout",
     "output_type": "stream",
     "text": [
      "Accuracy: 89.90 %\n",
      "Standard Deviation: 7.87 %\n"
     ]
    }
   ],
   "source": [
    "from sklearn.model_selection import cross_val_score\n",
    "accuracies = cross_val_score(estimator = Logclassifier, X = X_train, y = y_train, cv = 10)\n",
    "print(\"Accuracy: {:.2f} %\".format(accuracies.mean()*100))\n",
    "print(\"Standard Deviation: {:.2f} %\".format(accuracies.std()*100))"
   ]
  },
  {
   "cell_type": "markdown",
   "metadata": {},
   "source": [
    "#### Kernal SVM"
   ]
  },
  {
   "cell_type": "code",
   "execution_count": 36,
   "metadata": {},
   "outputs": [
    {
     "data": {
      "text/plain": [
       "SVC(random_state=0)"
      ]
     },
     "execution_count": 36,
     "metadata": {},
     "output_type": "execute_result"
    }
   ],
   "source": [
    "from sklearn.svm import SVC\n",
    "SVCclassifier = SVC(kernel = 'rbf', random_state = 0)\n",
    "SVCclassifier.fit(X_train, y_train)"
   ]
  },
  {
   "cell_type": "code",
   "execution_count": 37,
   "metadata": {},
   "outputs": [],
   "source": [
    "y_pred_SVC = SVCclassifier.predict(X_test)"
   ]
  },
  {
   "cell_type": "code",
   "execution_count": 38,
   "metadata": {},
   "outputs": [
    {
     "name": "stdout",
     "output_type": "stream",
     "text": [
      "[[19  3]\n",
      " [ 2 21]]\n"
     ]
    },
    {
     "data": {
      "text/plain": [
       "0.8888888888888888"
      ]
     },
     "execution_count": 38,
     "metadata": {},
     "output_type": "execute_result"
    }
   ],
   "source": [
    "from sklearn.metrics import confusion_matrix, accuracy_score\n",
    "cm = confusion_matrix(y_test, y_pred_SVC)\n",
    "print(cm)\n",
    "accuracy_score(y_test, y_pred_SVC)"
   ]
  },
  {
   "cell_type": "markdown",
   "metadata": {},
   "source": [
    "#### Random Forest"
   ]
  },
  {
   "cell_type": "code",
   "execution_count": 39,
   "metadata": {},
   "outputs": [
    {
     "data": {
      "text/plain": [
       "RandomForestClassifier(criterion='entropy', n_estimators=10, random_state=0)"
      ]
     },
     "execution_count": 39,
     "metadata": {},
     "output_type": "execute_result"
    }
   ],
   "source": [
    "from sklearn.ensemble import RandomForestClassifier\n",
    "RFclassifier = RandomForestClassifier(n_estimators = 10, criterion = 'entropy', random_state = 0)\n",
    "RFclassifier.fit(X_train, y_train)"
   ]
  },
  {
   "cell_type": "code",
   "execution_count": 40,
   "metadata": {},
   "outputs": [],
   "source": [
    "y_pred_RF = RFclassifier.predict(X_test)"
   ]
  },
  {
   "cell_type": "code",
   "execution_count": 41,
   "metadata": {},
   "outputs": [
    {
     "name": "stdout",
     "output_type": "stream",
     "text": [
      "[[19  3]\n",
      " [ 2 21]]\n"
     ]
    },
    {
     "data": {
      "text/plain": [
       "0.8888888888888888"
      ]
     },
     "execution_count": 41,
     "metadata": {},
     "output_type": "execute_result"
    }
   ],
   "source": [
    "from sklearn.metrics import confusion_matrix, accuracy_score\n",
    "cm = confusion_matrix(y_test, y_pred_RF)\n",
    "print(cm)\n",
    "accuracy_score(y_test, y_pred_RF)"
   ]
  },
  {
   "cell_type": "markdown",
   "metadata": {},
   "source": [
    "#### KNN"
   ]
  },
  {
   "cell_type": "code",
   "execution_count": 42,
   "metadata": {},
   "outputs": [
    {
     "data": {
      "text/plain": [
       "KNeighborsClassifier()"
      ]
     },
     "execution_count": 42,
     "metadata": {},
     "output_type": "execute_result"
    }
   ],
   "source": [
    "from sklearn.neighbors import KNeighborsClassifier\n",
    "KNNclassifier = KNeighborsClassifier(n_neighbors = 5, metric = 'minkowski', p = 2)\n",
    "KNNclassifier.fit(X_train, y_train)"
   ]
  },
  {
   "cell_type": "code",
   "execution_count": 43,
   "metadata": {},
   "outputs": [],
   "source": [
    "y_pred_KNN = KNNclassifier.predict(X_test)"
   ]
  },
  {
   "cell_type": "code",
   "execution_count": 44,
   "metadata": {},
   "outputs": [
    {
     "name": "stdout",
     "output_type": "stream",
     "text": [
      "[[19  3]\n",
      " [ 3 20]]\n"
     ]
    },
    {
     "data": {
      "text/plain": [
       "0.8666666666666667"
      ]
     },
     "execution_count": 44,
     "metadata": {},
     "output_type": "execute_result"
    }
   ],
   "source": [
    "from sklearn.metrics import confusion_matrix, accuracy_score\n",
    "cm = confusion_matrix(y_test, y_pred_KNN)\n",
    "print(cm)\n",
    "accuracy_score(y_test, y_pred_KNN)"
   ]
  },
  {
   "cell_type": "markdown",
   "metadata": {},
   "source": [
    "#### Naive Bayes"
   ]
  },
  {
   "cell_type": "code",
   "execution_count": 45,
   "metadata": {},
   "outputs": [
    {
     "data": {
      "text/plain": [
       "GaussianNB()"
      ]
     },
     "execution_count": 45,
     "metadata": {},
     "output_type": "execute_result"
    }
   ],
   "source": [
    "from sklearn.naive_bayes import GaussianNB\n",
    "NBclassifier = GaussianNB()\n",
    "NBclassifier.fit(X_train, y_train)"
   ]
  },
  {
   "cell_type": "code",
   "execution_count": 46,
   "metadata": {},
   "outputs": [],
   "source": [
    "y_pred_NB = NBclassifier.predict(X_test)"
   ]
  },
  {
   "cell_type": "code",
   "execution_count": 47,
   "metadata": {},
   "outputs": [
    {
     "name": "stdout",
     "output_type": "stream",
     "text": [
      "[[20  2]\n",
      " [ 3 20]]\n"
     ]
    },
    {
     "data": {
      "text/plain": [
       "0.8888888888888888"
      ]
     },
     "execution_count": 47,
     "metadata": {},
     "output_type": "execute_result"
    }
   ],
   "source": [
    "from sklearn.metrics import confusion_matrix, accuracy_score\n",
    "cm = confusion_matrix(y_test, y_pred_NB)\n",
    "print(cm)\n",
    "accuracy_score(y_test, y_pred_NB)"
   ]
  },
  {
   "cell_type": "code",
   "execution_count": 48,
   "metadata": {},
   "outputs": [],
   "source": [
    "from sklearn.metrics import roc_curve, auc"
   ]
  },
  {
   "cell_type": "code",
   "execution_count": 49,
   "metadata": {},
   "outputs": [
    {
     "data": {
      "image/png": "[encoded data removed]",
      "text/plain": [
       "<Figure size 432x288 with 1 Axes>"
      ]
     },
     "metadata": {
      "needs_background": "light"
     },
     "output_type": "display_data"
    }
   ],
   "source": [
    "log_fpr, log_tpr, threshold = roc_curve(y_test, y_pred_log)\n",
    "auc_log = auc(log_fpr, log_tpr)\n",
    "SVC_fpr, SVC_tpr, threshold = roc_curve(y_test, y_pred_SVC)\n",
    "auc_SVC = auc(SVC_fpr, SVC_tpr)\n",
    "RF_fpr, RF_tpr, threshold = roc_curve(y_test, y_pred_RF)\n",
    "auc_RF = auc(RF_fpr, RF_tpr)\n",
    "KNN_fpr, KNN_tpr, threshold = roc_curve(y_test, y_pred_KNN)\n",
    "auc_KNN = auc(KNN_fpr, KNN_tpr)\n",
    "NB_fpr, NB_tpr, threshold = roc_curve(y_test, y_pred_NB)\n",
    "auc_NB = auc(NB_fpr, NB_tpr)\n",
    "\n",
    "plt.figure()\n",
    "plt.plot(SVC_fpr, SVC_tpr, linestyle = '-', label = \"Suport Vector Machine (auc = %0.3f)\"%auc_SVC)\n",
    "plt.plot(log_fpr, log_tpr, linestyle = '-', label = \"Logarithimic regression (auc = %0.3f)\"%auc_log)\n",
    "plt.plot(RF_fpr, RF_tpr, linestyle = '-', label = \"Random Forest (auc = %0.3f)\"%auc_RF)\n",
    "#plt.plot(KNN_fpr, KNN_tpr, linestyle = '-', label = \"K-Nearest Neighbors (auc = %0.3f)\"%auc_KNN)\n",
    "plt.plot(NB_fpr, NB_tpr, linestyle = '-', label = \"Naive Bayes (auc = %0.3f)\"%auc_NB)\n",
    "\n",
    "plt.xlabel(\"False Postive Rate\")\n",
    "plt.ylabel(\"True Positive Rate\")\n",
    "\n",
    "plt.legend()\n",
    "plt.show()"
   ]
  },
  {
   "cell_type": "markdown",
   "metadata": {},
   "source": [
    "#### MLP"
   ]
  },
  {
   "cell_type": "code",
   "execution_count": 50,
   "metadata": {},
   "outputs": [],
   "source": [
    "import tensorflow as tf\n",
    "from tensorflow.keras.models import Model\n",
    "from tensorflow.keras.layers import Dense"
   ]
  },
  {
   "cell_type": "code",
   "execution_count": 51,
   "metadata": {},
   "outputs": [],
   "source": [
    "dict = {-1: 0,1: 1}\n",
    "\n",
    "for i in range(len(y_train)):\n",
    "    y_train[i] = dict[y_train[i]]\n",
    "    \n",
    "num_classes = 2\n",
    "y_train = tf.keras.utils.to_categorical(y_train, num_classes)"
   ]
  },
  {
   "cell_type": "code",
   "execution_count": 52,
   "metadata": {},
   "outputs": [],
   "source": [
    "for i in range(len(y_test)):\n",
    "    y_test[i] = dict[y_test[i]]\n",
    "    \n",
    "num_classes = 2\n",
    "y_test = tf.keras.utils.to_categorical(y_test, num_classes)"
   ]
  },
  {
   "cell_type": "code",
   "execution_count": 53,
   "metadata": {},
   "outputs": [
    {
     "name": "stdout",
     "output_type": "stream",
     "text": [
      "Model: \"model\"\n",
      "_________________________________________________________________\n",
      "Layer (type)                 Output Shape              Param #   \n",
      "=================================================================\n",
      "input_1 (InputLayer)         [(None, 18)]              0         \n",
      "_________________________________________________________________\n",
      "dense_4 (Dense)              (None, 2)                 38        \n",
      "=================================================================\n",
      "Total params: 38\n",
      "Trainable params: 38\n",
      "Non-trainable params: 0\n",
      "_________________________________________________________________\n"
     ]
    }
   ],
   "source": [
    "ip = tf.keras.Input(shape = 18)\n",
    "dense1 = tf.keras.layers.Dense(units = 32, activation = \"relu\")(ip)\n",
    "dense2 = tf.keras.layers.Dense(units = 32, activation = \"relu\")(dense1)\n",
    "dense3 = tf.keras.layers.Dense(units = 16, activation = \"relu\")(dense2)\n",
    "dense4 = tf.keras.layers.Dense(units = 8, activation = \"relu\")(dense3)\n",
    "dense4 = tf.keras.layers.Dense(units = 2, activation = \"sigmoid\")(ip)\n",
    "\n",
    "Model = tf.keras.models.Model(inputs = ip, outputs = dense4)\n",
    "Model.summary()"
   ]
  },
  {
   "cell_type": "code",
   "execution_count": 54,
   "metadata": {},
   "outputs": [],
   "source": [
    "Model.compile(loss = 'binary_crossentropy', metrics = ['acc'], optimizer = 'adam')"
   ]
  },
  {
   "cell_type": "code",
   "execution_count": 55,
   "metadata": {
    "scrolled": true
   },
   "outputs": [
    {
     "name": "stdout",
     "output_type": "stream",
     "text": [
      "Epoch 1/200\n",
      "6/6 [==============================] - 1s 29ms/step - loss: 0.7219 - acc: 0.4804 - val_loss: 0.7011 - val_acc: 0.5333\n",
      "Epoch 2/200\n",
      "6/6 [==============================] - 0s 6ms/step - loss: 0.7165 - acc: 0.4860 - val_loss: 0.6944 - val_acc: 0.5333\n",
      "Epoch 3/200\n",
      "6/6 [==============================] - 0s 6ms/step - loss: 0.7112 - acc: 0.5140 - val_loss: 0.6881 - val_acc: 0.5333\n",
      "Epoch 4/200\n",
      "6/6 [==============================] - 0s 6ms/step - loss: 0.7063 - acc: 0.5587 - val_loss: 0.6820 - val_acc: 0.5556\n",
      "Epoch 5/200\n",
      "6/6 [==============================] - 0s 7ms/step - loss: 0.7015 - acc: 0.5810 - val_loss: 0.6761 - val_acc: 0.5556\n",
      "Epoch 6/200\n",
      "6/6 [==============================] - 0s 7ms/step - loss: 0.6965 - acc: 0.5866 - val_loss: 0.6706 - val_acc: 0.5778\n",
      "Epoch 7/200\n",
      "6/6 [==============================] - 0s 8ms/step - loss: 0.6920 - acc: 0.6034 - val_loss: 0.6649 - val_acc: 0.5778\n",
      "Epoch 8/200\n",
      "6/6 [==============================] - 0s 7ms/step - loss: 0.6875 - acc: 0.6089 - val_loss: 0.6594 - val_acc: 0.6000\n",
      "Epoch 9/200\n",
      "6/6 [==============================] - 0s 7ms/step - loss: 0.6830 - acc: 0.6257 - val_loss: 0.6537 - val_acc: 0.6000\n",
      "Epoch 10/200\n",
      "6/6 [==============================] - 0s 5ms/step - loss: 0.6786 - acc: 0.6425 - val_loss: 0.6482 - val_acc: 0.6000\n",
      "Epoch 11/200\n",
      "6/6 [==============================] - 0s 6ms/step - loss: 0.6742 - acc: 0.6536 - val_loss: 0.6431 - val_acc: 0.6444\n",
      "Epoch 12/200\n",
      "6/6 [==============================] - 0s 7ms/step - loss: 0.6699 - acc: 0.6536 - val_loss: 0.6380 - val_acc: 0.6889\n",
      "Epoch 13/200\n",
      "6/6 [==============================] - 0s 8ms/step - loss: 0.6660 - acc: 0.6648 - val_loss: 0.6331 - val_acc: 0.6889\n",
      "Epoch 14/200\n",
      "6/6 [==============================] - 0s 6ms/step - loss: 0.6618 - acc: 0.6760 - val_loss: 0.6282 - val_acc: 0.7333\n",
      "Epoch 15/200\n",
      "6/6 [==============================] - 0s 6ms/step - loss: 0.6580 - acc: 0.6816 - val_loss: 0.6236 - val_acc: 0.7333\n",
      "Epoch 16/200\n",
      "6/6 [==============================] - 0s 6ms/step - loss: 0.6542 - acc: 0.6872 - val_loss: 0.6188 - val_acc: 0.7556\n",
      "Epoch 17/200\n",
      "6/6 [==============================] - 0s 5ms/step - loss: 0.6502 - acc: 0.6927 - val_loss: 0.6148 - val_acc: 0.7556\n",
      "Epoch 18/200\n",
      "6/6 [==============================] - 0s 6ms/step - loss: 0.6468 - acc: 0.6927 - val_loss: 0.6101 - val_acc: 0.7778\n",
      "Epoch 19/200\n",
      "6/6 [==============================] - 0s 5ms/step - loss: 0.6432 - acc: 0.6983 - val_loss: 0.6056 - val_acc: 0.7778\n",
      "Epoch 20/200\n",
      "6/6 [==============================] - 0s 7ms/step - loss: 0.6394 - acc: 0.7039 - val_loss: 0.6016 - val_acc: 0.8000\n",
      "Epoch 21/200\n",
      "6/6 [==============================] - 0s 5ms/step - loss: 0.6361 - acc: 0.7095 - val_loss: 0.5973 - val_acc: 0.8000\n",
      "Epoch 22/200\n",
      "6/6 [==============================] - 0s 7ms/step - loss: 0.6328 - acc: 0.7095 - val_loss: 0.5931 - val_acc: 0.8000\n",
      "Epoch 23/200\n",
      "6/6 [==============================] - 0s 7ms/step - loss: 0.6294 - acc: 0.7207 - val_loss: 0.5892 - val_acc: 0.8000\n",
      "Epoch 24/200\n",
      "6/6 [==============================] - 0s 9ms/step - loss: 0.6261 - acc: 0.7263 - val_loss: 0.5855 - val_acc: 0.8000\n",
      "Epoch 25/200\n",
      "6/6 [==============================] - 0s 7ms/step - loss: 0.6230 - acc: 0.7318 - val_loss: 0.5818 - val_acc: 0.8000\n",
      "Epoch 26/200\n",
      "6/6 [==============================] - 0s 6ms/step - loss: 0.6198 - acc: 0.7318 - val_loss: 0.5782 - val_acc: 0.8000\n",
      "Epoch 27/200\n",
      "6/6 [==============================] - 0s 7ms/step - loss: 0.6169 - acc: 0.7374 - val_loss: 0.5746 - val_acc: 0.8000\n",
      "Epoch 28/200\n",
      "6/6 [==============================] - 0s 7ms/step - loss: 0.6138 - acc: 0.7430 - val_loss: 0.5713 - val_acc: 0.8000\n",
      "Epoch 29/200\n",
      "6/6 [==============================] - 0s 6ms/step - loss: 0.6108 - acc: 0.7486 - val_loss: 0.5680 - val_acc: 0.8000\n",
      "Epoch 30/200\n",
      "6/6 [==============================] - 0s 6ms/step - loss: 0.6080 - acc: 0.7486 - val_loss: 0.5647 - val_acc: 0.8222\n",
      "Epoch 31/200\n",
      "6/6 [==============================] - 0s 6ms/step - loss: 0.6052 - acc: 0.7430 - val_loss: 0.5614 - val_acc: 0.8222\n",
      "Epoch 32/200\n",
      "6/6 [==============================] - 0s 7ms/step - loss: 0.6022 - acc: 0.7430 - val_loss: 0.5583 - val_acc: 0.8222\n",
      "Epoch 33/200\n",
      "6/6 [==============================] - 0s 5ms/step - loss: 0.5995 - acc: 0.7486 - val_loss: 0.5554 - val_acc: 0.8222\n",
      "Epoch 34/200\n",
      "6/6 [==============================] - 0s 6ms/step - loss: 0.5969 - acc: 0.7542 - val_loss: 0.5523 - val_acc: 0.8222\n",
      "Epoch 35/200\n",
      "6/6 [==============================] - 0s 6ms/step - loss: 0.5942 - acc: 0.7542 - val_loss: 0.5494 - val_acc: 0.8222\n",
      "Epoch 36/200\n",
      "6/6 [==============================] - 0s 6ms/step - loss: 0.5916 - acc: 0.7654 - val_loss: 0.5465 - val_acc: 0.8222\n",
      "Epoch 37/200\n",
      "6/6 [==============================] - 0s 6ms/step - loss: 0.5889 - acc: 0.7654 - val_loss: 0.5439 - val_acc: 0.8222\n",
      "Epoch 38/200\n",
      "6/6 [==============================] - 0s 6ms/step - loss: 0.5864 - acc: 0.7654 - val_loss: 0.5412 - val_acc: 0.8222\n",
      "Epoch 39/200\n",
      "6/6 [==============================] - 0s 6ms/step - loss: 0.5840 - acc: 0.7654 - val_loss: 0.5384 - val_acc: 0.8222\n",
      "Epoch 40/200\n",
      "6/6 [==============================] - 0s 6ms/step - loss: 0.5815 - acc: 0.7654 - val_loss: 0.5356 - val_acc: 0.8222\n",
      "Epoch 41/200\n",
      "6/6 [==============================] - 0s 5ms/step - loss: 0.5790 - acc: 0.7654 - val_loss: 0.5330 - val_acc: 0.8222\n",
      "Epoch 42/200\n",
      "6/6 [==============================] - 0s 5ms/step - loss: 0.5767 - acc: 0.7654 - val_loss: 0.5305 - val_acc: 0.8222\n",
      "Epoch 43/200\n",
      "6/6 [==============================] - 0s 6ms/step - loss: 0.5743 - acc: 0.7654 - val_loss: 0.5281 - val_acc: 0.8222\n",
      "Epoch 44/200\n",
      "6/6 [==============================] - 0s 6ms/step - loss: 0.5720 - acc: 0.7654 - val_loss: 0.5257 - val_acc: 0.8222\n",
      "Epoch 45/200\n",
      "6/6 [==============================] - 0s 6ms/step - loss: 0.5698 - acc: 0.7654 - val_loss: 0.5234 - val_acc: 0.8222\n",
      "Epoch 46/200\n",
      "6/6 [==============================] - 0s 6ms/step - loss: 0.5675 - acc: 0.7709 - val_loss: 0.5209 - val_acc: 0.8222\n",
      "Epoch 47/200\n",
      "6/6 [==============================] - 0s 6ms/step - loss: 0.5653 - acc: 0.7654 - val_loss: 0.5185 - val_acc: 0.8222\n",
      "Epoch 48/200\n",
      "6/6 [==============================] - 0s 6ms/step - loss: 0.5631 - acc: 0.7654 - val_loss: 0.5160 - val_acc: 0.8222\n",
      "Epoch 49/200\n",
      "6/6 [==============================] - 0s 7ms/step - loss: 0.5609 - acc: 0.7654 - val_loss: 0.5137 - val_acc: 0.8222\n",
      "Epoch 50/200\n",
      "6/6 [==============================] - 0s 6ms/step - loss: 0.5587 - acc: 0.7709 - val_loss: 0.5115 - val_acc: 0.8444\n",
      "Epoch 51/200\n",
      "6/6 [==============================] - 0s 5ms/step - loss: 0.5567 - acc: 0.7709 - val_loss: 0.5094 - val_acc: 0.8667\n",
      "Epoch 52/200\n",
      "6/6 [==============================] - 0s 6ms/step - loss: 0.5546 - acc: 0.7709 - val_loss: 0.5072 - val_acc: 0.8667\n",
      "Epoch 53/200\n",
      "6/6 [==============================] - 0s 7ms/step - loss: 0.5525 - acc: 0.7709 - val_loss: 0.5051 - val_acc: 0.8667\n",
      "Epoch 54/200\n",
      "6/6 [==============================] - 0s 5ms/step - loss: 0.5505 - acc: 0.7709 - val_loss: 0.5030 - val_acc: 0.8667\n",
      "Epoch 55/200\n",
      "6/6 [==============================] - 0s 6ms/step - loss: 0.5485 - acc: 0.7709 - val_loss: 0.5009 - val_acc: 0.8667\n",
      "Epoch 56/200\n",
      "6/6 [==============================] - 0s 6ms/step - loss: 0.5465 - acc: 0.7709 - val_loss: 0.4991 - val_acc: 0.8667\n",
      "Epoch 57/200\n",
      "6/6 [==============================] - 0s 6ms/step - loss: 0.5445 - acc: 0.7765 - val_loss: 0.4971 - val_acc: 0.8667\n",
      "Epoch 58/200\n",
      "6/6 [==============================] - 0s 5ms/step - loss: 0.5428 - acc: 0.7765 - val_loss: 0.4949 - val_acc: 0.8667\n",
      "Epoch 59/200\n",
      "6/6 [==============================] - 0s 6ms/step - loss: 0.5407 - acc: 0.7765 - val_loss: 0.4932 - val_acc: 0.8667\n",
      "Epoch 60/200\n",
      "6/6 [==============================] - 0s 11ms/step - loss: 0.5389 - acc: 0.7765 - val_loss: 0.4914 - val_acc: 0.8667\n",
      "Epoch 61/200\n",
      "6/6 [==============================] - 0s 6ms/step - loss: 0.5371 - acc: 0.7821 - val_loss: 0.4896 - val_acc: 0.8667\n",
      "Epoch 62/200\n",
      "6/6 [==============================] - 0s 5ms/step - loss: 0.5353 - acc: 0.7821 - val_loss: 0.4878 - val_acc: 0.8667\n",
      "Epoch 63/200\n",
      "6/6 [==============================] - 0s 6ms/step - loss: 0.5335 - acc: 0.7877 - val_loss: 0.4861 - val_acc: 0.8667\n",
      "Epoch 64/200\n",
      "6/6 [==============================] - 0s 6ms/step - loss: 0.5317 - acc: 0.7877 - val_loss: 0.4843 - val_acc: 0.8667\n",
      "Epoch 65/200\n",
      "6/6 [==============================] - 0s 5ms/step - loss: 0.5300 - acc: 0.7933 - val_loss: 0.4823 - val_acc: 0.8667\n",
      "Epoch 66/200\n",
      "6/6 [==============================] - 0s 5ms/step - loss: 0.5282 - acc: 0.7933 - val_loss: 0.4806 - val_acc: 0.8667\n",
      "Epoch 67/200\n",
      "6/6 [==============================] - 0s 6ms/step - loss: 0.5265 - acc: 0.7933 - val_loss: 0.4789 - val_acc: 0.8667\n",
      "Epoch 68/200\n",
      "6/6 [==============================] - 0s 6ms/step - loss: 0.5249 - acc: 0.7933 - val_loss: 0.4772 - val_acc: 0.8667\n",
      "Epoch 69/200\n",
      "6/6 [==============================] - 0s 6ms/step - loss: 0.5231 - acc: 0.7877 - val_loss: 0.4757 - val_acc: 0.8667\n",
      "Epoch 70/200\n",
      "6/6 [==============================] - 0s 6ms/step - loss: 0.5215 - acc: 0.7877 - val_loss: 0.4742 - val_acc: 0.8667\n",
      "Epoch 71/200\n",
      "6/6 [==============================] - 0s 5ms/step - loss: 0.5198 - acc: 0.7877 - val_loss: 0.4730 - val_acc: 0.8667\n",
      "Epoch 72/200\n",
      "6/6 [==============================] - 0s 5ms/step - loss: 0.5182 - acc: 0.7877 - val_loss: 0.4714 - val_acc: 0.8667\n",
      "Epoch 73/200\n",
      "6/6 [==============================] - 0s 6ms/step - loss: 0.5166 - acc: 0.7877 - val_loss: 0.4700 - val_acc: 0.8667\n",
      "Epoch 74/200\n",
      "6/6 [==============================] - 0s 7ms/step - loss: 0.5150 - acc: 0.7877 - val_loss: 0.4685 - val_acc: 0.8667\n",
      "Epoch 75/200\n",
      "6/6 [==============================] - 0s 6ms/step - loss: 0.5135 - acc: 0.7933 - val_loss: 0.4672 - val_acc: 0.8667\n",
      "Epoch 76/200\n",
      "6/6 [==============================] - 0s 6ms/step - loss: 0.5119 - acc: 0.7933 - val_loss: 0.4657 - val_acc: 0.8667\n",
      "Epoch 77/200\n",
      "6/6 [==============================] - 0s 6ms/step - loss: 0.5103 - acc: 0.7989 - val_loss: 0.4644 - val_acc: 0.8667\n",
      "Epoch 78/200\n",
      "6/6 [==============================] - 0s 6ms/step - loss: 0.5087 - acc: 0.8045 - val_loss: 0.4632 - val_acc: 0.8667\n",
      "Epoch 79/200\n",
      "6/6 [==============================] - 0s 6ms/step - loss: 0.5073 - acc: 0.8045 - val_loss: 0.4619 - val_acc: 0.8667\n",
      "Epoch 80/200\n",
      "6/6 [==============================] - 0s 6ms/step - loss: 0.5058 - acc: 0.8045 - val_loss: 0.4605 - val_acc: 0.8667\n",
      "Epoch 81/200\n",
      "6/6 [==============================] - 0s 7ms/step - loss: 0.5042 - acc: 0.8045 - val_loss: 0.4592 - val_acc: 0.8667\n",
      "Epoch 82/200\n",
      "6/6 [==============================] - 0s 6ms/step - loss: 0.5028 - acc: 0.8045 - val_loss: 0.4579 - val_acc: 0.8667\n",
      "Epoch 83/200\n",
      "6/6 [==============================] - 0s 6ms/step - loss: 0.5014 - acc: 0.8045 - val_loss: 0.4567 - val_acc: 0.8667\n",
      "Epoch 84/200\n",
      "6/6 [==============================] - 0s 5ms/step - loss: 0.4999 - acc: 0.8045 - val_loss: 0.4555 - val_acc: 0.8667\n",
      "Epoch 85/200\n",
      "6/6 [==============================] - 0s 5ms/step - loss: 0.4985 - acc: 0.8045 - val_loss: 0.4542 - val_acc: 0.8667\n",
      "Epoch 86/200\n",
      "6/6 [==============================] - 0s 5ms/step - loss: 0.4971 - acc: 0.8045 - val_loss: 0.4531 - val_acc: 0.8667\n",
      "Epoch 87/200\n",
      "6/6 [==============================] - 0s 6ms/step - loss: 0.4957 - acc: 0.8045 - val_loss: 0.4517 - val_acc: 0.8667\n",
      "Epoch 88/200\n",
      "6/6 [==============================] - 0s 5ms/step - loss: 0.4943 - acc: 0.8101 - val_loss: 0.4505 - val_acc: 0.8667\n",
      "Epoch 89/200\n",
      "6/6 [==============================] - 0s 5ms/step - loss: 0.4928 - acc: 0.8101 - val_loss: 0.4494 - val_acc: 0.8667\n",
      "Epoch 90/200\n",
      "6/6 [==============================] - 0s 6ms/step - loss: 0.4915 - acc: 0.8101 - val_loss: 0.4483 - val_acc: 0.8667\n",
      "Epoch 91/200\n",
      "6/6 [==============================] - 0s 5ms/step - loss: 0.4901 - acc: 0.8101 - val_loss: 0.4471 - val_acc: 0.8667\n",
      "Epoch 92/200\n",
      "6/6 [==============================] - 0s 6ms/step - loss: 0.4888 - acc: 0.8156 - val_loss: 0.4459 - val_acc: 0.8667\n",
      "Epoch 93/200\n",
      "6/6 [==============================] - 0s 6ms/step - loss: 0.4874 - acc: 0.8156 - val_loss: 0.4447 - val_acc: 0.8667\n",
      "Epoch 94/200\n",
      "6/6 [==============================] - 0s 6ms/step - loss: 0.4861 - acc: 0.8156 - val_loss: 0.4434 - val_acc: 0.8667\n",
      "Epoch 95/200\n",
      "6/6 [==============================] - 0s 6ms/step - loss: 0.4848 - acc: 0.8156 - val_loss: 0.4423 - val_acc: 0.8667\n",
      "Epoch 96/200\n",
      "6/6 [==============================] - 0s 6ms/step - loss: 0.4835 - acc: 0.8156 - val_loss: 0.4410 - val_acc: 0.8667\n",
      "Epoch 97/200\n",
      "6/6 [==============================] - ETA: 0s - loss: 0.4878 - acc: 0.843 - 0s 6ms/step - loss: 0.4822 - acc: 0.8156 - val_loss: 0.4400 - val_acc: 0.8667\n",
      "Epoch 98/200\n",
      "6/6 [==============================] - 0s 6ms/step - loss: 0.4810 - acc: 0.8156 - val_loss: 0.4390 - val_acc: 0.8667\n",
      "Epoch 99/200\n",
      "6/6 [==============================] - ETA: 0s - loss: 0.5162 - acc: 0.843 - 0s 6ms/step - loss: 0.4797 - acc: 0.8212 - val_loss: 0.4380 - val_acc: 0.8667\n",
      "Epoch 100/200\n",
      "6/6 [==============================] - 0s 6ms/step - loss: 0.4785 - acc: 0.8212 - val_loss: 0.4370 - val_acc: 0.8667\n",
      "Epoch 101/200\n",
      "6/6 [==============================] - 0s 6ms/step - loss: 0.4772 - acc: 0.8212 - val_loss: 0.4360 - val_acc: 0.8667\n",
      "Epoch 102/200\n",
      "6/6 [==============================] - 0s 6ms/step - loss: 0.4760 - acc: 0.8212 - val_loss: 0.4351 - val_acc: 0.8667\n",
      "Epoch 103/200\n",
      "6/6 [==============================] - 0s 6ms/step - loss: 0.4748 - acc: 0.8212 - val_loss: 0.4340 - val_acc: 0.8667\n",
      "Epoch 104/200\n",
      "6/6 [==============================] - 0s 6ms/step - loss: 0.4736 - acc: 0.8212 - val_loss: 0.4330 - val_acc: 0.8667\n",
      "Epoch 105/200\n",
      "6/6 [==============================] - 0s 7ms/step - loss: 0.4724 - acc: 0.8212 - val_loss: 0.4321 - val_acc: 0.8667\n",
      "Epoch 106/200\n",
      "6/6 [==============================] - 0s 6ms/step - loss: 0.4711 - acc: 0.8212 - val_loss: 0.4311 - val_acc: 0.8667\n",
      "Epoch 107/200\n",
      "6/6 [==============================] - 0s 6ms/step - loss: 0.4700 - acc: 0.8212 - val_loss: 0.4301 - val_acc: 0.8667\n",
      "Epoch 108/200\n",
      "6/6 [==============================] - 0s 7ms/step - loss: 0.4688 - acc: 0.8268 - val_loss: 0.4290 - val_acc: 0.8667\n",
      "Epoch 109/200\n",
      "6/6 [==============================] - 0s 6ms/step - loss: 0.4676 - acc: 0.8268 - val_loss: 0.4281 - val_acc: 0.8667\n",
      "Epoch 110/200\n",
      "6/6 [==============================] - 0s 5ms/step - loss: 0.4664 - acc: 0.8268 - val_loss: 0.4271 - val_acc: 0.8667\n",
      "Epoch 111/200\n",
      "6/6 [==============================] - 0s 6ms/step - loss: 0.4653 - acc: 0.8268 - val_loss: 0.4263 - val_acc: 0.8667\n",
      "Epoch 112/200\n",
      "6/6 [==============================] - 0s 6ms/step - loss: 0.4642 - acc: 0.8268 - val_loss: 0.4252 - val_acc: 0.8667\n",
      "Epoch 113/200\n",
      "6/6 [==============================] - 0s 6ms/step - loss: 0.4631 - acc: 0.8268 - val_loss: 0.4242 - val_acc: 0.8667\n",
      "Epoch 114/200\n",
      "6/6 [==============================] - 0s 5ms/step - loss: 0.4619 - acc: 0.8268 - val_loss: 0.4232 - val_acc: 0.8667\n",
      "Epoch 115/200\n",
      "6/6 [==============================] - 0s 5ms/step - loss: 0.4608 - acc: 0.8268 - val_loss: 0.4222 - val_acc: 0.8667\n",
      "Epoch 116/200\n",
      "6/6 [==============================] - 0s 5ms/step - loss: 0.4597 - acc: 0.8268 - val_loss: 0.4213 - val_acc: 0.8667\n",
      "Epoch 117/200\n",
      "6/6 [==============================] - 0s 6ms/step - loss: 0.4587 - acc: 0.8268 - val_loss: 0.4205 - val_acc: 0.8667\n",
      "Epoch 118/200\n",
      "6/6 [==============================] - 0s 5ms/step - loss: 0.4575 - acc: 0.8268 - val_loss: 0.4196 - val_acc: 0.8667\n",
      "Epoch 119/200\n",
      "6/6 [==============================] - 0s 5ms/step - loss: 0.4565 - acc: 0.8268 - val_loss: 0.4188 - val_acc: 0.8667\n",
      "Epoch 120/200\n",
      "6/6 [==============================] - 0s 6ms/step - loss: 0.4554 - acc: 0.8268 - val_loss: 0.4180 - val_acc: 0.8667\n",
      "Epoch 121/200\n",
      "6/6 [==============================] - 0s 5ms/step - loss: 0.4543 - acc: 0.8268 - val_loss: 0.4170 - val_acc: 0.8667\n",
      "Epoch 122/200\n",
      "6/6 [==============================] - 0s 5ms/step - loss: 0.4533 - acc: 0.8268 - val_loss: 0.4159 - val_acc: 0.8667\n",
      "Epoch 123/200\n",
      "6/6 [==============================] - 0s 6ms/step - loss: 0.4522 - acc: 0.8268 - val_loss: 0.4150 - val_acc: 0.8667\n",
      "Epoch 124/200\n",
      "6/6 [==============================] - 0s 6ms/step - loss: 0.4512 - acc: 0.8324 - val_loss: 0.4142 - val_acc: 0.8667\n",
      "Epoch 125/200\n",
      "6/6 [==============================] - 0s 6ms/step - loss: 0.4502 - acc: 0.8380 - val_loss: 0.4134 - val_acc: 0.8667\n",
      "Epoch 126/200\n",
      "6/6 [==============================] - 0s 6ms/step - loss: 0.4492 - acc: 0.8436 - val_loss: 0.4127 - val_acc: 0.8667\n",
      "Epoch 127/200\n",
      "6/6 [==============================] - 0s 7ms/step - loss: 0.4481 - acc: 0.8547 - val_loss: 0.4121 - val_acc: 0.8667\n",
      "Epoch 128/200\n",
      "6/6 [==============================] - 0s 8ms/step - loss: 0.4471 - acc: 0.8547 - val_loss: 0.4113 - val_acc: 0.8667\n",
      "Epoch 129/200\n",
      "6/6 [==============================] - 0s 6ms/step - loss: 0.4461 - acc: 0.8547 - val_loss: 0.4104 - val_acc: 0.8667\n",
      "Epoch 130/200\n",
      "6/6 [==============================] - 0s 6ms/step - loss: 0.4451 - acc: 0.8547 - val_loss: 0.4096 - val_acc: 0.8667\n",
      "Epoch 131/200\n",
      "6/6 [==============================] - 0s 6ms/step - loss: 0.4441 - acc: 0.8492 - val_loss: 0.4088 - val_acc: 0.8667\n",
      "Epoch 132/200\n",
      "6/6 [==============================] - 0s 10ms/step - loss: 0.4431 - acc: 0.8547 - val_loss: 0.4079 - val_acc: 0.8667\n",
      "Epoch 133/200\n",
      "6/6 [==============================] - 0s 6ms/step - loss: 0.4422 - acc: 0.8603 - val_loss: 0.4070 - val_acc: 0.8667\n",
      "Epoch 134/200\n",
      "6/6 [==============================] - 0s 6ms/step - loss: 0.4412 - acc: 0.8603 - val_loss: 0.4062 - val_acc: 0.8667\n",
      "Epoch 135/200\n",
      "6/6 [==============================] - 0s 7ms/step - loss: 0.4402 - acc: 0.8603 - val_loss: 0.4054 - val_acc: 0.8667\n",
      "Epoch 136/200\n",
      "6/6 [==============================] - 0s 7ms/step - loss: 0.4393 - acc: 0.8603 - val_loss: 0.4047 - val_acc: 0.8667\n",
      "Epoch 137/200\n",
      "6/6 [==============================] - 0s 6ms/step - loss: 0.4384 - acc: 0.8603 - val_loss: 0.4040 - val_acc: 0.8444\n",
      "Epoch 138/200\n",
      "6/6 [==============================] - 0s 6ms/step - loss: 0.4374 - acc: 0.8603 - val_loss: 0.4033 - val_acc: 0.8444\n",
      "Epoch 139/200\n",
      "6/6 [==============================] - 0s 6ms/step - loss: 0.4365 - acc: 0.8603 - val_loss: 0.4026 - val_acc: 0.8444\n",
      "Epoch 140/200\n",
      "6/6 [==============================] - 0s 6ms/step - loss: 0.4355 - acc: 0.8603 - val_loss: 0.4019 - val_acc: 0.8444\n",
      "Epoch 141/200\n",
      "6/6 [==============================] - 0s 5ms/step - loss: 0.4346 - acc: 0.8603 - val_loss: 0.4012 - val_acc: 0.8667\n",
      "Epoch 142/200\n",
      "6/6 [==============================] - 0s 7ms/step - loss: 0.4337 - acc: 0.8603 - val_loss: 0.4004 - val_acc: 0.8667\n",
      "Epoch 143/200\n",
      "6/6 [==============================] - 0s 5ms/step - loss: 0.4328 - acc: 0.8603 - val_loss: 0.3996 - val_acc: 0.8667\n",
      "Epoch 144/200\n",
      "6/6 [==============================] - 0s 6ms/step - loss: 0.4318 - acc: 0.8603 - val_loss: 0.3989 - val_acc: 0.8667\n",
      "Epoch 145/200\n",
      "6/6 [==============================] - 0s 5ms/step - loss: 0.4310 - acc: 0.8603 - val_loss: 0.3982 - val_acc: 0.8667\n",
      "Epoch 146/200\n",
      "6/6 [==============================] - 0s 6ms/step - loss: 0.4301 - acc: 0.8603 - val_loss: 0.3975 - val_acc: 0.8667\n",
      "Epoch 147/200\n",
      "6/6 [==============================] - 0s 6ms/step - loss: 0.4292 - acc: 0.8603 - val_loss: 0.3969 - val_acc: 0.8667\n",
      "Epoch 148/200\n",
      "6/6 [==============================] - 0s 6ms/step - loss: 0.4284 - acc: 0.8603 - val_loss: 0.3963 - val_acc: 0.8667\n",
      "Epoch 149/200\n",
      "6/6 [==============================] - 0s 6ms/step - loss: 0.4275 - acc: 0.8603 - val_loss: 0.3957 - val_acc: 0.8667\n",
      "Epoch 150/200\n",
      "6/6 [==============================] - 0s 6ms/step - loss: 0.4266 - acc: 0.8603 - val_loss: 0.3950 - val_acc: 0.8667\n",
      "Epoch 151/200\n",
      "6/6 [==============================] - 0s 5ms/step - loss: 0.4257 - acc: 0.8603 - val_loss: 0.3944 - val_acc: 0.8667\n",
      "Epoch 152/200\n",
      "6/6 [==============================] - 0s 5ms/step - loss: 0.4249 - acc: 0.8603 - val_loss: 0.3936 - val_acc: 0.8667\n",
      "Epoch 153/200\n",
      "6/6 [==============================] - 0s 6ms/step - loss: 0.4240 - acc: 0.8603 - val_loss: 0.3930 - val_acc: 0.8667\n",
      "Epoch 154/200\n",
      "6/6 [==============================] - 0s 5ms/step - loss: 0.4232 - acc: 0.8603 - val_loss: 0.3925 - val_acc: 0.8667\n",
      "Epoch 155/200\n",
      "6/6 [==============================] - 0s 7ms/step - loss: 0.4224 - acc: 0.8603 - val_loss: 0.3919 - val_acc: 0.8667\n",
      "Epoch 156/200\n",
      "6/6 [==============================] - 0s 6ms/step - loss: 0.4216 - acc: 0.8603 - val_loss: 0.3914 - val_acc: 0.8667\n",
      "Epoch 157/200\n",
      "6/6 [==============================] - 0s 7ms/step - loss: 0.4208 - acc: 0.8603 - val_loss: 0.3910 - val_acc: 0.8667\n",
      "Epoch 158/200\n",
      "6/6 [==============================] - 0s 6ms/step - loss: 0.4199 - acc: 0.8603 - val_loss: 0.3904 - val_acc: 0.8667\n",
      "Epoch 159/200\n",
      "6/6 [==============================] - 0s 6ms/step - loss: 0.4191 - acc: 0.8603 - val_loss: 0.3899 - val_acc: 0.8667\n",
      "Epoch 160/200\n",
      "6/6 [==============================] - 0s 6ms/step - loss: 0.4183 - acc: 0.8603 - val_loss: 0.3894 - val_acc: 0.8667\n",
      "Epoch 161/200\n",
      "6/6 [==============================] - 0s 7ms/step - loss: 0.4175 - acc: 0.8603 - val_loss: 0.3887 - val_acc: 0.8667\n",
      "Epoch 162/200\n",
      "6/6 [==============================] - 0s 7ms/step - loss: 0.4167 - acc: 0.8603 - val_loss: 0.3881 - val_acc: 0.8667\n",
      "Epoch 163/200\n",
      "6/6 [==============================] - 0s 6ms/step - loss: 0.4159 - acc: 0.8603 - val_loss: 0.3875 - val_acc: 0.8667\n",
      "Epoch 164/200\n",
      "6/6 [==============================] - 0s 6ms/step - loss: 0.4151 - acc: 0.8603 - val_loss: 0.3870 - val_acc: 0.8667\n",
      "Epoch 165/200\n",
      "6/6 [==============================] - 0s 6ms/step - loss: 0.4143 - acc: 0.8603 - val_loss: 0.3864 - val_acc: 0.8667\n",
      "Epoch 166/200\n",
      "6/6 [==============================] - 0s 6ms/step - loss: 0.4135 - acc: 0.8603 - val_loss: 0.3860 - val_acc: 0.8667\n",
      "Epoch 167/200\n",
      "6/6 [==============================] - 0s 6ms/step - loss: 0.4127 - acc: 0.8603 - val_loss: 0.3854 - val_acc: 0.8667\n",
      "Epoch 168/200\n",
      "6/6 [==============================] - 0s 5ms/step - loss: 0.4120 - acc: 0.8603 - val_loss: 0.3847 - val_acc: 0.8667\n",
      "Epoch 169/200\n",
      "6/6 [==============================] - 0s 6ms/step - loss: 0.4112 - acc: 0.8603 - val_loss: 0.3841 - val_acc: 0.8667\n",
      "Epoch 170/200\n",
      "6/6 [==============================] - 0s 6ms/step - loss: 0.4105 - acc: 0.8603 - val_loss: 0.3833 - val_acc: 0.8667\n",
      "Epoch 171/200\n",
      "6/6 [==============================] - ETA: 0s - loss: 0.3477 - acc: 0.906 - 0s 7ms/step - loss: 0.4097 - acc: 0.8603 - val_loss: 0.3828 - val_acc: 0.8667\n",
      "Epoch 172/200\n",
      "6/6 [==============================] - 0s 6ms/step - loss: 0.4089 - acc: 0.8603 - val_loss: 0.3824 - val_acc: 0.8667\n",
      "Epoch 173/200\n",
      "6/6 [==============================] - 0s 6ms/step - loss: 0.4081 - acc: 0.8603 - val_loss: 0.3819 - val_acc: 0.8667\n",
      "Epoch 174/200\n",
      "6/6 [==============================] - 0s 6ms/step - loss: 0.4075 - acc: 0.8603 - val_loss: 0.3815 - val_acc: 0.8667\n",
      "Epoch 175/200\n",
      "6/6 [==============================] - 0s 9ms/step - loss: 0.4067 - acc: 0.8603 - val_loss: 0.3809 - val_acc: 0.8667\n",
      "Epoch 176/200\n",
      "6/6 [==============================] - 0s 7ms/step - loss: 0.4059 - acc: 0.8603 - val_loss: 0.3803 - val_acc: 0.8667\n",
      "Epoch 177/200\n",
      "6/6 [==============================] - 0s 7ms/step - loss: 0.4052 - acc: 0.8603 - val_loss: 0.3798 - val_acc: 0.8667\n",
      "Epoch 178/200\n",
      "6/6 [==============================] - 0s 6ms/step - loss: 0.4045 - acc: 0.8603 - val_loss: 0.3792 - val_acc: 0.8667\n",
      "Epoch 179/200\n",
      "6/6 [==============================] - 0s 7ms/step - loss: 0.4038 - acc: 0.8603 - val_loss: 0.3785 - val_acc: 0.8667\n",
      "Epoch 180/200\n",
      "6/6 [==============================] - 0s 7ms/step - loss: 0.4031 - acc: 0.8603 - val_loss: 0.3779 - val_acc: 0.8667\n",
      "Epoch 181/200\n",
      "6/6 [==============================] - 0s 9ms/step - loss: 0.4023 - acc: 0.8603 - val_loss: 0.3774 - val_acc: 0.8667\n",
      "Epoch 182/200\n",
      "6/6 [==============================] - 0s 6ms/step - loss: 0.4017 - acc: 0.8603 - val_loss: 0.3768 - val_acc: 0.8667\n",
      "Epoch 183/200\n",
      "6/6 [==============================] - 0s 6ms/step - loss: 0.4009 - acc: 0.8603 - val_loss: 0.3763 - val_acc: 0.8667\n",
      "Epoch 184/200\n",
      "6/6 [==============================] - 0s 7ms/step - loss: 0.4002 - acc: 0.8659 - val_loss: 0.3758 - val_acc: 0.8667\n",
      "Epoch 185/200\n",
      "6/6 [==============================] - 0s 6ms/step - loss: 0.3996 - acc: 0.8659 - val_loss: 0.3754 - val_acc: 0.8667\n",
      "Epoch 186/200\n",
      "6/6 [==============================] - 0s 7ms/step - loss: 0.3989 - acc: 0.8715 - val_loss: 0.3748 - val_acc: 0.8667\n",
      "Epoch 187/200\n",
      "6/6 [==============================] - 0s 7ms/step - loss: 0.3982 - acc: 0.8715 - val_loss: 0.3743 - val_acc: 0.8667\n",
      "Epoch 188/200\n",
      "6/6 [==============================] - 0s 7ms/step - loss: 0.3975 - acc: 0.8715 - val_loss: 0.3738 - val_acc: 0.8667\n",
      "Epoch 189/200\n",
      "6/6 [==============================] - 0s 6ms/step - loss: 0.3968 - acc: 0.8715 - val_loss: 0.3734 - val_acc: 0.8444\n",
      "Epoch 190/200\n",
      "6/6 [==============================] - 0s 6ms/step - loss: 0.3961 - acc: 0.8715 - val_loss: 0.3729 - val_acc: 0.8444\n",
      "Epoch 191/200\n",
      "6/6 [==============================] - 0s 8ms/step - loss: 0.3955 - acc: 0.8715 - val_loss: 0.3724 - val_acc: 0.8444\n",
      "Epoch 192/200\n",
      "6/6 [==============================] - 0s 6ms/step - loss: 0.3948 - acc: 0.8715 - val_loss: 0.3722 - val_acc: 0.8444\n",
      "Epoch 193/200\n",
      "6/6 [==============================] - 0s 6ms/step - loss: 0.3941 - acc: 0.8771 - val_loss: 0.3717 - val_acc: 0.8444\n",
      "Epoch 194/200\n",
      "6/6 [==============================] - 0s 7ms/step - loss: 0.3935 - acc: 0.8771 - val_loss: 0.3713 - val_acc: 0.8444\n",
      "Epoch 195/200\n",
      "6/6 [==============================] - 0s 8ms/step - loss: 0.3928 - acc: 0.8771 - val_loss: 0.3709 - val_acc: 0.8444\n",
      "Epoch 196/200\n",
      "6/6 [==============================] - 0s 6ms/step - loss: 0.3922 - acc: 0.8771 - val_loss: 0.3704 - val_acc: 0.8444\n",
      "Epoch 197/200\n",
      "6/6 [==============================] - 0s 6ms/step - loss: 0.3915 - acc: 0.8771 - val_loss: 0.3702 - val_acc: 0.8444\n",
      "Epoch 198/200\n",
      "6/6 [==============================] - 0s 7ms/step - loss: 0.3908 - acc: 0.8771 - val_loss: 0.3699 - val_acc: 0.8444\n",
      "Epoch 199/200\n",
      "6/6 [==============================] - 0s 8ms/step - loss: 0.3902 - acc: 0.8771 - val_loss: 0.3696 - val_acc: 0.8444\n",
      "Epoch 200/200\n",
      "6/6 [==============================] - 0s 7ms/step - loss: 0.3896 - acc: 0.8771 - val_loss: 0.3691 - val_acc: 0.8444\n"
     ]
    }
   ],
   "source": [
    "history = Model.fit(X_train, y_train, epochs = 200, validation_data = (X_test, y_test))"
   ]
  },
  {
   "cell_type": "code",
   "execution_count": 56,
   "metadata": {},
   "outputs": [
    {
     "data": {
      "image/png": "[encoded data removed]",
      "text/plain": [
       "<Figure size 432x288 with 1 Axes>"
      ]
     },
     "metadata": {
      "needs_background": "light"
     },
     "output_type": "display_data"
    },
    {
     "name": "stdout",
     "output_type": "stream",
     "text": [
      "Initial training accuracy with preprocessing is:  0.4804469347000122\n",
      "Final training accuracy with preprocessing is:  0.8770949840545654\n",
      "Initial training loss with preprocessing is:  0.7218502759933472\n",
      "Final training loss with preprocessing is:  0.38958966732025146\n"
     ]
    }
   ],
   "source": [
    "#Plotting model history\n",
    "plt.plot(history.history['acc'])\n",
    "plt.plot(history.history['loss'])\n",
    "plt.legend(['Training Accuracy', 'Training Loss'])\n",
    "plt.title('Training History')\n",
    "plt.ylabel('Value')\n",
    "plt.xlabel('epochs')\n",
    "plt.show()\n",
    "print(\"Initial training accuracy with preprocessing is: \", history.history['acc'][0])\n",
    "print(\"Final training accuracy with preprocessing is: \", history.history['acc'][-1])\n",
    "\n",
    "print(\"Initial training loss with preprocessing is: \", history.history['loss'][0])\n",
    "print(\"Final training loss with preprocessing is: \", history.history['loss'][-1])"
   ]
  },
  {
   "cell_type": "code",
   "execution_count": 57,
   "metadata": {},
   "outputs": [
    {
     "data": {
      "image/png": "[encoded data removed]",
      "text/plain": [
       "<Figure size 432x288 with 1 Axes>"
      ]
     },
     "metadata": {
      "needs_background": "light"
     },
     "output_type": "display_data"
    },
    {
     "name": "stdout",
     "output_type": "stream",
     "text": [
      "Initial Validation accuracy is:  0.5333333611488342\n",
      "Best Validation accuracy is:  0.8666666746139526\n",
      "Initial Validation loss is:  0.7011422514915466\n",
      "Best Validation loss is:  0.36911359429359436\n"
     ]
    }
   ],
   "source": [
    "#Plotting model history\n",
    "plt.plot(history.history['val_acc'])\n",
    "plt.plot(history.history['val_loss'])\n",
    "plt.legend(['Validation Accuracy', 'Validation Loss'])\n",
    "plt.title('Validation History')\n",
    "plt.ylabel('Value')\n",
    "plt.xlabel('epochs')\n",
    "plt.show()\n",
    "print(\"Initial Validation accuracy is: \", history.history['val_acc'][0])\n",
    "print(\"Best Validation accuracy is: \", max(history.history['val_acc']))\n",
    "\n",
    "print(\"Initial Validation loss is: \", history.history['val_loss'][0])\n",
    "print(\"Best Validation loss is: \", min(history.history['val_loss']))"
   ]
  },
  {
   "cell_type": "code",
   "execution_count": null,
   "metadata": {},
   "outputs": [],
   "source": []
  }
 ],
 "metadata": {
  "kernelspec": {
   "display_name": "Python 3 (ipykernel)",
   "language": "python",
   "name": "python3"
  },
  "language_info": {
   "codemirror_mode": {
    "name": "ipython",
    "version": 3
   },
   "file_extension": ".py",
   "mimetype": "text/x-python",
   "name": "python",
   "nbconvert_exporter": "python",
   "pygments_lexer": "ipython3",
   "version": "3.9.7"
  }
 },
 "nbformat": 4,
 "nbformat_minor": 4
}
