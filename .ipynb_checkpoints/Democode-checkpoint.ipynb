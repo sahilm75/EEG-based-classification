{
 "cells": [
  {
   "cell_type": "code",
   "execution_count": 1,
   "metadata": {},
   "outputs": [
    {
     "name": "stdout",
     "output_type": "stream",
     "text": [
      "0.23.0\n"
     ]
    }
   ],
   "source": [
    "import matplotlib\n",
    "import pathlib\n",
    "\n",
    "import mne\n",
    "print(mne.__version__)\n",
    "\n",
    "from scipy.io import loadmat, savemat\n",
    "from fracModel import fracOrdUU\n",
    "import os\n",
    "import numpy as np"
   ]
  },
  {
   "cell_type": "code",
   "execution_count": 2,
   "metadata": {},
   "outputs": [],
   "source": [
    "#To plot graphs using Qt console\n",
    "matplotlib.use('Qt5Agg')"
   ]
  },
  {
   "cell_type": "markdown",
   "metadata": {},
   "source": [
    "#### Loading EEG data"
   ]
  },
  {
   "cell_type": "code",
   "execution_count": 3,
   "metadata": {},
   "outputs": [],
   "source": [
    "#Locations\n",
    "location_al = \"data\\data_set_IVa_al_mat\\\\100Hz\\data_set_IVa_al.mat\"\n",
    "location_AdataL = \"data/AdataL.npz\""
   ]
  },
  {
   "cell_type": "code",
   "execution_count": 4,
   "metadata": {},
   "outputs": [],
   "source": [
    "mat = loadmat(location_al)"
   ]
  },
  {
   "cell_type": "code",
   "execution_count": 5,
   "metadata": {},
   "outputs": [],
   "source": [
    "sfreq = mat['nfo']['fs'][0][0][0][0]\n",
    "\n",
    "EEGdata = mat['cnt'].T\n",
    "EEGdata = 1e-1*EEGdata   #To convert to uV\n",
    "\n",
    "nchannels, nsamples = EEGdata.shape\n",
    "\n",
    "ch_names = [s[0] for s in mat['nfo']['clab'][0][0][0]]\n",
    "\n",
    "event_onsets = mat['mrk'][0][0][0]\n",
    "event_codes = mat['mrk'][0][0][1]\n",
    "\n",
    "labels = np.zeros((1, nsamples), int)\n",
    "labels[0, event_onsets] = event_codes\n",
    "\n",
    "cl_lab = [s[0] for s in mat['mrk']['className'][0][0][0]]\n",
    "cl1 = cl_lab[0]\n",
    "cl2 = cl_lab[1]\n",
    "\n",
    "xpos = mat['nfo']['xpos'][0][0]\n",
    "ypos = mat['nfo']['ypos'][0][0]\n",
    "\n",
    "nclasses = len(cl_lab)\n",
    "nevents = len(event_onsets.transpose())"
   ]
  },
  {
   "cell_type": "code",
   "execution_count": 6,
   "metadata": {},
   "outputs": [],
   "source": [
    "trials = {}\n",
    "\n",
    "win = np.arange(int(0*sfreq), int(3*sfreq))    # Epoch size of each trial (0 to 3 sec)\n",
    "nsamples = len(win)"
   ]
  },
  {
   "cell_type": "code",
   "execution_count": 7,
   "metadata": {},
   "outputs": [],
   "source": [
    "for cl, code in zip(cl_lab, np.unique(event_codes)):\n",
    "    cl_onsets = event_onsets[event_codes == code]\n",
    "    trials[cl] = np.zeros((nchannels, nsamples, len(cl_onsets)))\n",
    "    for i, onset in enumerate(cl_onsets):\n",
    "        trials[cl][:, :, i] = EEGdata[:, win+onset]"
   ]
  },
  {
   "cell_type": "code",
   "execution_count": 8,
   "metadata": {},
   "outputs": [],
   "source": [
    "right = np.rollaxis(trials[cl1], 2, 0)\n",
    "foot = np.rollaxis(trials[cl2], 2, 0)"
   ]
  },
  {
   "cell_type": "code",
   "execution_count": 9,
   "metadata": {},
   "outputs": [],
   "source": [
    "data = np.concatenate([right, foot])"
   ]
  },
  {
   "cell_type": "code",
   "execution_count": 10,
   "metadata": {},
   "outputs": [],
   "source": [
    "Y = np.concatenate([-np.ones(right.shape[0]), np.ones(foot.shape[0])])    # Labeling right as -1 and foot as 1"
   ]
  },
  {
   "cell_type": "code",
   "execution_count": 11,
   "metadata": {},
   "outputs": [],
   "source": [
    "# Converting to BIDS using mne\n",
    "n_channels = 118\n",
    "\n",
    "info = mne.create_info(\n",
    "ch_names = ch_names,\n",
    "ch_types = ['eeg']*nchannels,\n",
    "sfreq = sfreq)\n",
    "\n",
    "layout_pos = np.concatenate([xpos, ypos], axis = 1)\n",
    "\n",
    "layout = mne.channels.generate_2d_layout(\n",
    "xy = layout_pos,\n",
    "ch_names = ch_names,\n",
    "name = \"EEG custom layout\")"
   ]
  },
  {
   "cell_type": "code",
   "execution_count": 12,
   "metadata": {},
   "outputs": [],
   "source": [
    "event_id = dict(right = -1, foot = 1)\n",
    "\n",
    "eventLength = Y.shape[0]\n",
    "ev = [i*sfreq*3 for i in range(eventLength)]\n",
    "\n",
    "events = np.column_stack((np.array(ev, dtype = int),\n",
    "                         np.zeros(eventLength, dtype = int),\n",
    "                         np.array(Y, dtype = int)))"
   ]
  },
  {
   "cell_type": "code",
   "execution_count": 13,
   "metadata": {},
   "outputs": [
    {
     "name": "stdout",
     "output_type": "stream",
     "text": [
      "Not setting metadata\n",
      "Not setting metadata\n",
      "224 matching events found\n",
      "No baseline correction applied\n",
      "0 projection items activated\n",
      "0 bad epochs dropped\n"
     ]
    }
   ],
   "source": [
    "tmin = 0\n",
    "data = data*1e-6\n",
    "epochs = mne.EpochsArray(data, info, events, tmin, event_id)"
   ]
  },
  {
   "cell_type": "code",
   "execution_count": 14,
   "metadata": {},
   "outputs": [],
   "source": [
    "final_ch_list = [\"T7\", \"C5\", \"C3\", \"C1\", \"Cz\", \"C2\", \"C4\", \"C6\", \"T8\"] #Channels which affect motor controls the most"
   ]
  },
  {
   "cell_type": "code",
   "execution_count": 15,
   "metadata": {},
   "outputs": [],
   "source": [
    "epochs.plot(picks = final_ch_list);"
   ]
  },
  {
   "cell_type": "code",
   "execution_count": 16,
   "metadata": {},
   "outputs": [
    {
     "data": {
      "text/plain": [
       "(224, 9, 300)"
      ]
     },
     "execution_count": 16,
     "metadata": {},
     "output_type": "execute_result"
    }
   ],
   "source": [
    "edata = epochs.get_data(picks = final_ch_list)\n",
    "edata = edata*1e6\n",
    "edata.shape"
   ]
  },
  {
   "cell_type": "code",
   "execution_count": 17,
   "metadata": {},
   "outputs": [
    {
     "data": {
      "text/plain": [
       "array([[-45.9, -45.4, -45.6, ..., -74.8, -80.5, -82.8],\n",
       "       [  6.8,   9. ,   8.2, ..., -18.1, -24.7, -26.2],\n",
       "       [-27.7, -24.7, -23.9, ..., -63.5, -67.5, -68.7],\n",
       "       ...,\n",
       "       [  9.8,   2.9,   5.1, ..., -26.5, -23. , -21.4],\n",
       "       [ 13.1,   2.8,   5.7, ...,   0.8,   6.5,   8.1],\n",
       "       [-34.4, -47.7, -44.6, ..., -18.4, -13.5, -12.7]])"
      ]
     },
     "execution_count": 17,
     "metadata": {},
     "output_type": "execute_result"
    }
   ],
   "source": [
    "edata[0]"
   ]
  },
  {
   "cell_type": "code",
   "execution_count": 18,
   "metadata": {},
   "outputs": [
    {
     "data": {
      "text/plain": [
       "(224,)"
      ]
     },
     "execution_count": 18,
     "metadata": {},
     "output_type": "execute_result"
    }
   ],
   "source": [
    "Y.shape"
   ]
  },
  {
   "cell_type": "markdown",
   "metadata": {},
   "source": [
    "#### Parameterization"
   ]
  },
  {
   "cell_type": "code",
   "execution_count": 19,
   "metadata": {},
   "outputs": [],
   "source": [
    "def get_laplace_A(X):\n",
    "    \n",
    "    meanX = np.mean(X, axis=1)\n",
    "    X = X.T - meanX\n",
    "    X = X.T\n",
    "    fModel = fracOrdUU(verbose=1)\n",
    "    fModel.fit(X, 1)\n",
    "    \n",
    "    return fModel._AMat[-1]\n",
    "\n",
    "def get_gaussian_A(X):\n",
    "    \n",
    "    meanX = np.mean(X, axis=1)\n",
    "    X = X.T - meanX\n",
    "    X = X.T\n",
    "    fModel = fracOrdUU(verbose=1)\n",
    "    fModel.fit(X, 2)\n",
    "    \n",
    "    return fModel._AMat[-1]"
   ]
  },
  {
   "cell_type": "code",
   "execution_count": 20,
   "metadata": {
    "scrolled": true
   },
   "outputs": [],
   "source": [
    "# To get A with Laplacian prior (Takes 30+ min)\n",
    "# Adata = np.stack([get_laplacian_A(x) for x in edata])\n",
    "\n",
    "# To get A with Gaussian prior\n",
    "# Adata = np.stack([get_gaussian_A(x) for x in edata])\n",
    "\n",
    "# Since it takes so long to load it with a Laplacian prior, we have already cached it in data\n",
    "# Adata = np.load(location_AdataL)[\"Adata\"]\n",
    "# Y = np.load(location_AdataL)[\"Y\"]"
   ]
  },
  {
   "cell_type": "code",
   "execution_count": 21,
   "metadata": {},
   "outputs": [
    {
     "name": "stdout",
     "output_type": "stream",
     "text": [
      "Dropped 0 epochs: \n",
      "Channels marked as bad: none\n"
     ]
    }
   ],
   "source": [
    "# If you wish to save your data\n",
    "# np.savez('data/Adata.npz', Adata = Adata, Y = Y)"
   ]
  },
  {
   "cell_type": "markdown",
   "metadata": {},
   "source": [
    "#### Feature extraction"
   ]
  },
  {
   "cell_type": "code",
   "execution_count": 22,
   "metadata": {},
   "outputs": [],
   "source": [
    "# If you are loading from a saved location\n",
    "# Adata = np.load(\"data/AdataL.npz\")[\"Adata\"]\n",
    "# Y = np.load(\"data/AdataL.npz\")[\"Y\"]"
   ]
  },
  {
   "cell_type": "code",
   "execution_count": 23,
   "metadata": {},
   "outputs": [],
   "source": [
    "import matplotlib.pyplot as plt\n",
    "%matplotlib inline"
   ]
  },
  {
   "cell_type": "code",
   "execution_count": 24,
   "metadata": {},
   "outputs": [
    {
     "name": "stdout",
     "output_type": "stream",
     "text": [
      "112\n"
     ]
    }
   ],
   "source": [
    "print(np.sum(Y<0)) #Checking number of \"right\" events"
   ]
  },
  {
   "cell_type": "code",
   "execution_count": 25,
   "metadata": {},
   "outputs": [],
   "source": [
    "ARight = np.average(Adata[0:112], axis = 0)\n",
    "AFoot = np.average(Adata[112:], axis = 0)"
   ]
  },
  {
   "cell_type": "code",
   "execution_count": 26,
   "metadata": {},
   "outputs": [
    {
     "data": {
      "text/plain": [
       "<matplotlib.colorbar.Colorbar at 0x2aeadb4c148>"
      ]
     },
     "execution_count": 26,
     "metadata": {},
     "output_type": "execute_result"
    },
    {
     "data": {
      "image/png": "[encoded data removed]",
      "text/plain": [
       "<Figure size 432x288 with 2 Axes>"
      ]
     },
     "metadata": {
      "needs_background": "light"
     },
     "output_type": "display_data"
    }
   ],
   "source": [
    "fig = plt.figure()\n",
    "f = plt.pcolormesh(ARight, vmin=-0.3, vmax=0.3)\n",
    "plt.colorbar(f)"
   ]
  },
  {
   "cell_type": "code",
   "execution_count": 27,
   "metadata": {},
   "outputs": [
    {
     "data": {
      "text/plain": [
       "<matplotlib.colorbar.Colorbar at 0x2aea887e088>"
      ]
     },
     "execution_count": 27,
     "metadata": {},
     "output_type": "execute_result"
    },
    {
     "data": {
      "image/png": "[encoded data removed]",
      "text/plain": [
       "<Figure size 432x288 with 2 Axes>"
      ]
     },
     "metadata": {
      "needs_background": "light"
     },
     "output_type": "display_data"
    }
   ],
   "source": [
    "fig = plt.figure()\n",
    "f = plt.pcolormesh(AFoot, vmin=-0.3, vmax=0.3)\n",
    "plt.colorbar(f)"
   ]
  },
  {
   "cell_type": "markdown",
   "metadata": {},
   "source": [
    "## Applying ML"
   ]
  },
  {
   "cell_type": "code",
   "execution_count": 28,
   "metadata": {},
   "outputs": [],
   "source": [
    "X = np.stack([np.concatenate([a[:, 1], a[:, 3]]) for a in Adata])"
   ]
  },
  {
   "cell_type": "code",
   "execution_count": 29,
   "metadata": {},
   "outputs": [
    {
     "data": {
      "text/plain": [
       "(224, 18)"
      ]
     },
     "execution_count": 29,
     "metadata": {},
     "output_type": "execute_result"
    }
   ],
   "source": [
    "X.shape"
   ]
  },
  {
   "cell_type": "code",
   "execution_count": 30,
   "metadata": {},
   "outputs": [],
   "source": [
    "import pandas as pd\n",
    "from sklearn.model_selection import train_test_split\n",
    "X_train, X_test, y_train, y_test = train_test_split(X, Y, test_size = 0.2, random_state = 0)"
   ]
  },
  {
   "cell_type": "markdown",
   "metadata": {},
   "source": [
    "#### Logistic Regression"
   ]
  },
  {
   "cell_type": "code",
   "execution_count": 31,
   "metadata": {},
   "outputs": [
    {
     "data": {
      "text/plain": [
       "LogisticRegression(C=1.0, class_weight=None, dual=False, fit_intercept=True,\n",
       "                   intercept_scaling=1, l1_ratio=None, max_iter=100,\n",
       "                   multi_class='auto', n_jobs=None, penalty='l2',\n",
       "                   random_state=0, solver='lbfgs', tol=0.0001, verbose=0,\n",
       "                   warm_start=False)"
      ]
     },
     "execution_count": 31,
     "metadata": {},
     "output_type": "execute_result"
    }
   ],
   "source": [
    "from sklearn.linear_model import LogisticRegression\n",
    "Logclassifier = LogisticRegression(random_state = 0)\n",
    "Logclassifier.fit(X_train, y_train)"
   ]
  },
  {
   "cell_type": "code",
   "execution_count": 32,
   "metadata": {},
   "outputs": [],
   "source": [
    "y_pred_log = Logclassifier.predict(X_test)"
   ]
  },
  {
   "cell_type": "code",
   "execution_count": 33,
   "metadata": {},
   "outputs": [
    {
     "name": "stdout",
     "output_type": "stream",
     "text": [
      "[[19  3]\n",
      " [ 1 22]]\n"
     ]
    }
   ],
   "source": [
    "from sklearn.metrics import confusion_matrix\n",
    "cm = confusion_matrix(y_test, y_pred_log)\n",
    "print(cm)"
   ]
  },
  {
   "cell_type": "code",
   "execution_count": 34,
   "metadata": {},
   "outputs": [
    {
     "name": "stdout",
     "output_type": "stream",
     "text": [
      "Accuracy: 89.90 %\n",
      "Standard Deviation: 7.87 %\n"
     ]
    }
   ],
   "source": [
    "from sklearn.model_selection import cross_val_score\n",
    "accuracies = cross_val_score(estimator = Logclassifier, X = X_train, y = y_train, cv = 10)\n",
    "print(\"Accuracy: {:.2f} %\".format(accuracies.mean()*100))\n",
    "print(\"Standard Deviation: {:.2f} %\".format(accuracies.std()*100))"
   ]
  },
  {
   "cell_type": "markdown",
   "metadata": {},
   "source": [
    "#### Kernal SVM"
   ]
  },
  {
   "cell_type": "code",
   "execution_count": 35,
   "metadata": {},
   "outputs": [
    {
     "data": {
      "text/plain": [
       "SVC(C=1.0, break_ties=False, cache_size=200, class_weight=None, coef0=0.0,\n",
       "    decision_function_shape='ovr', degree=3, gamma='scale', kernel='rbf',\n",
       "    max_iter=-1, probability=False, random_state=0, shrinking=True, tol=0.001,\n",
       "    verbose=False)"
      ]
     },
     "execution_count": 35,
     "metadata": {},
     "output_type": "execute_result"
    }
   ],
   "source": [
    "from sklearn.svm import SVC\n",
    "SVCclassifier = SVC(kernel = 'rbf', random_state = 0)\n",
    "SVCclassifier.fit(X_train, y_train)"
   ]
  },
  {
   "cell_type": "code",
   "execution_count": 36,
   "metadata": {},
   "outputs": [],
   "source": [
    "y_pred_SVC = SVCclassifier.predict(X_test)"
   ]
  },
  {
   "cell_type": "code",
   "execution_count": 37,
   "metadata": {},
   "outputs": [
    {
     "name": "stdout",
     "output_type": "stream",
     "text": [
      "[[19  3]\n",
      " [ 2 21]]\n"
     ]
    },
    {
     "data": {
      "text/plain": [
       "0.8888888888888888"
      ]
     },
     "execution_count": 37,
     "metadata": {},
     "output_type": "execute_result"
    }
   ],
   "source": [
    "from sklearn.metrics import confusion_matrix, accuracy_score\n",
    "cm = confusion_matrix(y_test, y_pred_SVC)\n",
    "print(cm)\n",
    "accuracy_score(y_test, y_pred_SVC)"
   ]
  },
  {
   "cell_type": "markdown",
   "metadata": {},
   "source": [
    "#### Random Forest"
   ]
  },
  {
   "cell_type": "code",
   "execution_count": 38,
   "metadata": {},
   "outputs": [
    {
     "data": {
      "text/plain": [
       "RandomForestClassifier(bootstrap=True, ccp_alpha=0.0, class_weight=None,\n",
       "                       criterion='entropy', max_depth=None, max_features='auto',\n",
       "                       max_leaf_nodes=None, max_samples=None,\n",
       "                       min_impurity_decrease=0.0, min_impurity_split=None,\n",
       "                       min_samples_leaf=1, min_samples_split=2,\n",
       "                       min_weight_fraction_leaf=0.0, n_estimators=10,\n",
       "                       n_jobs=None, oob_score=False, random_state=0, verbose=0,\n",
       "                       warm_start=False)"
      ]
     },
     "execution_count": 38,
     "metadata": {},
     "output_type": "execute_result"
    }
   ],
   "source": [
    "from sklearn.ensemble import RandomForestClassifier\n",
    "RFclassifier = RandomForestClassifier(n_estimators = 10, criterion = 'entropy', random_state = 0)\n",
    "RFclassifier.fit(X_train, y_train)"
   ]
  },
  {
   "cell_type": "code",
   "execution_count": 39,
   "metadata": {},
   "outputs": [],
   "source": [
    "y_pred_RF = RFclassifier.predict(X_test)"
   ]
  },
  {
   "cell_type": "code",
   "execution_count": 40,
   "metadata": {},
   "outputs": [
    {
     "name": "stdout",
     "output_type": "stream",
     "text": [
      "[[19  3]\n",
      " [ 2 21]]\n"
     ]
    },
    {
     "data": {
      "text/plain": [
       "0.8888888888888888"
      ]
     },
     "execution_count": 40,
     "metadata": {},
     "output_type": "execute_result"
    }
   ],
   "source": [
    "from sklearn.metrics import confusion_matrix, accuracy_score\n",
    "cm = confusion_matrix(y_test, y_pred_RF)\n",
    "print(cm)\n",
    "accuracy_score(y_test, y_pred_RF)"
   ]
  },
  {
   "cell_type": "markdown",
   "metadata": {},
   "source": [
    "#### KNN"
   ]
  },
  {
   "cell_type": "code",
   "execution_count": 41,
   "metadata": {},
   "outputs": [
    {
     "data": {
      "text/plain": [
       "KNeighborsClassifier(algorithm='auto', leaf_size=30, metric='minkowski',\n",
       "                     metric_params=None, n_jobs=None, n_neighbors=5, p=2,\n",
       "                     weights='uniform')"
      ]
     },
     "execution_count": 41,
     "metadata": {},
     "output_type": "execute_result"
    }
   ],
   "source": [
    "from sklearn.neighbors import KNeighborsClassifier\n",
    "KNNclassifier = KNeighborsClassifier(n_neighbors = 5, metric = 'minkowski', p = 2)\n",
    "KNNclassifier.fit(X_train, y_train)"
   ]
  },
  {
   "cell_type": "code",
   "execution_count": 42,
   "metadata": {},
   "outputs": [],
   "source": [
    "y_pred_KNN = KNNclassifier.predict(X_test)"
   ]
  },
  {
   "cell_type": "code",
   "execution_count": 43,
   "metadata": {},
   "outputs": [
    {
     "name": "stdout",
     "output_type": "stream",
     "text": [
      "[[19  3]\n",
      " [ 3 20]]\n"
     ]
    },
    {
     "data": {
      "text/plain": [
       "0.8666666666666667"
      ]
     },
     "execution_count": 43,
     "metadata": {},
     "output_type": "execute_result"
    }
   ],
   "source": [
    "from sklearn.metrics import confusion_matrix, accuracy_score\n",
    "cm = confusion_matrix(y_test, y_pred_KNN)\n",
    "print(cm)\n",
    "accuracy_score(y_test, y_pred_KNN)"
   ]
  },
  {
   "cell_type": "markdown",
   "metadata": {},
   "source": [
    "#### Naive Bayes"
   ]
  },
  {
   "cell_type": "code",
   "execution_count": 44,
   "metadata": {},
   "outputs": [
    {
     "data": {
      "text/plain": [
       "GaussianNB(priors=None, var_smoothing=1e-09)"
      ]
     },
     "execution_count": 44,
     "metadata": {},
     "output_type": "execute_result"
    }
   ],
   "source": [
    "from sklearn.naive_bayes import GaussianNB\n",
    "NBclassifier = GaussianNB()\n",
    "NBclassifier.fit(X_train, y_train)"
   ]
  },
  {
   "cell_type": "code",
   "execution_count": 45,
   "metadata": {},
   "outputs": [],
   "source": [
    "y_pred_NB = NBclassifier.predict(X_test)"
   ]
  },
  {
   "cell_type": "code",
   "execution_count": 46,
   "metadata": {},
   "outputs": [
    {
     "name": "stdout",
     "output_type": "stream",
     "text": [
      "[[20  2]\n",
      " [ 3 20]]\n"
     ]
    },
    {
     "data": {
      "text/plain": [
       "0.8888888888888888"
      ]
     },
     "execution_count": 46,
     "metadata": {},
     "output_type": "execute_result"
    }
   ],
   "source": [
    "from sklearn.metrics import confusion_matrix, accuracy_score\n",
    "cm = confusion_matrix(y_test, y_pred_NB)\n",
    "print(cm)\n",
    "accuracy_score(y_test, y_pred_NB)"
   ]
  },
  {
   "cell_type": "code",
   "execution_count": 47,
   "metadata": {},
   "outputs": [],
   "source": [
    "from sklearn.metrics import roc_curve, auc"
   ]
  },
  {
   "cell_type": "code",
   "execution_count": 48,
   "metadata": {},
   "outputs": [
    {
     "data": {
      "image/png": "[encoded data removed]",
      "text/plain": [
       "<Figure size 432x288 with 1 Axes>"
      ]
     },
     "metadata": {
      "needs_background": "light"
     },
     "output_type": "display_data"
    }
   ],
   "source": [
    "log_fpr, log_tpr, threshold = roc_curve(y_test, y_pred_log)\n",
    "auc_log = auc(log_fpr, log_tpr)\n",
    "SVC_fpr, SVC_tpr, threshold = roc_curve(y_test, y_pred_SVC)\n",
    "auc_SVC = auc(SVC_fpr, SVC_tpr)\n",
    "RF_fpr, RF_tpr, threshold = roc_curve(y_test, y_pred_RF)\n",
    "auc_RF = auc(RF_fpr, RF_tpr)\n",
    "KNN_fpr, KNN_tpr, threshold = roc_curve(y_test, y_pred_KNN)\n",
    "auc_KNN = auc(KNN_fpr, KNN_tpr)\n",
    "NB_fpr, NB_tpr, threshold = roc_curve(y_test, y_pred_NB)\n",
    "auc_NB = auc(NB_fpr, NB_tpr)\n",
    "\n",
    "plt.figure()\n",
    "plt.plot(SVC_fpr, SVC_tpr, linestyle = '-', label = \"Suport Vector Machine (auc = %0.3f)\"%auc_SVC)\n",
    "plt.plot(log_fpr, log_tpr, linestyle = '-', label = \"Logarithimic regression (auc = %0.3f)\"%auc_log)\n",
    "plt.plot(RF_fpr, RF_tpr, linestyle = '-', label = \"Random Forest (auc = %0.3f)\"%auc_RF)\n",
    "#plt.plot(KNN_fpr, KNN_tpr, linestyle = '-', label = \"K-Nearest Neighbors (auc = %0.3f)\"%auc_KNN)\n",
    "plt.plot(NB_fpr, NB_tpr, linestyle = '-', label = \"Naive Bayes (auc = %0.3f)\"%auc_NB)\n",
    "\n",
    "plt.xlabel(\"False Postive Rate\")\n",
    "plt.ylabel(\"True Positive Rate\")\n",
    "\n",
    "plt.legend()\n",
    "plt.show()"
   ]
  },
  {
   "cell_type": "markdown",
   "metadata": {},
   "source": [
    "#### MLP"
   ]
  },
  {
   "cell_type": "code",
   "execution_count": 49,
   "metadata": {},
   "outputs": [],
   "source": [
    "import tensorflow as tf\n",
    "from tensorflow.keras.models import Model\n",
    "from tensorflow.keras.layers import Dense"
   ]
  },
  {
   "cell_type": "code",
   "execution_count": 50,
   "metadata": {},
   "outputs": [],
   "source": [
    "dict = {-1: 0,1: 1}\n",
    "\n",
    "for i in range(len(y_train)):\n",
    "    y_train[i] = dict[y_train[i]]\n",
    "    \n",
    "num_classes = 2\n",
    "y_train = tf.keras.utils.to_categorical(y_train, num_classes)"
   ]
  },
  {
   "cell_type": "code",
   "execution_count": 51,
   "metadata": {},
   "outputs": [],
   "source": [
    "for i in range(len(y_test)):\n",
    "    y_test[i] = dict[y_test[i]]\n",
    "    \n",
    "num_classes = 2\n",
    "y_test = tf.keras.utils.to_categorical(y_test, num_classes)"
   ]
  },
  {
   "cell_type": "code",
   "execution_count": 52,
   "metadata": {},
   "outputs": [
    {
     "name": "stdout",
     "output_type": "stream",
     "text": [
      "Model: \"model\"\n",
      "_________________________________________________________________\n",
      "Layer (type)                 Output Shape              Param #   \n",
      "=================================================================\n",
      "input_1 (InputLayer)         [(None, 18)]              0         \n",
      "_________________________________________________________________\n",
      "dense_4 (Dense)              (None, 2)                 38        \n",
      "=================================================================\n",
      "Total params: 38\n",
      "Trainable params: 38\n",
      "Non-trainable params: 0\n",
      "_________________________________________________________________\n"
     ]
    }
   ],
   "source": [
    "ip = tf.keras.Input(shape = 18)\n",
    "dense1 = tf.keras.layers.Dense(units = 32, activation = \"relu\")(ip)\n",
    "dense2 = tf.keras.layers.Dense(units = 32, activation = \"relu\")(dense1)\n",
    "dense3 = tf.keras.layers.Dense(units = 16, activation = \"relu\")(dense2)\n",
    "dense4 = tf.keras.layers.Dense(units = 8, activation = \"relu\")(dense3)\n",
    "dense4 = tf.keras.layers.Dense(units = 2, activation = \"sigmoid\")(ip)\n",
    "\n",
    "Model = tf.keras.models.Model(inputs = ip, outputs = dense4)\n",
    "Model.summary()"
   ]
  },
  {
   "cell_type": "code",
   "execution_count": 53,
   "metadata": {},
   "outputs": [],
   "source": [
    "Model.compile(loss = 'binary_crossentropy', metrics = ['acc'], optimizer = 'adam')"
   ]
  },
  {
   "cell_type": "code",
   "execution_count": 54,
   "metadata": {
    "scrolled": true
   },
   "outputs": [
    {
     "name": "stdout",
     "output_type": "stream",
     "text": [
      "Epoch 1/200\n",
      "6/6 [==============================] - 0s 34ms/step - loss: 0.6672 - acc: 0.6536 - val_loss: 0.6541 - val_acc: 0.7111\n",
      "Epoch 2/200\n",
      "6/6 [==============================] - 0s 4ms/step - loss: 0.6616 - acc: 0.6648 - val_loss: 0.6477 - val_acc: 0.7333\n",
      "Epoch 3/200\n",
      "6/6 [==============================] - 0s 5ms/step - loss: 0.6562 - acc: 0.6816 - val_loss: 0.6414 - val_acc: 0.7333\n",
      "Epoch 4/200\n",
      "6/6 [==============================] - 0s 5ms/step - loss: 0.6512 - acc: 0.7095 - val_loss: 0.6352 - val_acc: 0.7333\n",
      "Epoch 5/200\n",
      "6/6 [==============================] - 0s 5ms/step - loss: 0.6463 - acc: 0.7207 - val_loss: 0.6292 - val_acc: 0.7333\n",
      "Epoch 6/200\n",
      "6/6 [==============================] - 0s 5ms/step - loss: 0.6413 - acc: 0.7207 - val_loss: 0.6235 - val_acc: 0.7556\n",
      "Epoch 7/200\n",
      "6/6 [==============================] - 0s 5ms/step - loss: 0.6368 - acc: 0.7486 - val_loss: 0.6177 - val_acc: 0.7556\n",
      "Epoch 8/200\n",
      "6/6 [==============================] - 0s 6ms/step - loss: 0.6320 - acc: 0.7598 - val_loss: 0.6121 - val_acc: 0.7556\n",
      "Epoch 9/200\n",
      "6/6 [==============================] - 0s 5ms/step - loss: 0.6278 - acc: 0.7654 - val_loss: 0.6064 - val_acc: 0.7556\n",
      "Epoch 10/200\n",
      "6/6 [==============================] - 0s 6ms/step - loss: 0.6233 - acc: 0.7709 - val_loss: 0.6010 - val_acc: 0.7556\n",
      "Epoch 11/200\n",
      "6/6 [==============================] - 0s 5ms/step - loss: 0.6189 - acc: 0.7709 - val_loss: 0.5962 - val_acc: 0.7556\n",
      "Epoch 12/200\n",
      "6/6 [==============================] - 0s 5ms/step - loss: 0.6148 - acc: 0.7765 - val_loss: 0.5914 - val_acc: 0.7778\n",
      "Epoch 13/200\n",
      "6/6 [==============================] - 0s 5ms/step - loss: 0.6108 - acc: 0.7765 - val_loss: 0.5864 - val_acc: 0.7778\n",
      "Epoch 14/200\n",
      "6/6 [==============================] - 0s 5ms/step - loss: 0.6071 - acc: 0.7821 - val_loss: 0.5816 - val_acc: 0.7778\n",
      "Epoch 15/200\n",
      "6/6 [==============================] - 0s 6ms/step - loss: 0.6031 - acc: 0.7877 - val_loss: 0.5772 - val_acc: 0.7778\n",
      "Epoch 16/200\n",
      "6/6 [==============================] - 0s 6ms/step - loss: 0.5995 - acc: 0.7877 - val_loss: 0.5728 - val_acc: 0.7778\n",
      "Epoch 17/200\n",
      "6/6 [==============================] - 0s 6ms/step - loss: 0.5959 - acc: 0.7821 - val_loss: 0.5684 - val_acc: 0.8000\n",
      "Epoch 18/200\n",
      "6/6 [==============================] - 0s 5ms/step - loss: 0.5921 - acc: 0.7765 - val_loss: 0.5644 - val_acc: 0.8000\n",
      "Epoch 19/200\n",
      "6/6 [==============================] - 0s 5ms/step - loss: 0.5890 - acc: 0.7709 - val_loss: 0.5602 - val_acc: 0.8222\n",
      "Epoch 20/200\n",
      "6/6 [==============================] - 0s 5ms/step - loss: 0.5853 - acc: 0.7765 - val_loss: 0.5565 - val_acc: 0.8222\n",
      "Epoch 21/200\n",
      "6/6 [==============================] - 0s 5ms/step - loss: 0.5822 - acc: 0.7765 - val_loss: 0.5528 - val_acc: 0.8444\n",
      "Epoch 22/200\n",
      "6/6 [==============================] - 0s 5ms/step - loss: 0.5791 - acc: 0.7821 - val_loss: 0.5488 - val_acc: 0.8444\n",
      "Epoch 23/200\n",
      "6/6 [==============================] - 0s 5ms/step - loss: 0.5758 - acc: 0.7877 - val_loss: 0.5453 - val_acc: 0.8444\n",
      "Epoch 24/200\n",
      "6/6 [==============================] - 0s 5ms/step - loss: 0.5730 - acc: 0.7877 - val_loss: 0.5414 - val_acc: 0.8444\n",
      "Epoch 25/200\n",
      "6/6 [==============================] - 0s 5ms/step - loss: 0.5698 - acc: 0.7989 - val_loss: 0.5378 - val_acc: 0.8444\n",
      "Epoch 26/200\n",
      "6/6 [==============================] - 0s 5ms/step - loss: 0.5668 - acc: 0.7989 - val_loss: 0.5344 - val_acc: 0.8667\n",
      "Epoch 27/200\n",
      "6/6 [==============================] - 0s 5ms/step - loss: 0.5639 - acc: 0.7989 - val_loss: 0.5311 - val_acc: 0.8667\n",
      "Epoch 28/200\n",
      "6/6 [==============================] - 0s 5ms/step - loss: 0.5611 - acc: 0.7933 - val_loss: 0.5278 - val_acc: 0.8667\n",
      "Epoch 29/200\n",
      "6/6 [==============================] - 0s 5ms/step - loss: 0.5584 - acc: 0.7989 - val_loss: 0.5247 - val_acc: 0.8667\n",
      "Epoch 30/200\n",
      "6/6 [==============================] - 0s 5ms/step - loss: 0.5557 - acc: 0.8045 - val_loss: 0.5216 - val_acc: 0.8667\n",
      "Epoch 31/200\n",
      "6/6 [==============================] - 0s 5ms/step - loss: 0.5531 - acc: 0.8045 - val_loss: 0.5186 - val_acc: 0.8667\n",
      "Epoch 32/200\n",
      "6/6 [==============================] - 0s 6ms/step - loss: 0.5505 - acc: 0.8045 - val_loss: 0.5158 - val_acc: 0.8667\n",
      "Epoch 33/200\n",
      "6/6 [==============================] - 0s 4ms/step - loss: 0.5480 - acc: 0.8045 - val_loss: 0.5132 - val_acc: 0.8667\n",
      "Epoch 34/200\n",
      "6/6 [==============================] - 0s 4ms/step - loss: 0.5455 - acc: 0.8045 - val_loss: 0.5105 - val_acc: 0.8667\n",
      "Epoch 35/200\n",
      "6/6 [==============================] - 0s 5ms/step - loss: 0.5431 - acc: 0.8045 - val_loss: 0.5079 - val_acc: 0.8444\n",
      "Epoch 36/200\n",
      "6/6 [==============================] - 0s 5ms/step - loss: 0.5408 - acc: 0.8045 - val_loss: 0.5053 - val_acc: 0.8667\n",
      "Epoch 37/200\n",
      "6/6 [==============================] - 0s 6ms/step - loss: 0.5384 - acc: 0.8045 - val_loss: 0.5026 - val_acc: 0.8667\n",
      "Epoch 38/200\n",
      "6/6 [==============================] - 0s 5ms/step - loss: 0.5361 - acc: 0.8101 - val_loss: 0.5002 - val_acc: 0.8667\n",
      "Epoch 39/200\n",
      "6/6 [==============================] - 0s 5ms/step - loss: 0.5339 - acc: 0.8101 - val_loss: 0.4975 - val_acc: 0.8667\n",
      "Epoch 40/200\n",
      "6/6 [==============================] - 0s 6ms/step - loss: 0.5316 - acc: 0.8101 - val_loss: 0.4950 - val_acc: 0.8667\n",
      "Epoch 41/200\n",
      "6/6 [==============================] - 0s 6ms/step - loss: 0.5294 - acc: 0.8101 - val_loss: 0.4927 - val_acc: 0.8667\n",
      "Epoch 42/200\n",
      "6/6 [==============================] - 0s 6ms/step - loss: 0.5274 - acc: 0.8101 - val_loss: 0.4903 - val_acc: 0.8667\n",
      "Epoch 43/200\n",
      "6/6 [==============================] - 0s 4ms/step - loss: 0.5252 - acc: 0.8101 - val_loss: 0.4880 - val_acc: 0.8667\n",
      "Epoch 44/200\n",
      "6/6 [==============================] - 0s 5ms/step - loss: 0.5231 - acc: 0.8101 - val_loss: 0.4858 - val_acc: 0.8667\n",
      "Epoch 45/200\n",
      "6/6 [==============================] - 0s 6ms/step - loss: 0.5211 - acc: 0.8101 - val_loss: 0.4836 - val_acc: 0.8889\n",
      "Epoch 46/200\n",
      "6/6 [==============================] - 0s 4ms/step - loss: 0.5191 - acc: 0.8156 - val_loss: 0.4814 - val_acc: 0.8889\n",
      "Epoch 47/200\n",
      "6/6 [==============================] - 0s 5ms/step - loss: 0.5172 - acc: 0.8268 - val_loss: 0.4792 - val_acc: 0.8889\n",
      "Epoch 48/200\n",
      "6/6 [==============================] - 0s 5ms/step - loss: 0.5152 - acc: 0.8268 - val_loss: 0.4772 - val_acc: 0.8889\n",
      "Epoch 49/200\n",
      "6/6 [==============================] - 0s 5ms/step - loss: 0.5133 - acc: 0.8268 - val_loss: 0.4754 - val_acc: 0.8889\n",
      "Epoch 50/200\n",
      "6/6 [==============================] - 0s 5ms/step - loss: 0.5115 - acc: 0.8268 - val_loss: 0.4737 - val_acc: 0.8889\n",
      "Epoch 51/200\n",
      "6/6 [==============================] - 0s 5ms/step - loss: 0.5096 - acc: 0.8268 - val_loss: 0.4718 - val_acc: 0.8889\n",
      "Epoch 52/200\n",
      "6/6 [==============================] - 0s 5ms/step - loss: 0.5078 - acc: 0.8268 - val_loss: 0.4699 - val_acc: 0.8889\n",
      "Epoch 53/200\n",
      "6/6 [==============================] - 0s 4ms/step - loss: 0.5060 - acc: 0.8324 - val_loss: 0.4682 - val_acc: 0.8889\n",
      "Epoch 54/200\n",
      "6/6 [==============================] - 0s 5ms/step - loss: 0.5042 - acc: 0.8380 - val_loss: 0.4664 - val_acc: 0.8889\n",
      "Epoch 55/200\n",
      "6/6 [==============================] - 0s 5ms/step - loss: 0.5025 - acc: 0.8436 - val_loss: 0.4647 - val_acc: 0.8889\n",
      "Epoch 56/200\n",
      "6/6 [==============================] - 0s 5ms/step - loss: 0.5008 - acc: 0.8492 - val_loss: 0.4629 - val_acc: 0.8889\n",
      "Epoch 57/200\n",
      "6/6 [==============================] - 0s 5ms/step - loss: 0.4991 - acc: 0.8492 - val_loss: 0.4613 - val_acc: 0.8889\n",
      "Epoch 58/200\n",
      "6/6 [==============================] - 0s 5ms/step - loss: 0.4974 - acc: 0.8492 - val_loss: 0.4596 - val_acc: 0.8889\n",
      "Epoch 59/200\n",
      "6/6 [==============================] - 0s 5ms/step - loss: 0.4958 - acc: 0.8492 - val_loss: 0.4578 - val_acc: 0.8889\n",
      "Epoch 60/200\n",
      "6/6 [==============================] - 0s 5ms/step - loss: 0.4941 - acc: 0.8492 - val_loss: 0.4561 - val_acc: 0.9111\n",
      "Epoch 61/200\n",
      "6/6 [==============================] - 0s 5ms/step - loss: 0.4924 - acc: 0.8492 - val_loss: 0.4546 - val_acc: 0.9111\n",
      "Epoch 62/200\n",
      "6/6 [==============================] - 0s 5ms/step - loss: 0.4908 - acc: 0.8547 - val_loss: 0.4530 - val_acc: 0.9111\n",
      "Epoch 63/200\n",
      "6/6 [==============================] - 0s 5ms/step - loss: 0.4892 - acc: 0.8547 - val_loss: 0.4514 - val_acc: 0.9111\n",
      "Epoch 64/200\n",
      "6/6 [==============================] - 0s 5ms/step - loss: 0.4877 - acc: 0.8547 - val_loss: 0.4497 - val_acc: 0.9111\n",
      "Epoch 65/200\n",
      "6/6 [==============================] - 0s 5ms/step - loss: 0.4861 - acc: 0.8547 - val_loss: 0.4482 - val_acc: 0.9111\n",
      "Epoch 66/200\n",
      "6/6 [==============================] - 0s 5ms/step - loss: 0.4846 - acc: 0.8547 - val_loss: 0.4468 - val_acc: 0.9111\n",
      "Epoch 67/200\n",
      "6/6 [==============================] - 0s 5ms/step - loss: 0.4831 - acc: 0.8547 - val_loss: 0.4452 - val_acc: 0.9111\n",
      "Epoch 68/200\n",
      "6/6 [==============================] - 0s 5ms/step - loss: 0.4816 - acc: 0.8547 - val_loss: 0.4437 - val_acc: 0.9111\n",
      "Epoch 69/200\n",
      "6/6 [==============================] - 0s 5ms/step - loss: 0.4801 - acc: 0.8547 - val_loss: 0.4423 - val_acc: 0.9111\n",
      "Epoch 70/200\n",
      "6/6 [==============================] - 0s 5ms/step - loss: 0.4787 - acc: 0.8547 - val_loss: 0.4408 - val_acc: 0.9111\n",
      "Epoch 71/200\n",
      "6/6 [==============================] - 0s 5ms/step - loss: 0.4772 - acc: 0.8547 - val_loss: 0.4394 - val_acc: 0.9111\n",
      "Epoch 72/200\n",
      "6/6 [==============================] - 0s 5ms/step - loss: 0.4758 - acc: 0.8547 - val_loss: 0.4380 - val_acc: 0.9111\n",
      "Epoch 73/200\n",
      "6/6 [==============================] - 0s 5ms/step - loss: 0.4744 - acc: 0.8547 - val_loss: 0.4367 - val_acc: 0.9111\n",
      "Epoch 74/200\n",
      "6/6 [==============================] - 0s 6ms/step - loss: 0.4730 - acc: 0.8547 - val_loss: 0.4353 - val_acc: 0.9111\n",
      "Epoch 75/200\n",
      "6/6 [==============================] - 0s 5ms/step - loss: 0.4716 - acc: 0.8547 - val_loss: 0.4340 - val_acc: 0.9111\n",
      "Epoch 76/200\n",
      "6/6 [==============================] - 0s 5ms/step - loss: 0.4702 - acc: 0.8547 - val_loss: 0.4328 - val_acc: 0.9111\n",
      "Epoch 77/200\n",
      "6/6 [==============================] - 0s 5ms/step - loss: 0.4689 - acc: 0.8603 - val_loss: 0.4315 - val_acc: 0.9111\n",
      "Epoch 78/200\n",
      "6/6 [==============================] - 0s 6ms/step - loss: 0.4676 - acc: 0.8603 - val_loss: 0.4303 - val_acc: 0.9111\n",
      "Epoch 79/200\n",
      "6/6 [==============================] - 0s 5ms/step - loss: 0.4663 - acc: 0.8603 - val_loss: 0.4290 - val_acc: 0.9111\n",
      "Epoch 80/200\n",
      "6/6 [==============================] - 0s 5ms/step - loss: 0.4650 - acc: 0.8603 - val_loss: 0.4278 - val_acc: 0.9111\n",
      "Epoch 81/200\n",
      "6/6 [==============================] - 0s 6ms/step - loss: 0.4637 - acc: 0.8603 - val_loss: 0.4265 - val_acc: 0.9111\n",
      "Epoch 82/200\n",
      "6/6 [==============================] - 0s 5ms/step - loss: 0.4624 - acc: 0.8603 - val_loss: 0.4254 - val_acc: 0.9111\n",
      "Epoch 83/200\n",
      "6/6 [==============================] - 0s 9ms/step - loss: 0.4612 - acc: 0.8603 - val_loss: 0.4243 - val_acc: 0.9111\n",
      "Epoch 84/200\n",
      "6/6 [==============================] - 0s 5ms/step - loss: 0.4599 - acc: 0.8603 - val_loss: 0.4233 - val_acc: 0.9111\n",
      "Epoch 85/200\n",
      "6/6 [==============================] - 0s 5ms/step - loss: 0.4587 - acc: 0.8603 - val_loss: 0.4221 - val_acc: 0.9111\n",
      "Epoch 86/200\n",
      "6/6 [==============================] - 0s 5ms/step - loss: 0.4575 - acc: 0.8603 - val_loss: 0.4212 - val_acc: 0.9111\n",
      "Epoch 87/200\n",
      "6/6 [==============================] - 0s 5ms/step - loss: 0.4562 - acc: 0.8603 - val_loss: 0.4201 - val_acc: 0.9111\n",
      "Epoch 88/200\n",
      "6/6 [==============================] - 0s 4ms/step - loss: 0.4550 - acc: 0.8603 - val_loss: 0.4190 - val_acc: 0.9111\n",
      "Epoch 89/200\n",
      "6/6 [==============================] - 0s 6ms/step - loss: 0.4539 - acc: 0.8603 - val_loss: 0.4178 - val_acc: 0.9111\n",
      "Epoch 90/200\n",
      "6/6 [==============================] - 0s 5ms/step - loss: 0.4527 - acc: 0.8603 - val_loss: 0.4168 - val_acc: 0.9111\n",
      "Epoch 91/200\n",
      "6/6 [==============================] - 0s 5ms/step - loss: 0.4515 - acc: 0.8603 - val_loss: 0.4157 - val_acc: 0.9111\n",
      "Epoch 92/200\n",
      "6/6 [==============================] - 0s 6ms/step - loss: 0.4504 - acc: 0.8603 - val_loss: 0.4149 - val_acc: 0.9111\n",
      "Epoch 93/200\n",
      "6/6 [==============================] - 0s 5ms/step - loss: 0.4492 - acc: 0.8547 - val_loss: 0.4139 - val_acc: 0.9111\n",
      "Epoch 94/200\n",
      "6/6 [==============================] - 0s 5ms/step - loss: 0.4481 - acc: 0.8547 - val_loss: 0.4131 - val_acc: 0.9111\n",
      "Epoch 95/200\n",
      "6/6 [==============================] - 0s 5ms/step - loss: 0.4470 - acc: 0.8603 - val_loss: 0.4121 - val_acc: 0.9111\n",
      "Epoch 96/200\n",
      "6/6 [==============================] - 0s 6ms/step - loss: 0.4459 - acc: 0.8603 - val_loss: 0.4109 - val_acc: 0.9111\n",
      "Epoch 97/200\n",
      "6/6 [==============================] - 0s 6ms/step - loss: 0.4448 - acc: 0.8603 - val_loss: 0.4100 - val_acc: 0.9111\n",
      "Epoch 98/200\n",
      "6/6 [==============================] - 0s 5ms/step - loss: 0.4436 - acc: 0.8603 - val_loss: 0.4091 - val_acc: 0.9111\n",
      "Epoch 99/200\n",
      "6/6 [==============================] - 0s 5ms/step - loss: 0.4425 - acc: 0.8603 - val_loss: 0.4082 - val_acc: 0.9111\n",
      "Epoch 100/200\n",
      "6/6 [==============================] - 0s 5ms/step - loss: 0.4415 - acc: 0.8603 - val_loss: 0.4072 - val_acc: 0.9111\n",
      "Epoch 101/200\n",
      "6/6 [==============================] - 0s 5ms/step - loss: 0.4404 - acc: 0.8603 - val_loss: 0.4062 - val_acc: 0.9111\n",
      "Epoch 102/200\n",
      "6/6 [==============================] - 0s 5ms/step - loss: 0.4393 - acc: 0.8603 - val_loss: 0.4052 - val_acc: 0.9111\n",
      "Epoch 103/200\n",
      "6/6 [==============================] - 0s 5ms/step - loss: 0.4383 - acc: 0.8603 - val_loss: 0.4042 - val_acc: 0.9111\n",
      "Epoch 104/200\n",
      "6/6 [==============================] - 0s 5ms/step - loss: 0.4373 - acc: 0.8603 - val_loss: 0.4034 - val_acc: 0.9111\n",
      "Epoch 105/200\n",
      "6/6 [==============================] - 0s 5ms/step - loss: 0.4362 - acc: 0.8603 - val_loss: 0.4026 - val_acc: 0.9111\n",
      "Epoch 106/200\n",
      "6/6 [==============================] - 0s 5ms/step - loss: 0.4352 - acc: 0.8603 - val_loss: 0.4017 - val_acc: 0.9111\n",
      "Epoch 107/200\n",
      "6/6 [==============================] - 0s 4ms/step - loss: 0.4342 - acc: 0.8603 - val_loss: 0.4009 - val_acc: 0.9111\n",
      "Epoch 108/200\n",
      "6/6 [==============================] - 0s 5ms/step - loss: 0.4332 - acc: 0.8603 - val_loss: 0.4001 - val_acc: 0.9111\n",
      "Epoch 109/200\n",
      "6/6 [==============================] - 0s 5ms/step - loss: 0.4321 - acc: 0.8603 - val_loss: 0.3992 - val_acc: 0.9111\n",
      "Epoch 110/200\n",
      "6/6 [==============================] - 0s 4ms/step - loss: 0.4311 - acc: 0.8603 - val_loss: 0.3984 - val_acc: 0.9111\n",
      "Epoch 111/200\n",
      "6/6 [==============================] - 0s 6ms/step - loss: 0.4301 - acc: 0.8603 - val_loss: 0.3976 - val_acc: 0.9111\n",
      "Epoch 112/200\n",
      "6/6 [==============================] - 0s 6ms/step - loss: 0.4292 - acc: 0.8603 - val_loss: 0.3968 - val_acc: 0.9111\n",
      "Epoch 113/200\n",
      "6/6 [==============================] - 0s 5ms/step - loss: 0.4282 - acc: 0.8603 - val_loss: 0.3958 - val_acc: 0.9111\n",
      "Epoch 114/200\n",
      "6/6 [==============================] - 0s 5ms/step - loss: 0.4272 - acc: 0.8603 - val_loss: 0.3950 - val_acc: 0.9111\n",
      "Epoch 115/200\n",
      "6/6 [==============================] - 0s 5ms/step - loss: 0.4262 - acc: 0.8603 - val_loss: 0.3942 - val_acc: 0.9111\n",
      "Epoch 116/200\n",
      "6/6 [==============================] - 0s 6ms/step - loss: 0.4253 - acc: 0.8603 - val_loss: 0.3933 - val_acc: 0.9111\n",
      "Epoch 117/200\n",
      "6/6 [==============================] - 0s 4ms/step - loss: 0.4243 - acc: 0.8659 - val_loss: 0.3925 - val_acc: 0.9111\n",
      "Epoch 118/200\n",
      "6/6 [==============================] - 0s 5ms/step - loss: 0.4234 - acc: 0.8715 - val_loss: 0.3916 - val_acc: 0.9111\n",
      "Epoch 119/200\n",
      "6/6 [==============================] - 0s 5ms/step - loss: 0.4225 - acc: 0.8715 - val_loss: 0.3909 - val_acc: 0.9111\n",
      "Epoch 120/200\n",
      "6/6 [==============================] - 0s 5ms/step - loss: 0.4215 - acc: 0.8715 - val_loss: 0.3903 - val_acc: 0.9111\n",
      "Epoch 121/200\n",
      "6/6 [==============================] - 0s 4ms/step - loss: 0.4207 - acc: 0.8715 - val_loss: 0.3895 - val_acc: 0.9111\n",
      "Epoch 122/200\n",
      "6/6 [==============================] - 0s 5ms/step - loss: 0.4197 - acc: 0.8715 - val_loss: 0.3888 - val_acc: 0.9111\n",
      "Epoch 123/200\n",
      "6/6 [==============================] - 0s 5ms/step - loss: 0.4189 - acc: 0.8715 - val_loss: 0.3879 - val_acc: 0.9111\n",
      "Epoch 124/200\n",
      "6/6 [==============================] - 0s 5ms/step - loss: 0.4180 - acc: 0.8715 - val_loss: 0.3874 - val_acc: 0.9111\n",
      "Epoch 125/200\n",
      "6/6 [==============================] - 0s 5ms/step - loss: 0.4171 - acc: 0.8715 - val_loss: 0.3867 - val_acc: 0.9111\n",
      "Epoch 126/200\n",
      "6/6 [==============================] - 0s 5ms/step - loss: 0.4162 - acc: 0.8715 - val_loss: 0.3859 - val_acc: 0.9111\n",
      "Epoch 127/200\n",
      "6/6 [==============================] - 0s 6ms/step - loss: 0.4153 - acc: 0.8715 - val_loss: 0.3852 - val_acc: 0.9111\n",
      "Epoch 128/200\n",
      "6/6 [==============================] - 0s 5ms/step - loss: 0.4144 - acc: 0.8715 - val_loss: 0.3845 - val_acc: 0.9111\n",
      "Epoch 129/200\n",
      "6/6 [==============================] - 0s 5ms/step - loss: 0.4136 - acc: 0.8715 - val_loss: 0.3838 - val_acc: 0.9111\n",
      "Epoch 130/200\n",
      "6/6 [==============================] - 0s 5ms/step - loss: 0.4127 - acc: 0.8715 - val_loss: 0.3830 - val_acc: 0.9111\n",
      "Epoch 131/200\n",
      "6/6 [==============================] - 0s 6ms/step - loss: 0.4119 - acc: 0.8715 - val_loss: 0.3824 - val_acc: 0.9111\n",
      "Epoch 132/200\n",
      "6/6 [==============================] - 0s 5ms/step - loss: 0.4110 - acc: 0.8715 - val_loss: 0.3819 - val_acc: 0.9111\n",
      "Epoch 133/200\n",
      "6/6 [==============================] - 0s 5ms/step - loss: 0.4102 - acc: 0.8715 - val_loss: 0.3811 - val_acc: 0.9111\n",
      "Epoch 134/200\n",
      "6/6 [==============================] - 0s 5ms/step - loss: 0.4094 - acc: 0.8715 - val_loss: 0.3806 - val_acc: 0.9111\n",
      "Epoch 135/200\n",
      "6/6 [==============================] - 0s 6ms/step - loss: 0.4086 - acc: 0.8715 - val_loss: 0.3800 - val_acc: 0.9111\n",
      "Epoch 136/200\n",
      "6/6 [==============================] - 0s 5ms/step - loss: 0.4077 - acc: 0.8715 - val_loss: 0.3794 - val_acc: 0.9111\n",
      "Epoch 137/200\n",
      "6/6 [==============================] - 0s 5ms/step - loss: 0.4069 - acc: 0.8715 - val_loss: 0.3786 - val_acc: 0.9111\n",
      "Epoch 138/200\n",
      "6/6 [==============================] - 0s 5ms/step - loss: 0.4062 - acc: 0.8715 - val_loss: 0.3780 - val_acc: 0.9111\n",
      "Epoch 139/200\n",
      "6/6 [==============================] - 0s 5ms/step - loss: 0.4053 - acc: 0.8715 - val_loss: 0.3773 - val_acc: 0.9111\n",
      "Epoch 140/200\n",
      "6/6 [==============================] - 0s 5ms/step - loss: 0.4045 - acc: 0.8715 - val_loss: 0.3767 - val_acc: 0.9111\n",
      "Epoch 141/200\n",
      "6/6 [==============================] - 0s 4ms/step - loss: 0.4037 - acc: 0.8715 - val_loss: 0.3759 - val_acc: 0.9111\n",
      "Epoch 142/200\n",
      "6/6 [==============================] - 0s 5ms/step - loss: 0.4030 - acc: 0.8715 - val_loss: 0.3753 - val_acc: 0.9111\n",
      "Epoch 143/200\n",
      "6/6 [==============================] - 0s 5ms/step - loss: 0.4021 - acc: 0.8715 - val_loss: 0.3746 - val_acc: 0.9111\n",
      "Epoch 144/200\n",
      "6/6 [==============================] - 0s 5ms/step - loss: 0.4014 - acc: 0.8715 - val_loss: 0.3738 - val_acc: 0.9111\n",
      "Epoch 145/200\n",
      "6/6 [==============================] - 0s 5ms/step - loss: 0.4006 - acc: 0.8715 - val_loss: 0.3732 - val_acc: 0.9111\n",
      "Epoch 146/200\n",
      "6/6 [==============================] - 0s 5ms/step - loss: 0.3998 - acc: 0.8715 - val_loss: 0.3726 - val_acc: 0.9111\n",
      "Epoch 147/200\n",
      "6/6 [==============================] - 0s 6ms/step - loss: 0.3991 - acc: 0.8715 - val_loss: 0.3719 - val_acc: 0.9111\n",
      "Epoch 148/200\n",
      "6/6 [==============================] - 0s 7ms/step - loss: 0.3983 - acc: 0.8715 - val_loss: 0.3713 - val_acc: 0.9111\n",
      "Epoch 149/200\n",
      "6/6 [==============================] - 0s 5ms/step - loss: 0.3976 - acc: 0.8715 - val_loss: 0.3709 - val_acc: 0.9111\n",
      "Epoch 150/200\n",
      "6/6 [==============================] - 0s 5ms/step - loss: 0.3968 - acc: 0.8715 - val_loss: 0.3702 - val_acc: 0.9111\n",
      "Epoch 151/200\n",
      "6/6 [==============================] - 0s 4ms/step - loss: 0.3961 - acc: 0.8715 - val_loss: 0.3696 - val_acc: 0.9111\n",
      "Epoch 152/200\n",
      "6/6 [==============================] - 0s 4ms/step - loss: 0.3954 - acc: 0.8715 - val_loss: 0.3691 - val_acc: 0.9111\n",
      "Epoch 153/200\n",
      "6/6 [==============================] - 0s 5ms/step - loss: 0.3947 - acc: 0.8715 - val_loss: 0.3683 - val_acc: 0.9111\n",
      "Epoch 154/200\n",
      "6/6 [==============================] - 0s 4ms/step - loss: 0.3939 - acc: 0.8715 - val_loss: 0.3679 - val_acc: 0.9111\n",
      "Epoch 155/200\n",
      "6/6 [==============================] - 0s 5ms/step - loss: 0.3932 - acc: 0.8715 - val_loss: 0.3674 - val_acc: 0.9111\n",
      "Epoch 156/200\n",
      "6/6 [==============================] - 0s 6ms/step - loss: 0.3925 - acc: 0.8715 - val_loss: 0.3669 - val_acc: 0.9111\n",
      "Epoch 157/200\n",
      "6/6 [==============================] - 0s 5ms/step - loss: 0.3918 - acc: 0.8715 - val_loss: 0.3664 - val_acc: 0.9111\n",
      "Epoch 158/200\n",
      "6/6 [==============================] - 0s 5ms/step - loss: 0.3911 - acc: 0.8715 - val_loss: 0.3658 - val_acc: 0.9111\n",
      "Epoch 159/200\n",
      "6/6 [==============================] - 0s 5ms/step - loss: 0.3904 - acc: 0.8715 - val_loss: 0.3652 - val_acc: 0.9111\n",
      "Epoch 160/200\n",
      "6/6 [==============================] - 0s 5ms/step - loss: 0.3897 - acc: 0.8715 - val_loss: 0.3645 - val_acc: 0.9111\n",
      "Epoch 161/200\n",
      "6/6 [==============================] - 0s 5ms/step - loss: 0.3890 - acc: 0.8715 - val_loss: 0.3640 - val_acc: 0.9111\n",
      "Epoch 162/200\n",
      "6/6 [==============================] - 0s 6ms/step - loss: 0.3884 - acc: 0.8715 - val_loss: 0.3634 - val_acc: 0.9111\n",
      "Epoch 163/200\n",
      "6/6 [==============================] - 0s 5ms/step - loss: 0.3877 - acc: 0.8771 - val_loss: 0.3629 - val_acc: 0.9111\n",
      "Epoch 164/200\n",
      "6/6 [==============================] - 0s 5ms/step - loss: 0.3870 - acc: 0.8771 - val_loss: 0.3623 - val_acc: 0.9111\n",
      "Epoch 165/200\n",
      "6/6 [==============================] - 0s 5ms/step - loss: 0.3863 - acc: 0.8771 - val_loss: 0.3618 - val_acc: 0.9111\n",
      "Epoch 166/200\n",
      "6/6 [==============================] - 0s 4ms/step - loss: 0.3857 - acc: 0.8771 - val_loss: 0.3614 - val_acc: 0.9111\n",
      "Epoch 167/200\n",
      "6/6 [==============================] - 0s 4ms/step - loss: 0.3850 - acc: 0.8771 - val_loss: 0.3608 - val_acc: 0.9111\n",
      "Epoch 168/200\n",
      "6/6 [==============================] - 0s 5ms/step - loss: 0.3843 - acc: 0.8771 - val_loss: 0.3603 - val_acc: 0.9111\n",
      "Epoch 169/200\n",
      "6/6 [==============================] - 0s 5ms/step - loss: 0.3837 - acc: 0.8771 - val_loss: 0.3596 - val_acc: 0.9111\n",
      "Epoch 170/200\n",
      "6/6 [==============================] - 0s 5ms/step - loss: 0.3830 - acc: 0.8771 - val_loss: 0.3590 - val_acc: 0.9111\n",
      "Epoch 171/200\n",
      "6/6 [==============================] - 0s 5ms/step - loss: 0.3824 - acc: 0.8771 - val_loss: 0.3585 - val_acc: 0.9111\n",
      "Epoch 172/200\n",
      "6/6 [==============================] - 0s 5ms/step - loss: 0.3817 - acc: 0.8771 - val_loss: 0.3581 - val_acc: 0.9111\n",
      "Epoch 173/200\n",
      "6/6 [==============================] - 0s 5ms/step - loss: 0.3811 - acc: 0.8771 - val_loss: 0.3577 - val_acc: 0.9111\n",
      "Epoch 174/200\n",
      "6/6 [==============================] - 0s 4ms/step - loss: 0.3805 - acc: 0.8771 - val_loss: 0.3571 - val_acc: 0.9111\n",
      "Epoch 175/200\n",
      "6/6 [==============================] - 0s 5ms/step - loss: 0.3798 - acc: 0.8771 - val_loss: 0.3566 - val_acc: 0.9111\n",
      "Epoch 176/200\n",
      "6/6 [==============================] - 0s 5ms/step - loss: 0.3792 - acc: 0.8771 - val_loss: 0.3563 - val_acc: 0.9111\n",
      "Epoch 177/200\n",
      "6/6 [==============================] - 0s 5ms/step - loss: 0.3786 - acc: 0.8771 - val_loss: 0.3560 - val_acc: 0.9111\n",
      "Epoch 178/200\n",
      "6/6 [==============================] - 0s 5ms/step - loss: 0.3780 - acc: 0.8771 - val_loss: 0.3555 - val_acc: 0.9111\n",
      "Epoch 179/200\n",
      "6/6 [==============================] - 0s 5ms/step - loss: 0.3774 - acc: 0.8771 - val_loss: 0.3551 - val_acc: 0.9111\n",
      "Epoch 180/200\n",
      "6/6 [==============================] - 0s 4ms/step - loss: 0.3768 - acc: 0.8771 - val_loss: 0.3546 - val_acc: 0.9111\n",
      "Epoch 181/200\n",
      "6/6 [==============================] - 0s 4ms/step - loss: 0.3762 - acc: 0.8771 - val_loss: 0.3542 - val_acc: 0.9111\n",
      "Epoch 182/200\n",
      "6/6 [==============================] - 0s 5ms/step - loss: 0.3756 - acc: 0.8771 - val_loss: 0.3538 - val_acc: 0.9111\n",
      "Epoch 183/200\n",
      "6/6 [==============================] - 0s 5ms/step - loss: 0.3750 - acc: 0.8771 - val_loss: 0.3532 - val_acc: 0.9111\n",
      "Epoch 184/200\n",
      "6/6 [==============================] - 0s 5ms/step - loss: 0.3744 - acc: 0.8771 - val_loss: 0.3529 - val_acc: 0.9111\n",
      "Epoch 185/200\n",
      "6/6 [==============================] - 0s 5ms/step - loss: 0.3738 - acc: 0.8771 - val_loss: 0.3523 - val_acc: 0.9111\n",
      "Epoch 186/200\n",
      "6/6 [==============================] - 0s 4ms/step - loss: 0.3732 - acc: 0.8771 - val_loss: 0.3518 - val_acc: 0.9111\n",
      "Epoch 187/200\n",
      "6/6 [==============================] - 0s 4ms/step - loss: 0.3727 - acc: 0.8771 - val_loss: 0.3512 - val_acc: 0.9111\n",
      "Epoch 188/200\n",
      "6/6 [==============================] - 0s 4ms/step - loss: 0.3721 - acc: 0.8771 - val_loss: 0.3507 - val_acc: 0.9111\n",
      "Epoch 189/200\n",
      "6/6 [==============================] - 0s 5ms/step - loss: 0.3715 - acc: 0.8771 - val_loss: 0.3502 - val_acc: 0.9111\n",
      "Epoch 190/200\n",
      "6/6 [==============================] - 0s 5ms/step - loss: 0.3710 - acc: 0.8771 - val_loss: 0.3498 - val_acc: 0.9111\n",
      "Epoch 191/200\n",
      "6/6 [==============================] - 0s 5ms/step - loss: 0.3704 - acc: 0.8771 - val_loss: 0.3493 - val_acc: 0.9111\n",
      "Epoch 192/200\n",
      "6/6 [==============================] - 0s 5ms/step - loss: 0.3698 - acc: 0.8771 - val_loss: 0.3489 - val_acc: 0.9111\n",
      "Epoch 193/200\n",
      "6/6 [==============================] - 0s 4ms/step - loss: 0.3693 - acc: 0.8771 - val_loss: 0.3485 - val_acc: 0.9111\n",
      "Epoch 194/200\n",
      "6/6 [==============================] - 0s 5ms/step - loss: 0.3687 - acc: 0.8771 - val_loss: 0.3480 - val_acc: 0.9111\n",
      "Epoch 195/200\n",
      "6/6 [==============================] - 0s 5ms/step - loss: 0.3682 - acc: 0.8771 - val_loss: 0.3476 - val_acc: 0.8889\n",
      "Epoch 196/200\n",
      "6/6 [==============================] - 0s 4ms/step - loss: 0.3676 - acc: 0.8771 - val_loss: 0.3472 - val_acc: 0.8889\n",
      "Epoch 197/200\n",
      "6/6 [==============================] - 0s 5ms/step - loss: 0.3670 - acc: 0.8771 - val_loss: 0.3468 - val_acc: 0.8889\n",
      "Epoch 198/200\n",
      "6/6 [==============================] - 0s 4ms/step - loss: 0.3665 - acc: 0.8771 - val_loss: 0.3463 - val_acc: 0.8889\n",
      "Epoch 199/200\n",
      "6/6 [==============================] - 0s 4ms/step - loss: 0.3660 - acc: 0.8771 - val_loss: 0.3459 - val_acc: 0.8889\n",
      "Epoch 200/200\n",
      "6/6 [==============================] - 0s 5ms/step - loss: 0.3654 - acc: 0.8771 - val_loss: 0.3454 - val_acc: 0.8889\n"
     ]
    }
   ],
   "source": [
    "history = Model.fit(X_train, y_train, epochs = 200, validation_data = (X_test, y_test))"
   ]
  },
  {
   "cell_type": "code",
   "execution_count": 55,
   "metadata": {},
   "outputs": [
    {
     "data": {
      "image/png": "[encoded data removed]",
      "text/plain": [
       "<Figure size 432x288 with 1 Axes>"
      ]
     },
     "metadata": {
      "needs_background": "light"
     },
     "output_type": "display_data"
    },
    {
     "name": "stdout",
     "output_type": "stream",
     "text": [
      "Initial training accuracy with preprocessing is:  0.6536312699317932\n",
      "Final training accuracy with preprocessing is:  0.8770949840545654\n",
      "Initial training loss with preprocessing is:  0.66717129945755\n",
      "Final training loss with preprocessing is:  0.3654406666755676\n"
     ]
    }
   ],
   "source": [
    "#Plotting model history\n",
    "plt.plot(history.history['acc'])\n",
    "plt.plot(history.history['loss'])\n",
    "plt.legend(['Training Accuracy', 'Training Loss'])\n",
    "plt.title('Training History')\n",
    "plt.ylabel('Value')\n",
    "plt.xlabel('epochs')\n",
    "plt.show()\n",
    "print(\"Initial training accuracy with preprocessing is: \", history.history['acc'][0])\n",
    "print(\"Final training accuracy with preprocessing is: \", history.history['acc'][-1])\n",
    "\n",
    "print(\"Initial training loss with preprocessing is: \", history.history['loss'][0])\n",
    "print(\"Final training loss with preprocessing is: \", history.history['loss'][-1])"
   ]
  },
  {
   "cell_type": "code",
   "execution_count": 56,
   "metadata": {},
   "outputs": [
    {
     "data": {
      "image/png": "[encoded data removed]",
      "text/plain": [
       "<Figure size 432x288 with 1 Axes>"
      ]
     },
     "metadata": {
      "needs_background": "light"
     },
     "output_type": "display_data"
    },
    {
     "name": "stdout",
     "output_type": "stream",
     "text": [
      "Initial Validation accuracy is:  0.7111111283302307\n",
      "Best Validation accuracy is:  0.9111111164093018\n",
      "Initial Validation loss is:  0.6540557146072388\n",
      "Best Validation loss is:  0.345386803150177\n"
     ]
    }
   ],
   "source": [
    "#Plotting model history\n",
    "plt.plot(history.history['val_acc'])\n",
    "plt.plot(history.history['val_loss'])\n",
    "plt.legend(['Validation Accuracy', 'Validation Loss'])\n",
    "plt.title('Validation History')\n",
    "plt.ylabel('Value')\n",
    "plt.xlabel('epochs')\n",
    "plt.show()\n",
    "print(\"Initial Validation accuracy is: \", history.history['val_acc'][0])\n",
    "print(\"Best Validation accuracy is: \", max(history.history['val_acc']))\n",
    "\n",
    "print(\"Initial Validation loss is: \", history.history['val_loss'][0])\n",
    "print(\"Best Validation loss is: \", min(history.history['val_loss']))"
   ]
  }
 ],
 "metadata": {
  "kernelspec": {
   "display_name": "Python 3",
   "language": "python",
   "name": "python3"
  },
  "language_info": {
   "codemirror_mode": {
    "name": "ipython",
    "version": 3
   },
   "file_extension": ".py",
   "mimetype": "text/x-python",
   "name": "python",
   "nbconvert_exporter": "python",
   "pygments_lexer": "ipython3",
   "version": "3.7.6"
  }
 },
 "nbformat": 4,
 "nbformat_minor": 4
}
